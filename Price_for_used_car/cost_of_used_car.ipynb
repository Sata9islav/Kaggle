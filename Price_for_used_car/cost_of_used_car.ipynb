{
 "cells": [
  {
   "cell_type": "markdown",
   "id": "872ac7dc",
   "metadata": {},
   "source": [
    "<div class=\"alert alert-info\" style=\"border-radius: 15px; box-shadow: 4px 4px 4px; border: 1px solid \">\n",
    "<font size=\"5\"><b><center>Стоимость поддержанного автомобиля</center></b></font>"
   ]
  },
  {
   "cell_type": "markdown",
   "id": "895e8808",
   "metadata": {},
   "source": [
    "# Описание проекта"
   ]
  },
  {
   "cell_type": "markdown",
   "id": "c6fab3d2",
   "metadata": {},
   "source": [
    "## Задача проекта"
   ]
  },
  {
   "cell_type": "markdown",
   "id": "beb931be",
   "metadata": {},
   "source": [
    "*Разработать модель для предсказания стоимости продажи автомобиля на вторичном рынке*"
   ]
  },
  {
   "cell_type": "markdown",
   "id": "3ada310a",
   "metadata": {},
   "source": [
    "## Описание данных"
   ]
  },
  {
   "cell_type": "markdown",
   "id": "14f80ad6",
   "metadata": {},
   "source": [
    "**train.csv** - *информация о характеристиках автомобилей (~440000), которые будут использоваться в качестве обучающих данных.*\n",
    " \n",
    "**test.csv** - *информация о характеристиках автомобилей (~110000), которые будут использоваться в качестве тестовых данных. Ваша задача - предсказать значение 'sellingprice' для каждого автомобиля из этого датасета.*\n",
    " \n",
    "**sample_submission.csv** - *пример файла предсказаний в правильном формате.*\n",
    " \n",
    "**vin** - *идентификатор автомобиля в тестовом наборе.*\n",
    " \n",
    "**sellingprice** - *Целевой признак. Для каждого автомобиля предскажите числовое значение стоимости продажи.*"
   ]
  },
  {
   "cell_type": "markdown",
   "id": "24b7f998",
   "metadata": {},
   "source": [
    "## Описание полей данных"
   ]
  },
  {
   "cell_type": "markdown",
   "id": "52623d95",
   "metadata": {},
   "source": [
    "**Year:** *Год выпуска автомобиля.*\n",
    "  \n",
    "**Make:** *Марка автомобиля.*\n",
    "\n",
    "**Model:** *издание автомобиля определенной марки.*\n",
    "\n",
    "**Trim:** *Уровни отделки салона автомобиля — это просто разные версии модели.*\n",
    "\n",
    "**Body:** *Тип кузова транспортного средства относится к форме и модели конкретной марки автомобиля.*\n",
    "\n",
    "**Transmission:** *механизм, который передает мощность от двигателя к колесам.*\n",
    "\n",
    "**VIN:** *идентификационный номер транспортного средства.*\n",
    "\n",
    "**State:** *Штат, в котором автомобиль выставлен на аукцион.*\n",
    "\n",
    "**Condition:** *состояние автомобилей на момент аукциона.*\n",
    "\n",
    "**Odometer:** *расстояние, пройденное автомобилем с момента выпуска.*\n",
    "\n",
    "**Color:** *цвет кузова автомобиля.*\n",
    "\n",
    "**Interior:** *цвет салона автомобиля.*\n",
    "\n",
    "**Seller:** *продавец автомобиля, автосалоны.*\n",
    "\n",
    "**mmr:** *рекорд рынка Manhiem, рыночная оценочная цена автомобилей.*\n",
    "\n",
    "**sellingprice:** *цена, по которой автомобиль был продан на аукционе.*\n",
    "\n",
    "**saledate:** *дата продажи автомобиля.*"
   ]
  },
  {
   "cell_type": "markdown",
   "id": "5664893b",
   "metadata": {},
   "source": [
    "# Библиотеки"
   ]
  },
  {
   "cell_type": "raw",
   "id": "51e40f11",
   "metadata": {},
   "source": [
    "pip install vininfo"
   ]
  },
  {
   "cell_type": "raw",
   "id": "55804d16",
   "metadata": {},
   "source": [
    "pip install category_encoders"
   ]
  },
  {
   "cell_type": "raw",
   "id": "d289fa52",
   "metadata": {},
   "source": [
    "pip install python-Levenshtein"
   ]
  },
  {
   "cell_type": "code",
   "execution_count": 1,
   "id": "c511fc52",
   "metadata": {},
   "outputs": [
    {
     "data": {
      "application/vnd.jupyter.widget-view+json": {
       "model_id": "d3af67dd03af42cebc802492d8e3f2c0",
       "version_major": 2,
       "version_minor": 0
      },
      "text/plain": [
       "0it [00:00, ?it/s]"
      ]
     },
     "metadata": {},
     "output_type": "display_data"
    }
   ],
   "source": [
    "import numpy as np\n",
    "import pandas as pd\n",
    "import string\n",
    "from tqdm import tqdm, notebook\n",
    "from tqdm.notebook import tqdm as log_progress\n",
    "from vininfo import Vin\n",
    "\n",
    "from matplotlib.gridspec import GridSpec\n",
    "from matplotlib.patches import Patch\n",
    "import matplotlib.pyplot as plt\n",
    "import seaborn as sns\n",
    "\n",
    "from scipy import stats\n",
    "from scipy.sparse import csr_matrix\n",
    "\n",
    "import category_encoders\n",
    "from sklearn.preprocessing import RobustScaler, OrdinalEncoder\n",
    "\n",
    "from statsmodels import api as sm\n",
    "\n",
    "from sklearn.metrics import mean_absolute_percentage_error\n",
    "from sklearn.model_selection import train_test_split\n",
    "\n",
    "from sklearn.feature_selection import SelectKBest, f_regression\n",
    "\n",
    "from sklearn.linear_model import LinearRegression\n",
    "from catboost import CatBoostRegressor, Pool\n",
    "\n",
    "import warnings\n",
    "warnings.filterwarnings(\"ignore\")\n",
    "notebook.tqdm().pandas()"
   ]
  },
  {
   "cell_type": "markdown",
   "id": "ced63465",
   "metadata": {},
   "source": [
    "# Знакомство с данными"
   ]
  },
  {
   "cell_type": "markdown",
   "id": "08af4367",
   "metadata": {},
   "source": [
    "Загрузим данные и посмотрим на их содержимое"
   ]
  },
  {
   "cell_type": "code",
   "execution_count": 2,
   "id": "fcfd3766",
   "metadata": {},
   "outputs": [],
   "source": [
    "train = pd.read_csv(\"/Users/greygreywolf/Downloads/used-cars-price-prediction-22ds/train.csv\")\n",
    "test = pd.read_csv(\"/Users/greygreywolf/Downloads/used-cars-price-prediction-22ds/test.csv\")"
   ]
  },
  {
   "cell_type": "markdown",
   "id": "35873914",
   "metadata": {},
   "source": [
    "## Тренировочная выборка"
   ]
  },
  {
   "cell_type": "markdown",
   "id": "fff233cb",
   "metadata": {},
   "source": [
    "Рассмотрим тренировчный набор данных."
   ]
  },
  {
   "cell_type": "code",
   "execution_count": 3,
   "id": "6c93a856",
   "metadata": {
    "scrolled": true
   },
   "outputs": [
    {
     "data": {
      "text/html": [
       "<div>\n",
       "<style scoped>\n",
       "    .dataframe tbody tr th:only-of-type {\n",
       "        vertical-align: middle;\n",
       "    }\n",
       "\n",
       "    .dataframe tbody tr th {\n",
       "        vertical-align: top;\n",
       "    }\n",
       "\n",
       "    .dataframe thead th {\n",
       "        text-align: right;\n",
       "    }\n",
       "</style>\n",
       "<table border=\"1\" class=\"dataframe\">\n",
       "  <thead>\n",
       "    <tr style=\"text-align: right;\">\n",
       "      <th></th>\n",
       "      <th>year</th>\n",
       "      <th>make</th>\n",
       "      <th>model</th>\n",
       "      <th>trim</th>\n",
       "      <th>body</th>\n",
       "      <th>transmission</th>\n",
       "      <th>vin</th>\n",
       "      <th>state</th>\n",
       "      <th>condition</th>\n",
       "      <th>odometer</th>\n",
       "      <th>color</th>\n",
       "      <th>interior</th>\n",
       "      <th>seller</th>\n",
       "      <th>sellingprice</th>\n",
       "      <th>saledate</th>\n",
       "    </tr>\n",
       "  </thead>\n",
       "  <tbody>\n",
       "    <tr>\n",
       "      <th>0</th>\n",
       "      <td>2011</td>\n",
       "      <td>Ford</td>\n",
       "      <td>Edge</td>\n",
       "      <td>SEL</td>\n",
       "      <td>suv</td>\n",
       "      <td>automatic</td>\n",
       "      <td>2fmdk3jc4bba41556</td>\n",
       "      <td>md</td>\n",
       "      <td>4.2</td>\n",
       "      <td>111041.0</td>\n",
       "      <td>black</td>\n",
       "      <td>black</td>\n",
       "      <td>santander consumer</td>\n",
       "      <td>12500</td>\n",
       "      <td>Tue Jun 02 2015 02:30:00 GMT-0700 (PDT)</td>\n",
       "    </tr>\n",
       "    <tr>\n",
       "      <th>1</th>\n",
       "      <td>2014</td>\n",
       "      <td>Ford</td>\n",
       "      <td>Fusion</td>\n",
       "      <td>SE</td>\n",
       "      <td>Sedan</td>\n",
       "      <td>automatic</td>\n",
       "      <td>3fa6p0h75er208976</td>\n",
       "      <td>mo</td>\n",
       "      <td>3.5</td>\n",
       "      <td>31034.0</td>\n",
       "      <td>black</td>\n",
       "      <td>black</td>\n",
       "      <td>ars/avis budget group</td>\n",
       "      <td>14500</td>\n",
       "      <td>Wed Feb 25 2015 02:00:00 GMT-0800 (PST)</td>\n",
       "    </tr>\n",
       "    <tr>\n",
       "      <th>2</th>\n",
       "      <td>2012</td>\n",
       "      <td>Nissan</td>\n",
       "      <td>Sentra</td>\n",
       "      <td>2.0 SL</td>\n",
       "      <td>sedan</td>\n",
       "      <td>automatic</td>\n",
       "      <td>3n1ab6ap4cl698412</td>\n",
       "      <td>nj</td>\n",
       "      <td>2.2</td>\n",
       "      <td>35619.0</td>\n",
       "      <td>black</td>\n",
       "      <td>black</td>\n",
       "      <td>nissan-infiniti lt</td>\n",
       "      <td>9100</td>\n",
       "      <td>Wed Jun 10 2015 02:30:00 GMT-0700 (PDT)</td>\n",
       "    </tr>\n",
       "    <tr>\n",
       "      <th>3</th>\n",
       "      <td>2003</td>\n",
       "      <td>HUMMER</td>\n",
       "      <td>H2</td>\n",
       "      <td>Base</td>\n",
       "      <td>suv</td>\n",
       "      <td>automatic</td>\n",
       "      <td>5grgn23u93h101360</td>\n",
       "      <td>tx</td>\n",
       "      <td>2.8</td>\n",
       "      <td>131301.0</td>\n",
       "      <td>gold</td>\n",
       "      <td>beige</td>\n",
       "      <td>wichita falls ford lin inc</td>\n",
       "      <td>13300</td>\n",
       "      <td>Wed Jun 17 2015 03:00:00 GMT-0700 (PDT)</td>\n",
       "    </tr>\n",
       "    <tr>\n",
       "      <th>4</th>\n",
       "      <td>2007</td>\n",
       "      <td>Ford</td>\n",
       "      <td>Fusion</td>\n",
       "      <td>SEL</td>\n",
       "      <td>Sedan</td>\n",
       "      <td>automatic</td>\n",
       "      <td>3fahp08z17r268380</td>\n",
       "      <td>md</td>\n",
       "      <td>2.0</td>\n",
       "      <td>127709.0</td>\n",
       "      <td>black</td>\n",
       "      <td>black</td>\n",
       "      <td>purple heart</td>\n",
       "      <td>1300</td>\n",
       "      <td>Tue Feb 03 2015 04:00:00 GMT-0800 (PST)</td>\n",
       "    </tr>\n",
       "  </tbody>\n",
       "</table>\n",
       "</div>"
      ],
      "text/plain": [
       "   year    make   model    trim   body transmission                vin state  \\\n",
       "0  2011    Ford    Edge     SEL    suv    automatic  2fmdk3jc4bba41556    md   \n",
       "1  2014    Ford  Fusion      SE  Sedan    automatic  3fa6p0h75er208976    mo   \n",
       "2  2012  Nissan  Sentra  2.0 SL  sedan    automatic  3n1ab6ap4cl698412    nj   \n",
       "3  2003  HUMMER      H2    Base    suv    automatic  5grgn23u93h101360    tx   \n",
       "4  2007    Ford  Fusion     SEL  Sedan    automatic  3fahp08z17r268380    md   \n",
       "\n",
       "   condition  odometer  color interior                      seller  \\\n",
       "0        4.2  111041.0  black    black          santander consumer   \n",
       "1        3.5   31034.0  black    black       ars/avis budget group   \n",
       "2        2.2   35619.0  black    black          nissan-infiniti lt   \n",
       "3        2.8  131301.0   gold    beige  wichita falls ford lin inc   \n",
       "4        2.0  127709.0  black    black                purple heart   \n",
       "\n",
       "   sellingprice                                 saledate  \n",
       "0         12500  Tue Jun 02 2015 02:30:00 GMT-0700 (PDT)  \n",
       "1         14500  Wed Feb 25 2015 02:00:00 GMT-0800 (PST)  \n",
       "2          9100  Wed Jun 10 2015 02:30:00 GMT-0700 (PDT)  \n",
       "3         13300  Wed Jun 17 2015 03:00:00 GMT-0700 (PDT)  \n",
       "4          1300  Tue Feb 03 2015 04:00:00 GMT-0800 (PST)  "
      ]
     },
     "execution_count": 3,
     "metadata": {},
     "output_type": "execute_result"
    }
   ],
   "source": [
    "train.head()"
   ]
  },
  {
   "cell_type": "markdown",
   "id": "770c147e",
   "metadata": {},
   "source": [
    "При первичном осмотре видно, что в графе \"Тип кузова (body)\" параметры могут находится в разных регистрах.             \n",
    "А в графе \"Дата продажи (saledate)\" дата указана в разных часовых поясах. Будем учитывать эту информацию при дальнейшей обработке."
   ]
  },
  {
   "cell_type": "markdown",
   "id": "f138709a",
   "metadata": {},
   "source": [
    "Теперь посмотрим на описание тренировочной выборки."
   ]
  },
  {
   "cell_type": "code",
   "execution_count": 4,
   "id": "fb501e48",
   "metadata": {
    "scrolled": true
   },
   "outputs": [
    {
     "name": "stdout",
     "output_type": "stream",
     "text": [
      "<class 'pandas.core.frame.DataFrame'>\n",
      "RangeIndex: 440236 entries, 0 to 440235\n",
      "Data columns (total 15 columns):\n",
      " #   Column        Non-Null Count   Dtype  \n",
      "---  ------        --------------   -----  \n",
      " 0   year          440236 non-null  int64  \n",
      " 1   make          432193 non-null  object \n",
      " 2   model         432113 non-null  object \n",
      " 3   trim          431899 non-null  object \n",
      " 4   body          429843 non-null  object \n",
      " 5   transmission  388775 non-null  object \n",
      " 6   vin           440236 non-null  object \n",
      " 7   state         440236 non-null  object \n",
      " 8   condition     430831 non-null  float64\n",
      " 9   odometer      440167 non-null  float64\n",
      " 10  color         439650 non-null  object \n",
      " 11  interior      439650 non-null  object \n",
      " 12  seller        440236 non-null  object \n",
      " 13  sellingprice  440236 non-null  int64  \n",
      " 14  saledate      440236 non-null  object \n",
      "dtypes: float64(2), int64(2), object(11)\n",
      "memory usage: 50.4+ MB\n"
     ]
    }
   ],
   "source": [
    "train.info()"
   ]
  },
  {
   "cell_type": "markdown",
   "id": "04b94c75",
   "metadata": {},
   "source": [
    "Видно, что в данных есть пропуски, так же неверный тип данных. Например, для колонки \"Дата продажи (saledate)\"."
   ]
  },
  {
   "cell_type": "markdown",
   "id": "6f5ffe2a",
   "metadata": {},
   "source": [
    "## Тестовая выборка"
   ]
  },
  {
   "cell_type": "markdown",
   "id": "35659810",
   "metadata": {},
   "source": [
    "Рассмотрим тестовый набор данных."
   ]
  },
  {
   "cell_type": "code",
   "execution_count": 5,
   "id": "db1d1bdb",
   "metadata": {
    "scrolled": true
   },
   "outputs": [
    {
     "data": {
      "text/html": [
       "<div>\n",
       "<style scoped>\n",
       "    .dataframe tbody tr th:only-of-type {\n",
       "        vertical-align: middle;\n",
       "    }\n",
       "\n",
       "    .dataframe tbody tr th {\n",
       "        vertical-align: top;\n",
       "    }\n",
       "\n",
       "    .dataframe thead th {\n",
       "        text-align: right;\n",
       "    }\n",
       "</style>\n",
       "<table border=\"1\" class=\"dataframe\">\n",
       "  <thead>\n",
       "    <tr style=\"text-align: right;\">\n",
       "      <th></th>\n",
       "      <th>year</th>\n",
       "      <th>make</th>\n",
       "      <th>model</th>\n",
       "      <th>trim</th>\n",
       "      <th>body</th>\n",
       "      <th>transmission</th>\n",
       "      <th>vin</th>\n",
       "      <th>state</th>\n",
       "      <th>condition</th>\n",
       "      <th>odometer</th>\n",
       "      <th>color</th>\n",
       "      <th>interior</th>\n",
       "      <th>seller</th>\n",
       "      <th>saledate</th>\n",
       "    </tr>\n",
       "  </thead>\n",
       "  <tbody>\n",
       "    <tr>\n",
       "      <th>110053</th>\n",
       "      <td>2011</td>\n",
       "      <td>Jeep</td>\n",
       "      <td>Wrangler</td>\n",
       "      <td>Sport</td>\n",
       "      <td>SUV</td>\n",
       "      <td>automatic</td>\n",
       "      <td>1j4aa2d17bl584330</td>\n",
       "      <td>ca</td>\n",
       "      <td>3.8</td>\n",
       "      <td>66085.0</td>\n",
       "      <td>orange</td>\n",
       "      <td>black</td>\n",
       "      <td>dtg operations inc</td>\n",
       "      <td>Thu Jan 15 2015 03:30:00 GMT-0800 (PST)</td>\n",
       "    </tr>\n",
       "    <tr>\n",
       "      <th>110054</th>\n",
       "      <td>2014</td>\n",
       "      <td>Lexus</td>\n",
       "      <td>IS 250</td>\n",
       "      <td>Base</td>\n",
       "      <td>sedan</td>\n",
       "      <td>automatic</td>\n",
       "      <td>jthbf1d23e5007526</td>\n",
       "      <td>fl</td>\n",
       "      <td>4.8</td>\n",
       "      <td>17588.0</td>\n",
       "      <td>gray</td>\n",
       "      <td>black</td>\n",
       "      <td>lexus financial services</td>\n",
       "      <td>Mon Jun 15 2015 11:00:00 GMT-0700 (PDT)</td>\n",
       "    </tr>\n",
       "    <tr>\n",
       "      <th>110055</th>\n",
       "      <td>2004</td>\n",
       "      <td>Nissan</td>\n",
       "      <td>Maxima</td>\n",
       "      <td>3.5 SL</td>\n",
       "      <td>Sedan</td>\n",
       "      <td>automatic</td>\n",
       "      <td>1n4ba41e54c831950</td>\n",
       "      <td>va</td>\n",
       "      <td>2.9</td>\n",
       "      <td>124036.0</td>\n",
       "      <td>silver</td>\n",
       "      <td>gray</td>\n",
       "      <td>shirlie slack mitsubishi</td>\n",
       "      <td>Thu Feb 05 2015 01:35:00 GMT-0800 (PST)</td>\n",
       "    </tr>\n",
       "    <tr>\n",
       "      <th>110056</th>\n",
       "      <td>2013</td>\n",
       "      <td>Nissan</td>\n",
       "      <td>370Z</td>\n",
       "      <td>Base</td>\n",
       "      <td>coupe</td>\n",
       "      <td>manual</td>\n",
       "      <td>jn1az4eh3dm382431</td>\n",
       "      <td>tx</td>\n",
       "      <td>2.2</td>\n",
       "      <td>27169.0</td>\n",
       "      <td>—</td>\n",
       "      <td>black</td>\n",
       "      <td>nissan motor acceptance corporation</td>\n",
       "      <td>Wed Jun 17 2015 03:30:00 GMT-0700 (PDT)</td>\n",
       "    </tr>\n",
       "    <tr>\n",
       "      <th>110057</th>\n",
       "      <td>2012</td>\n",
       "      <td>Chevrolet</td>\n",
       "      <td>Camaro</td>\n",
       "      <td>LS</td>\n",
       "      <td>Coupe</td>\n",
       "      <td>NaN</td>\n",
       "      <td>2g1fa1e32c9193058</td>\n",
       "      <td>pa</td>\n",
       "      <td>3.7</td>\n",
       "      <td>40399.0</td>\n",
       "      <td>blue</td>\n",
       "      <td>black</td>\n",
       "      <td>ingersoll auto of danbury</td>\n",
       "      <td>Fri Jan 09 2015 09:00:00 GMT-0800 (PST)</td>\n",
       "    </tr>\n",
       "  </tbody>\n",
       "</table>\n",
       "</div>"
      ],
      "text/plain": [
       "        year       make     model    trim   body transmission  \\\n",
       "110053  2011       Jeep  Wrangler   Sport    SUV    automatic   \n",
       "110054  2014      Lexus    IS 250    Base  sedan    automatic   \n",
       "110055  2004     Nissan    Maxima  3.5 SL  Sedan    automatic   \n",
       "110056  2013     Nissan      370Z    Base  coupe       manual   \n",
       "110057  2012  Chevrolet    Camaro      LS  Coupe          NaN   \n",
       "\n",
       "                      vin state  condition  odometer   color interior  \\\n",
       "110053  1j4aa2d17bl584330    ca        3.8   66085.0  orange    black   \n",
       "110054  jthbf1d23e5007526    fl        4.8   17588.0    gray    black   \n",
       "110055  1n4ba41e54c831950    va        2.9  124036.0  silver     gray   \n",
       "110056  jn1az4eh3dm382431    tx        2.2   27169.0       —    black   \n",
       "110057  2g1fa1e32c9193058    pa        3.7   40399.0    blue    black   \n",
       "\n",
       "                                     seller  \\\n",
       "110053                   dtg operations inc   \n",
       "110054             lexus financial services   \n",
       "110055             shirlie slack mitsubishi   \n",
       "110056  nissan motor acceptance corporation   \n",
       "110057            ingersoll auto of danbury   \n",
       "\n",
       "                                       saledate  \n",
       "110053  Thu Jan 15 2015 03:30:00 GMT-0800 (PST)  \n",
       "110054  Mon Jun 15 2015 11:00:00 GMT-0700 (PDT)  \n",
       "110055  Thu Feb 05 2015 01:35:00 GMT-0800 (PST)  \n",
       "110056  Wed Jun 17 2015 03:30:00 GMT-0700 (PDT)  \n",
       "110057  Fri Jan 09 2015 09:00:00 GMT-0800 (PST)  "
      ]
     },
     "execution_count": 5,
     "metadata": {},
     "output_type": "execute_result"
    }
   ],
   "source": [
    "test.tail()"
   ]
  },
  {
   "cell_type": "markdown",
   "id": "a0cf191f",
   "metadata": {},
   "source": [
    "Ситуация аналагична тренировочной выборке."
   ]
  },
  {
   "cell_type": "code",
   "execution_count": 6,
   "id": "81a79260",
   "metadata": {
    "scrolled": true
   },
   "outputs": [
    {
     "name": "stdout",
     "output_type": "stream",
     "text": [
      "<class 'pandas.core.frame.DataFrame'>\n",
      "RangeIndex: 110058 entries, 0 to 110057\n",
      "Data columns (total 14 columns):\n",
      " #   Column        Non-Null Count   Dtype  \n",
      "---  ------        --------------   -----  \n",
      " 0   year          110058 non-null  int64  \n",
      " 1   make          107997 non-null  object \n",
      " 2   model         107979 non-null  object \n",
      " 3   trim          107944 non-null  object \n",
      " 4   body          107464 non-null  object \n",
      " 5   transmission  97047 non-null   object \n",
      " 6   vin           110058 non-null  object \n",
      " 7   state         110058 non-null  object \n",
      " 8   condition     107679 non-null  float64\n",
      " 9   odometer      110039 non-null  float64\n",
      " 10  color         109900 non-null  object \n",
      " 11  interior      109900 non-null  object \n",
      " 12  seller        110058 non-null  object \n",
      " 13  saledate      110058 non-null  object \n",
      "dtypes: float64(2), int64(1), object(11)\n",
      "memory usage: 11.8+ MB\n"
     ]
    }
   ],
   "source": [
    "test.info()"
   ]
  },
  {
   "cell_type": "markdown",
   "id": "e6a3c947",
   "metadata": {},
   "source": [
    "В тестовых данных так же есть пропуски и неверный формат данных."
   ]
  },
  {
   "cell_type": "markdown",
   "id": "31ff8335",
   "metadata": {},
   "source": [
    "## Вывод"
   ]
  },
  {
   "cell_type": "markdown",
   "id": "f3a0833c",
   "metadata": {},
   "source": [
    "1. В данных есть пропуски.\n",
    "2. Неверный формат данных.\n",
    "3. Данные в одной колонке могут быть указаны в разном регистре. Буду учитывать это при дальнейшей обработке.\n",
    "4. Некоторые составные названия колонок, такие как: \"saledate\" и \"sellingprice\", для удобства скорректирую в соответствие со snake_case."
   ]
  },
  {
   "cell_type": "markdown",
   "id": "395111b9",
   "metadata": {},
   "source": [
    "# Предварительная обработка данных"
   ]
  },
  {
   "cell_type": "markdown",
   "id": "11f3461c",
   "metadata": {},
   "source": [
    "***От автора: Все функции содержат описание. Если необходимо посмотреть описание, и при этом не возращатся к разделу с функциями можно использовать горячие клавиши \"shift+tab\" (на системе MAC OS/анологичную комбинацию для любой другой OS) выделив функцию.***"
   ]
  },
  {
   "cell_type": "markdown",
   "id": "d995af32",
   "metadata": {},
   "source": [
    "## Функции для предобработки"
   ]
  },
  {
   "cell_type": "markdown",
   "id": "7aa2822c",
   "metadata": {},
   "source": [
    "В этом разделе находятся функции для предварительной обработки"
   ]
  },
  {
   "cell_type": "code",
   "execution_count": 7,
   "id": "ffbbddd5",
   "metadata": {},
   "outputs": [],
   "source": [
    "def str_to_lower(df):\n",
    "    '''Функция меняет регистр текста на нижний для колонок с типом \"object\" переданного датасета.'''\n",
    "    for column in log_progress(df.columns, leave=True):\n",
    "        if (df[column].dtype == 'object'):\n",
    "            df[column] = df[column].str.lower()\n",
    "    return df"
   ]
  },
  {
   "cell_type": "code",
   "execution_count": 8,
   "id": "909ae644",
   "metadata": {},
   "outputs": [],
   "source": [
    "def get_na_for_feature(column):\n",
    "    \"\"\"Функция принимает на вход признак и вывод на экран количество пропусков для него в тренировочном и тестовом наборе.\"\"\"\n",
    "    print(f'Количество пропусков для признака \"{column}\" в train -', train[f'{column}'].isna().sum())\n",
    "    print(f'Количество пропусков для признака \"{column}\" в test -', test[f'{column}'].isna().sum())"
   ]
  },
  {
   "cell_type": "code",
   "execution_count": 9,
   "id": "33bb14b8",
   "metadata": {},
   "outputs": [],
   "source": [
    "def show_lst_in_str(df, column):\n",
    "    \"\"\"Функция примает на вход датасет, признак и вывод на экран строку с уникальными значениями.\"\"\"\n",
    "    string = ', '\n",
    "    lst_wth_uniq = df[column].unique()\n",
    "    lst_wth_uniq = [str(x) for x in lst_wth_uniq]\n",
    "    lst_wth_uniq = sorted(lst_wth_uniq)\n",
    "    string = ', '.join(str(x) for x in lst_wth_uniq)\n",
    "    print(string)"
   ]
  },
  {
   "cell_type": "code",
   "execution_count": 10,
   "id": "7e8fcce1",
   "metadata": {},
   "outputs": [],
   "source": [
    "def get_percent_rat(df, df_name, column):\n",
    "    \"\"\"Функция принимает на вход датасет, строковое название датасета и признак.\n",
    "       И выводит на экран процентное соотношение количества пропусков к общему размеру датасета.\"\"\"\n",
    "    perc = (df[column].isna().sum() / df.shape[0]) * 100\n",
    "    print(f'Количество пропусков в {column} по отношению к общему размеру {df_name} составляет - %.2f' % perc)"
   ]
  },
  {
   "cell_type": "code",
   "execution_count": 11,
   "id": "6b1cd489",
   "metadata": {},
   "outputs": [],
   "source": [
    "def get_dict_wth_mode_for_features(lst_for_group, feature):\n",
    "    '''Функция принимает на вход список колонок по которым будет происходить группировка,\n",
    "       признак по которому будет поиск моды. И возвращает словарь, где ключ - это группировка, а значение - мода для\n",
    "       этой группировки.'''\n",
    "    dct = None\n",
    "    df = None\n",
    "    df = train.groupby(lst_for_group)[feature].agg(lambda x: pd.Series.mode(x,dropna=True)).reset_index()\n",
    "    df[f'{lst_for_group[0]}_and_{lst_for_group[1]}'] = df[f'{lst_for_group[0]}'] + ',' +  df[f'{lst_for_group[1]}']\n",
    "    dct = dict(zip(df[f'{lst_for_group[0]}_and_{lst_for_group[1]}'],df[f'{feature}']))     \n",
    "    return dct"
   ]
  },
  {
   "cell_type": "code",
   "execution_count": 12,
   "id": "20d79f77",
   "metadata": {},
   "outputs": [],
   "source": [
    "def get_dict_wth_median_for_features(lst_for_group, feature):\n",
    "    '''Функция принимает на вход список колонок по которым будет происходить группировка,\n",
    "       признак по которому будет поиск медианы. И возвращает словарь, где ключ - это группировка, а значение - медиана для\n",
    "       этой группировки.'''\n",
    "    dct = None\n",
    "    df = None\n",
    "    df = train.groupby(lst_for_group)[feature].agg('median').reset_index()\n",
    "    df[f'{lst_for_group[0]}_and_{lst_for_group[1]}'] = df[f'{lst_for_group[0]}'].astype(str) + ',' + df[f'{lst_for_group[1]}'].astype(object)\n",
    "    dct = dict(zip(df[f'{lst_for_group[0]}_and_{lst_for_group[1]}'],df[f'{feature}'])) \n",
    "    return dct"
   ]
  },
  {
   "cell_type": "code",
   "execution_count": 13,
   "id": "4de3fc61",
   "metadata": {},
   "outputs": [],
   "source": [
    "def get_val_from_dct(row, dct, feature_first, feature_second, feature_target):\n",
    "    \"\"\"Функция возвращает значение из словаря.\n",
    "       На вход принимает: строку датасет, словарь со значениями\n",
    "                          названия двух признаков в тестовом формате,\n",
    "                          название признака, для которого нужно извлечь значение, в текстовом формате.\"\"\"\n",
    "    val = None\n",
    "    key_for_dct = f'{str(row[feature_first])},{str(row[feature_second])}'\n",
    "    if pd.isna(row[feature_target]):\n",
    "        val = dct.get(key_for_dct, 'other')\n",
    "        if (type(val) == np.ndarray):\n",
    "            shape = val.shape\n",
    "            if shape[0] >= 2:\n",
    "                val = val[0]\n",
    "            elif shape[0] == 0:\n",
    "                val = train[(train['make'] == row['make'])][feature_target].mode()[0]\n",
    "        elif val == 'other':\n",
    "            val = train[(train['make'] == row['make'])][feature_target].mode()[0]\n",
    "    elif ~pd.isna(row[feature_target]):\n",
    "        val = row[feature_target]\n",
    "    return val"
   ]
  },
  {
   "cell_type": "markdown",
   "id": "a5eb1c11",
   "metadata": {},
   "source": [
    "## Общая предобработка"
   ]
  },
  {
   "cell_type": "markdown",
   "id": "9aee6775",
   "metadata": {},
   "source": [
    "Скорректирую составные названия колонок в соотвествие со sanke_case для дальнейшего удобства и переведу регистр текстовых колонок в нижний во избежание ошибок."
   ]
  },
  {
   "cell_type": "code",
   "execution_count": 14,
   "id": "4fe7054c",
   "metadata": {},
   "outputs": [],
   "source": [
    "train.rename(columns = {'saledate':'sale_date', 'sellingprice':'selling_price'}, inplace=True)\n",
    "test.rename(columns = {'saledate':'sale_date'}, inplace=True )"
   ]
  },
  {
   "cell_type": "code",
   "execution_count": 15,
   "id": "15aed08d",
   "metadata": {
    "scrolled": false
   },
   "outputs": [
    {
     "data": {
      "application/vnd.jupyter.widget-view+json": {
       "model_id": "4c6a5fe8ce9449439565be993951def4",
       "version_major": 2,
       "version_minor": 0
      },
      "text/plain": [
       "  0%|          | 0/15 [00:00<?, ?it/s]"
      ]
     },
     "metadata": {},
     "output_type": "display_data"
    },
    {
     "data": {
      "application/vnd.jupyter.widget-view+json": {
       "model_id": "ace8e15a71a1491c88443e77770fc330",
       "version_major": 2,
       "version_minor": 0
      },
      "text/plain": [
       "  0%|          | 0/14 [00:00<?, ?it/s]"
      ]
     },
     "metadata": {},
     "output_type": "display_data"
    }
   ],
   "source": [
    "train = str_to_lower(train)\n",
    "test = str_to_lower(test)"
   ]
  },
  {
   "cell_type": "code",
   "execution_count": 16,
   "id": "421ea066",
   "metadata": {},
   "outputs": [
    {
     "name": "stdout",
     "output_type": "stream",
     "text": [
      " Соотношение общего количество пропусков к размеру датасета - 22.0343179567323\n"
     ]
    }
   ],
   "source": [
    "print(' Соотношение общего количество пропусков к размеру датасета -', (sum(train.isna().sum())/ train.shape[0]) * 100)"
   ]
  },
  {
   "cell_type": "markdown",
   "id": "18caefec",
   "metadata": {},
   "source": [
    "Общее количество пропусков достаточно большое по отношению к общему размеру тренировочной выборки, поэтому просто удалять все сразу не буду. Попробую восстановить пропуски в признаках, если их количество значимо по отношению к размеру датасета. Если корректно востановить невозможно или процент пропусков невелик, то буду удалять во избежание искажения данных."
   ]
  },
  {
   "cell_type": "markdown",
   "id": "b59117bd",
   "metadata": {},
   "source": [
    "## Марка автомобиля (make)"
   ]
  },
  {
   "cell_type": "code",
   "execution_count": 17,
   "id": "3d120b4d",
   "metadata": {
    "scrolled": true
   },
   "outputs": [
    {
     "name": "stdout",
     "output_type": "stream",
     "text": [
      "Количество пропусков для признака \"make\" в train - 8043\n",
      "Количество пропусков для признака \"make\" в test - 2061\n"
     ]
    }
   ],
   "source": [
    "get_na_for_feature('make')"
   ]
  },
  {
   "cell_type": "markdown",
   "id": "adf8671c",
   "metadata": {},
   "source": [
    "В значениях признака присутствует много пропусков. Попробую заполнить их с помощью vin номера. \n",
    "Например, с  4-8 знак в vin номере содержится общий портрет автомобиля (модельном ряд, двигатель...)\n",
    "Для извлечения буду использовать библиотеку vininfo."
   ]
  },
  {
   "cell_type": "code",
   "execution_count": 18,
   "id": "a62cc181",
   "metadata": {
    "scrolled": true
   },
   "outputs": [
    {
     "data": {
      "application/vnd.jupyter.widget-view+json": {
       "model_id": "823ac080ac264a9cb36576edf2117a5e",
       "version_major": 2,
       "version_minor": 0
      },
      "text/plain": [
       "  0%|          | 0/440236 [00:00<?, ?it/s]"
      ]
     },
     "metadata": {},
     "output_type": "display_data"
    },
    {
     "data": {
      "application/vnd.jupyter.widget-view+json": {
       "model_id": "41194ab71e6f4fd999cd9d9c6e69f219",
       "version_major": 2,
       "version_minor": 0
      },
      "text/plain": [
       "  0%|          | 0/110058 [00:00<?, ?it/s]"
      ]
     },
     "metadata": {},
     "output_type": "display_data"
    }
   ],
   "source": [
    "train['make'] = train.progress_apply(lambda row: (Vin(row['vin']).manufacturer).lower() if pd.isna(row['make'])\\\n",
    "                                     else row['make'], axis=1)\n",
    "test['make'] = test.progress_apply(lambda row: (Vin(row['vin']).manufacturer).lower() if pd.isna(row['make'])\\\n",
    "                                     else row['make'], axis=1)"
   ]
  },
  {
   "cell_type": "code",
   "execution_count": 19,
   "id": "16790d54",
   "metadata": {
    "scrolled": true
   },
   "outputs": [
    {
     "name": "stdout",
     "output_type": "stream",
     "text": [
      "Количество пропусков для признака \"make\" в train - 0\n",
      "Количество пропусков для признака \"make\" в test - 0\n"
     ]
    }
   ],
   "source": [
    "get_na_for_feature('make')"
   ]
  },
  {
   "cell_type": "markdown",
   "id": "ba267ea6",
   "metadata": {},
   "source": [
    "Рассмотрим продронее значения признака"
   ]
  },
  {
   "cell_type": "code",
   "execution_count": 20,
   "id": "190f7ce5",
   "metadata": {},
   "outputs": [
    {
     "name": "stdout",
     "output_type": "stream",
     "text": [
      "acura, airstream, am, aston martin, audi, bentley, bmw, bmw m, buick, cadillac, cami, chevrolet, chevrolet canada, chevrolet mexico, chevrolet usa, chrysler, chrysler canada, daewoo, daimler ag (sprinter), daimlerchrysler ag/daimler ag, dodge, dodge canada, dodge mexico, dodge tk, dot, ferrari, fiat, fisker, ford, ford truck, genesis, geo, gmc, gmc truck, honda, hummer, hyundai, infiniti, isuzu, jaguar, jeep, kia, lamborghini, land rover, landrover, lexus, lincoln, maserati, mazda, mazda tk, mercedes, mercedes-b, mercedes-benz, mercedes-benz (sprinter), mercury, mini, mitsubishi, nissan, oldsmobile, plymouth, pontiac, porsche, porsche car, porsche suv, ram, rolls-royce, saab, saturn, scion, smart, subaru, suzuki, tesla, toyota, unsupportedbrand, volkswagen, volkswagen commercial vehicles, volvo, vw\n"
     ]
    }
   ],
   "source": [
    "show_lst_in_str(train, 'make')"
   ]
  },
  {
   "cell_type": "code",
   "execution_count": 21,
   "id": "3f4c2783",
   "metadata": {},
   "outputs": [
    {
     "name": "stdout",
     "output_type": "stream",
     "text": [
      "acura, aston martin, audi, bentley, bmw, buick, cadillac, cami, chev truck, chevrolet, chevrolet canada, chevrolet mexico, chevrolet usa, chrysler, chrysler canada, daewoo, daimlerchrysler ag/daimler ag, dodge, dodge canada, dodge mexico, ferrari, fiat, fisker, ford, ford tk, genesis, geo, gmc, gmc truck, honda, hummer, hyundai, hyundai tk, infiniti, isuzu, jaguar, jeep, kia, land rover, landrover, lexus, lexus canada, lincoln, lotus, maserati, mazda, mercedes, mercedes-benz, mercedes-benz (sprinter), mercury, mini, mitsubishi, nissan, oldsmobile, plymouth, pontiac, porsche, porsche car, ram, rolls-royce, saab, saturn, scion, smart, subaru, suzuki, tesla, toyota, volkswagen, volvo, vw\n"
     ]
    }
   ],
   "source": [
    "show_lst_in_str(test, 'make')"
   ]
  },
  {
   "cell_type": "markdown",
   "id": "8e36f43d",
   "metadata": {},
   "source": [
    "В данных присутствуют неяные дубликаты, например: volkswagen и vw, land rover и  landrover, mazda и  mazda tk (tk обозначает цвет краски) и т.п. Заменим дубликаты.\n",
    "\n",
    "Кроме того в значениях есть:\n",
    " - нераспознанные марки под значением unsupportedbrand. Если таких значений немного, то удалю их.\n",
    " - марка airstream. Это компания производитель домов на колесах. Такие данные могут в дальнейшем ухудшить качество модели. Если строк для этой марки не много, то удалю их.\n",
    " - марка bmw m и lamborghini, они встречаются только в обучающем наборе. В контесте соревнований, удалю эти марки, что бы не создавать шум в данных."
   ]
  },
  {
   "cell_type": "code",
   "execution_count": 22,
   "id": "045e3536",
   "metadata": {},
   "outputs": [],
   "source": [
    "dct_make = {'am': 'hummer',\n",
    "            'chevrolet canada': 'chevrolet', 'chevrolet mexico': 'chevrolet', 'chevrolet usa': 'chevrolet', 'chev truck': 'chevrolet',\n",
    "            'chrysler canada': 'chrysler',\n",
    "            'daimlerchrysler ag/daimler ag': 'mercedes-benz', 'daimler ag (sprinter)': 'mercedes-benz',\n",
    "            'dodge tk': 'dodge', 'dodge mexico': 'dodge', 'dodge canada': 'dodge', 'dot': 'dodge',\n",
    "            'gmc truck': 'gmc',\n",
    "            'ford tk': 'ford', 'ford truck': 'ford',\n",
    "            'hyundai tk': 'hyundai',\n",
    "            'landrover': 'land rover',\n",
    "            'lexus canada': 'lexus',\n",
    "            'mazda tk': 'mazda',\n",
    "            'mercedes-b': 'mercedes-benz', 'mercedes': 'mercedes-benz', 'mercedes-benz (sprinter)': 'mercedes-benz',\n",
    "            'porsche car': 'porsche', 'porsche suv': 'porsche',\n",
    "            'cami': 'toyota',\n",
    "            'vw': 'volkswagen'}"
   ]
  },
  {
   "cell_type": "code",
   "execution_count": 23,
   "id": "a4315b07",
   "metadata": {},
   "outputs": [
    {
     "name": "stdout",
     "output_type": "stream",
     "text": [
      "Количество значений с \"unsupportedbrand\", \"airstream\", \"bmw m\", \"lamborghini\" - 0.002271508917944012\n"
     ]
    }
   ],
   "source": [
    "print('Количество значений с \"unsupportedbrand\", \"airstream\", \"bmw m\", \"lamborghini\" -', (len(train[train['make'].isin(['unsupportedbrand', 'airstream', \"lamborghini\", 'bmw m'])] )/ train.shape[0]) * 100)"
   ]
  },
  {
   "cell_type": "raw",
   "id": "39d64071",
   "metadata": {},
   "source": [
    "train = train[~train['make'].isin(['unsupportedbrand', 'airstream', \"lamborghini\", \"bmw m\"])]"
   ]
  },
  {
   "cell_type": "code",
   "execution_count": 24,
   "id": "5b701e65",
   "metadata": {},
   "outputs": [
    {
     "data": {
      "application/vnd.jupyter.widget-view+json": {
       "model_id": "4c7995fd2dbe4b9085dfe0fbcd374a4c",
       "version_major": 2,
       "version_minor": 0
      },
      "text/plain": [
       "  0%|          | 0/440236 [00:00<?, ?it/s]"
      ]
     },
     "metadata": {},
     "output_type": "display_data"
    },
    {
     "data": {
      "application/vnd.jupyter.widget-view+json": {
       "model_id": "c71e235ef454406a8002c363f5553034",
       "version_major": 2,
       "version_minor": 0
      },
      "text/plain": [
       "  0%|          | 0/110058 [00:00<?, ?it/s]"
      ]
     },
     "metadata": {},
     "output_type": "display_data"
    }
   ],
   "source": [
    "train['make'] = train['make'].progress_apply(lambda x: dct_make[x] if x in dct_make else x)\n",
    "test['make'] = test['make'].progress_apply(lambda x: dct_make[x] if x in dct_make else x)"
   ]
  },
  {
   "cell_type": "code",
   "execution_count": 25,
   "id": "2ff4ae6d",
   "metadata": {
    "scrolled": true
   },
   "outputs": [
    {
     "name": "stdout",
     "output_type": "stream",
     "text": [
      "acura, airstream, aston martin, audi, bentley, bmw, bmw m, buick, cadillac, chevrolet, chrysler, daewoo, dodge, ferrari, fiat, fisker, ford, genesis, geo, gmc, honda, hummer, hyundai, infiniti, isuzu, jaguar, jeep, kia, lamborghini, land rover, lexus, lincoln, maserati, mazda, mercedes-benz, mercury, mini, mitsubishi, nissan, oldsmobile, plymouth, pontiac, porsche, ram, rolls-royce, saab, saturn, scion, smart, subaru, suzuki, tesla, toyota, unsupportedbrand, volkswagen, volkswagen commercial vehicles, volvo\n"
     ]
    }
   ],
   "source": [
    "show_lst_in_str(train, 'make')"
   ]
  },
  {
   "cell_type": "code",
   "execution_count": 26,
   "id": "1c7e35fe",
   "metadata": {},
   "outputs": [
    {
     "name": "stdout",
     "output_type": "stream",
     "text": [
      "acura, aston martin, audi, bentley, bmw, buick, cadillac, chevrolet, chrysler, daewoo, dodge, ferrari, fiat, fisker, ford, genesis, geo, gmc, honda, hummer, hyundai, infiniti, isuzu, jaguar, jeep, kia, land rover, lexus, lincoln, lotus, maserati, mazda, mercedes-benz, mercury, mini, mitsubishi, nissan, oldsmobile, plymouth, pontiac, porsche, ram, rolls-royce, saab, saturn, scion, smart, subaru, suzuki, tesla, toyota, volkswagen, volvo\n"
     ]
    }
   ],
   "source": [
    "show_lst_in_str(test, 'make')"
   ]
  },
  {
   "cell_type": "markdown",
   "id": "3cf6b0d5",
   "metadata": {},
   "source": [
    "## Издание автомобиля (model)"
   ]
  },
  {
   "cell_type": "code",
   "execution_count": 27,
   "id": "289f5c2c",
   "metadata": {},
   "outputs": [
    {
     "name": "stdout",
     "output_type": "stream",
     "text": [
      "Количество пропусков для признака \"model\" в train - 8123\n",
      "Количество пропусков для признака \"model\" в test - 2079\n"
     ]
    }
   ],
   "source": [
    "get_na_for_feature('model')"
   ]
  },
  {
   "cell_type": "markdown",
   "id": "d35b3634",
   "metadata": {},
   "source": [
    "### Корректировка значений моделей марок машин"
   ]
  },
  {
   "cell_type": "code",
   "execution_count": 28,
   "id": "77bdddbe",
   "metadata": {},
   "outputs": [],
   "source": [
    "def replace_duplicates_model_for_make(row, dct, make):\n",
    "    \"\"\"Функция предназначена для замены дубликатов моделей для указаного бренда.\n",
    "       На вход принимает строку, словарь типа {'ложное название модели': \"истинное название модели\"}, бренд.\n",
    "       Возвращает значение.\"\"\"\n",
    "    true_val = 'unknow'\n",
    "    if (row['model'] in list(dct.keys()))&(row['make'] == make):\n",
    "        true_val = dct[row['model']]\n",
    "    else:\n",
    "        true_val = row['model']\n",
    "    return true_val"
   ]
  },
  {
   "cell_type": "code",
   "execution_count": 29,
   "id": "61ddba59",
   "metadata": {},
   "outputs": [],
   "source": [
    "def get_digit_val_of_model(row, make):\n",
    "    val = row['model'] \n",
    "    if (row['make'] == make)&(type(row['model']) == str):\n",
    "        if (row['model'])[0].isdigit():\n",
    "            val = row['model'][0:3]         \n",
    "    return val"
   ]
  },
  {
   "cell_type": "markdown",
   "id": "8c8abb7e",
   "metadata": {},
   "source": [
    "#### ACURA"
   ]
  },
  {
   "cell_type": "code",
   "execution_count": 30,
   "id": "007426a7",
   "metadata": {},
   "outputs": [
    {
     "name": "stdout",
     "output_type": "stream",
     "text": [
      "cl, el, ilx, integra, legend, mdx, nan, rdx, rl, rlx, rsx, tl, tsx, tsx sport wagon, zdx\n"
     ]
    }
   ],
   "source": [
    "show_lst_in_str(train[train['make'] == 'acura'], 'model')"
   ]
  },
  {
   "cell_type": "code",
   "execution_count": 31,
   "id": "3418ac84",
   "metadata": {},
   "outputs": [
    {
     "data": {
      "application/vnd.jupyter.widget-view+json": {
       "model_id": "51ffd73bc3ad4aa3ac24fe5e8c0e5943",
       "version_major": 2,
       "version_minor": 0
      },
      "text/plain": [
       "  0%|          | 0/440236 [00:00<?, ?it/s]"
      ]
     },
     "metadata": {},
     "output_type": "display_data"
    },
    {
     "data": {
      "application/vnd.jupyter.widget-view+json": {
       "model_id": "c323af9e050243d69bcb960e003f3031",
       "version_major": 2,
       "version_minor": 0
      },
      "text/plain": [
       "  0%|          | 0/110058 [00:00<?, ?it/s]"
      ]
     },
     "metadata": {},
     "output_type": "display_data"
    }
   ],
   "source": [
    "train['model'] = train.progress_apply(replace_duplicates_model_for_make, dct={'tsx sport wagon':'tsx',\n",
    "                                                                              'rdx': 'mdx',\n",
    "                                                                              'el': 'integra'}, make='acura', axis=1)\n",
    "test['model'] = test.progress_apply(replace_duplicates_model_for_make, dct={'tsx sport wagon':'tsx',\n",
    "                                                                             'rdx': 'mdx',\n",
    "                                                                             'el': 'integra'}, make='acura', axis=1)"
   ]
  },
  {
   "cell_type": "markdown",
   "id": "6597ad2c",
   "metadata": {},
   "source": [
    "#### AUDI"
   ]
  },
  {
   "cell_type": "code",
   "execution_count": 32,
   "id": "0666f07a",
   "metadata": {},
   "outputs": [
    {
     "name": "stdout",
     "output_type": "stream",
     "text": [
      "a3, a4, a5, a6, a7, a8, allroad, allroad quattro, cabriolet, nan, q3, q5, q7, r8, rs 4, rs 5, rs 6, rs 7, s4, s5, s6, s7, s8, sq5, tt, tt rs, tts\n"
     ]
    }
   ],
   "source": [
    "show_lst_in_str(train[train['make'] == 'audi'], 'model')"
   ]
  },
  {
   "cell_type": "code",
   "execution_count": 33,
   "id": "6cbff093",
   "metadata": {},
   "outputs": [
    {
     "data": {
      "application/vnd.jupyter.widget-view+json": {
       "model_id": "f16959adfee14462af15bafd63c9f5ad",
       "version_major": 2,
       "version_minor": 0
      },
      "text/plain": [
       "  0%|          | 0/440236 [00:00<?, ?it/s]"
      ]
     },
     "metadata": {},
     "output_type": "display_data"
    },
    {
     "data": {
      "application/vnd.jupyter.widget-view+json": {
       "model_id": "438c2283d4b44dff960e33a85dd824b1",
       "version_major": 2,
       "version_minor": 0
      },
      "text/plain": [
       "  0%|          | 0/110058 [00:00<?, ?it/s]"
      ]
     },
     "metadata": {},
     "output_type": "display_data"
    }
   ],
   "source": [
    "train['model'] = train.progress_apply(replace_duplicates_model_for_make, dct={'rs 7':'rs7', 'rs 5': 'rs5',\n",
    "                                                                              'rs 6': 'rs6', 'rs 4': 'rs4',\n",
    "                                                                              'allroad': 'allroad quattro'},\n",
    "                                      make='audi', axis=1)\n",
    "test['model'] = test.progress_apply(replace_duplicates_model_for_make, dct={'rs 7':'rs7', 'rs 5': 'rs5',\n",
    "                                                                            'rs 6': 'rs6', 'rs 4': 'rs4',\n",
    "                                                                            'allroad': 'allroad quattro'},\n",
    "                                    make='audi', axis=1)"
   ]
  },
  {
   "cell_type": "code",
   "execution_count": 34,
   "id": "bbeb0443",
   "metadata": {},
   "outputs": [],
   "source": [
    "train = train[(train['model'] != 'cabriolet')]"
   ]
  },
  {
   "cell_type": "markdown",
   "id": "e69dd2e0",
   "metadata": {},
   "source": [
    "#### NISSAN"
   ]
  },
  {
   "cell_type": "code",
   "execution_count": 35,
   "id": "e164874f",
   "metadata": {},
   "outputs": [
    {
     "data": {
      "text/html": [
       "<div>\n",
       "<style scoped>\n",
       "    .dataframe tbody tr th:only-of-type {\n",
       "        vertical-align: middle;\n",
       "    }\n",
       "\n",
       "    .dataframe tbody tr th {\n",
       "        vertical-align: top;\n",
       "    }\n",
       "\n",
       "    .dataframe thead th {\n",
       "        text-align: right;\n",
       "    }\n",
       "</style>\n",
       "<table border=\"1\" class=\"dataframe\">\n",
       "  <thead>\n",
       "    <tr style=\"text-align: right;\">\n",
       "      <th></th>\n",
       "      <th>year</th>\n",
       "      <th>make</th>\n",
       "      <th>model</th>\n",
       "      <th>trim</th>\n",
       "      <th>body</th>\n",
       "      <th>transmission</th>\n",
       "      <th>vin</th>\n",
       "      <th>state</th>\n",
       "      <th>condition</th>\n",
       "      <th>odometer</th>\n",
       "      <th>color</th>\n",
       "      <th>interior</th>\n",
       "      <th>seller</th>\n",
       "      <th>selling_price</th>\n",
       "      <th>sale_date</th>\n",
       "    </tr>\n",
       "  </thead>\n",
       "  <tbody>\n",
       "    <tr>\n",
       "      <th>13798</th>\n",
       "      <td>2005</td>\n",
       "      <td>nissan</td>\n",
       "      <td>x-trail</td>\n",
       "      <td>le</td>\n",
       "      <td>NaN</td>\n",
       "      <td>NaN</td>\n",
       "      <td>jn8bt08v55w103214</td>\n",
       "      <td>ab</td>\n",
       "      <td>2.0</td>\n",
       "      <td>132822.0</td>\n",
       "      <td>blue</td>\n",
       "      <td>gray</td>\n",
       "      <td>go auto outlet west</td>\n",
       "      <td>4250</td>\n",
       "      <td>thu dec 18 2014 11:30:00 gmt-0800 (pst)</td>\n",
       "    </tr>\n",
       "  </tbody>\n",
       "</table>\n",
       "</div>"
      ],
      "text/plain": [
       "       year    make    model trim body transmission                vin state  \\\n",
       "13798  2005  nissan  x-trail   le  NaN          NaN  jn8bt08v55w103214    ab   \n",
       "\n",
       "       condition  odometer color interior               seller  selling_price  \\\n",
       "13798        2.0  132822.0  blue     gray  go auto outlet west           4250   \n",
       "\n",
       "                                     sale_date  \n",
       "13798  thu dec 18 2014 11:30:00 gmt-0800 (pst)  "
      ]
     },
     "execution_count": 35,
     "metadata": {},
     "output_type": "execute_result"
    }
   ],
   "source": [
    "train[train['model'] == 'x-trail']"
   ]
  },
  {
   "cell_type": "code",
   "execution_count": 36,
   "id": "ba7e0845",
   "metadata": {},
   "outputs": [
    {
     "name": "stdout",
     "output_type": "stream",
     "text": [
      "200sx, 300zx, 350z, 370z, altima, altima hybrid, armada, cube, frontier, gt-r, juke, leaf, maxima, murano, murano crosscabriolet, nan, nv, nv cargo, nv passenger, nv200, pathfind, pathfinder, quest, rogue, rogue select, sentra, titan, truck, versa, versa note, x-trail, xterra\n"
     ]
    }
   ],
   "source": [
    "show_lst_in_str(train[train['make'] == 'nissan'], 'model')"
   ]
  },
  {
   "cell_type": "code",
   "execution_count": 37,
   "id": "900bd5fc",
   "metadata": {},
   "outputs": [
    {
     "data": {
      "application/vnd.jupyter.widget-view+json": {
       "model_id": "45f36d82113546ba9949f07db17dd3db",
       "version_major": 2,
       "version_minor": 0
      },
      "text/plain": [
       "  0%|          | 0/440235 [00:00<?, ?it/s]"
      ]
     },
     "metadata": {},
     "output_type": "display_data"
    },
    {
     "data": {
      "application/vnd.jupyter.widget-view+json": {
       "model_id": "4905fdec3bb54738bfd91abd41f59a5e",
       "version_major": 2,
       "version_minor": 0
      },
      "text/plain": [
       "  0%|          | 0/110058 [00:00<?, ?it/s]"
      ]
     },
     "metadata": {},
     "output_type": "display_data"
    }
   ],
   "source": [
    "train['model'] = train.progress_apply(replace_duplicates_model_for_make, dct={'altima hybrid':'altima',\n",
    "                                                                              'pathfind': 'pathfinder',\n",
    "                                                                              'rogue select': 'rogue',\n",
    "                                                                              'versa note': 'versa',\n",
    "                                                                              'allroad': 'allroad quattro',\n",
    "                                                                              'x-trail': 'rogue'},\n",
    "                                      make='nissan', axis=1)\n",
    "\n",
    "test['model'] = test.progress_apply(replace_duplicates_model_for_make, dct={'altima hybrid':'altima',\n",
    "                                                                            'pathfind': 'pathfinder',\n",
    "                                                                            'rogue select': 'rogue',\n",
    "                                                                            'versa note': 'versa',\n",
    "                                                                            'allroad': 'allroad quattro',\n",
    "                                                                            'x-trail': 'rogue'},\n",
    "                                      make='nissan', axis=1)"
   ]
  },
  {
   "cell_type": "markdown",
   "id": "d62ee0ac",
   "metadata": {},
   "source": [
    "#### BMW"
   ]
  },
  {
   "cell_type": "code",
   "execution_count": 38,
   "id": "8c5dab88",
   "metadata": {},
   "outputs": [
    {
     "name": "stdout",
     "output_type": "stream",
     "text": [
      "1 series, 2 series, 3 series, 3 series gran turismo, 320i, 323i, 328i, 4 series, 4 series gran coupe, 5 series, 5 series gran turismo, 6 series, 6 series gran coupe, 7, 7 series, 750i, 750li, 750lxi, 8 series, activehybrid 5, activehybrid 7, activehybrid x6, alp, i8, m, m3, m4, m5, m6, m6 gran coupe, nan, x1, x3, x4, x5, x5 m, x6, x6 m, z3, z4, z4 m\n"
     ]
    }
   ],
   "source": [
    "show_lst_in_str(train[train['make'] == 'bmw'], 'model')"
   ]
  },
  {
   "cell_type": "code",
   "execution_count": 39,
   "id": "1099defd",
   "metadata": {},
   "outputs": [],
   "source": [
    "def get_model_from_trim(row, lst_models, make):\n",
    "    val = None\n",
    "    if (row['make'] == make) & (row['model'] in lst_models):\n",
    "        val = (str(row['trim']).split())[0]\n",
    "    else:\n",
    "        val = row['model']\n",
    "    return val"
   ]
  },
  {
   "cell_type": "code",
   "execution_count": 40,
   "id": "c54691d4",
   "metadata": {},
   "outputs": [
    {
     "data": {
      "application/vnd.jupyter.widget-view+json": {
       "model_id": "3596cebd16034daebf517e45d8e7d00f",
       "version_major": 2,
       "version_minor": 0
      },
      "text/plain": [
       "  0%|          | 0/440235 [00:00<?, ?it/s]"
      ]
     },
     "metadata": {},
     "output_type": "display_data"
    },
    {
     "data": {
      "application/vnd.jupyter.widget-view+json": {
       "model_id": "7da588d505114f61a2ad98cbdc8a3448",
       "version_major": 2,
       "version_minor": 0
      },
      "text/plain": [
       "  0%|          | 0/110058 [00:00<?, ?it/s]"
      ]
     },
     "metadata": {},
     "output_type": "display_data"
    }
   ],
   "source": [
    "train['model'] = train.progress_apply(get_model_from_trim,\n",
    "                                      lst_models=['1 series', '2 series', '3 series',\n",
    "                                                  '3 series gran turismo', '4 series gran coupe', '4 series',\n",
    "                                                  '5 series', '5 series gran turismo',\n",
    "                                                  '6 series', '6 series gran coupe',\n",
    "                                                  '7 series', '8 series',\n",
    "                                                  'activehybrid', 'activehybrid 5', 'activehybrid 7'],\n",
    "                                      make='bmw', axis=1)\n",
    "\n",
    "test['model'] = test.progress_apply(get_model_from_trim,\n",
    "                                    lst_models=['1 series', '2 series', '3 series',\n",
    "                                                '3 series gran turismo', '4 series gran coupe', '4 series',\n",
    "                                                '5 series', '5 series gran turismo',\n",
    "                                                '6 series', '6 series gran coupe',\n",
    "                                                '7 series', '8 series',\n",
    "                                                'activehybrid', 'activehybrid 5', 'activehybrid 7'],\n",
    "                                     make='bmw', axis=1)"
   ]
  },
  {
   "cell_type": "code",
   "execution_count": 41,
   "id": "53c2bafd",
   "metadata": {},
   "outputs": [
    {
     "data": {
      "application/vnd.jupyter.widget-view+json": {
       "model_id": "f7db3d82244743fa9cb7d25996a71abb",
       "version_major": 2,
       "version_minor": 0
      },
      "text/plain": [
       "  0%|          | 0/440235 [00:00<?, ?it/s]"
      ]
     },
     "metadata": {},
     "output_type": "display_data"
    },
    {
     "data": {
      "application/vnd.jupyter.widget-view+json": {
       "model_id": "e553cc520f0e4c4ba52ecbc8c2d1ef35",
       "version_major": 2,
       "version_minor": 0
      },
      "text/plain": [
       "  0%|          | 0/110058 [00:00<?, ?it/s]"
      ]
     },
     "metadata": {},
     "output_type": "display_data"
    }
   ],
   "source": [
    "train['model'] = train.progress_apply(get_model_from_trim,\n",
    "                                      lst_models=['activehybrid'],\n",
    "                                      make='bmw', axis=1)\n",
    "\n",
    "test['model'] = test.progress_apply(get_model_from_trim,\n",
    "                                    lst_models=['activehybrid'],\n",
    "                                     make='bmw', axis=1)"
   ]
  },
  {
   "cell_type": "code",
   "execution_count": 42,
   "id": "8dc2a12d",
   "metadata": {},
   "outputs": [
    {
     "data": {
      "application/vnd.jupyter.widget-view+json": {
       "model_id": "df1fe63e82b14d2c94ad892f31785135",
       "version_major": 2,
       "version_minor": 0
      },
      "text/plain": [
       "  0%|          | 0/440235 [00:00<?, ?it/s]"
      ]
     },
     "metadata": {},
     "output_type": "display_data"
    },
    {
     "data": {
      "application/vnd.jupyter.widget-view+json": {
       "model_id": "9632ac8f5b8244a9865f9457c4f620d7",
       "version_major": 2,
       "version_minor": 0
      },
      "text/plain": [
       "  0%|          | 0/110058 [00:00<?, ?it/s]"
      ]
     },
     "metadata": {},
     "output_type": "display_data"
    }
   ],
   "source": [
    "train['model'] = train.progress_apply(replace_duplicates_model_for_make, dct={'m6 gran coupe': 'm6',\n",
    "                                                                              'activehybrid x6': 'x6',\n",
    "                                                                              'x6 m': 'x6', 'x5 m': 'x5'}, make='bmw',\n",
    "                                      axis=1)\n",
    "\n",
    "\n",
    "test['model'] = test.progress_apply(replace_duplicates_model_for_make, dct={'m6 gran coupe': 'm6',\n",
    "                                                                            'activehybrid x6': 'x6',\n",
    "                                                                             'x6 m': 'x6', 'x5 m': 'x5'}, make='bmw',\n",
    "                                    axis=1)"
   ]
  },
  {
   "cell_type": "code",
   "execution_count": 43,
   "id": "635763a7",
   "metadata": {},
   "outputs": [
    {
     "data": {
      "application/vnd.jupyter.widget-view+json": {
       "model_id": "21fa6de13cc84d67af3753ea86280340",
       "version_major": 2,
       "version_minor": 0
      },
      "text/plain": [
       "  0%|          | 0/440235 [00:00<?, ?it/s]"
      ]
     },
     "metadata": {},
     "output_type": "display_data"
    },
    {
     "data": {
      "application/vnd.jupyter.widget-view+json": {
       "model_id": "0a48e9b26a944ba29a383c016c5e780c",
       "version_major": 2,
       "version_minor": 0
      },
      "text/plain": [
       "  0%|          | 0/110058 [00:00<?, ?it/s]"
      ]
     },
     "metadata": {},
     "output_type": "display_data"
    }
   ],
   "source": [
    "train['model'] = train.progress_apply(get_digit_val_of_model, make='bmw', axis=1)\n",
    "test['model'] = test.progress_apply(get_digit_val_of_model, make='bmw', axis=1)"
   ]
  },
  {
   "cell_type": "code",
   "execution_count": 44,
   "id": "df4a603c",
   "metadata": {},
   "outputs": [],
   "source": [
    "del get_model_from_trim"
   ]
  },
  {
   "cell_type": "markdown",
   "id": "182139d5",
   "metadata": {},
   "source": [
    "#### CADILLAC"
   ]
  },
  {
   "cell_type": "code",
   "execution_count": 45,
   "id": "abe63704",
   "metadata": {},
   "outputs": [
    {
     "name": "stdout",
     "output_type": "stream",
     "text": [
      "ats, catera, cts, cts coupe, cts wagon, cts-v, cts-v coupe, cts-v wagon, deville, dts, eldorado, elr, escalade, escalade esv, escalade ext, escalade hybrid, fleetwood, nan, seville, srx, sts, sts-v, xlr, xts\n"
     ]
    }
   ],
   "source": [
    "show_lst_in_str(train[train['make'] == 'cadillac'], 'model')"
   ]
  },
  {
   "cell_type": "code",
   "execution_count": 46,
   "id": "ec7eb91c",
   "metadata": {},
   "outputs": [
    {
     "data": {
      "application/vnd.jupyter.widget-view+json": {
       "model_id": "8378dee5baef4ca7886460251abb440a",
       "version_major": 2,
       "version_minor": 0
      },
      "text/plain": [
       "  0%|          | 0/440235 [00:00<?, ?it/s]"
      ]
     },
     "metadata": {},
     "output_type": "display_data"
    },
    {
     "data": {
      "application/vnd.jupyter.widget-view+json": {
       "model_id": "464b7d4d87fe4ccfb1e8585033414c9c",
       "version_major": 2,
       "version_minor": 0
      },
      "text/plain": [
       "  0%|          | 0/110058 [00:00<?, ?it/s]"
      ]
     },
     "metadata": {},
     "output_type": "display_data"
    }
   ],
   "source": [
    "train['model'] = train.progress_apply(replace_duplicates_model_for_make, dct={'escalade hybrid': 'escalade',\n",
    "                                                                              'escalade ext': 'escalade',\n",
    "                                                                              'cts-v coupe': 'cts-v',\n",
    "                                                                              'cts-v wagon': 'cts-v',\n",
    "                                                                              'cts wagon': 'cts',\n",
    "                                                                              'cts coupe':'cts',\n",
    "                                                                              'fleetwood': 'ats'},\n",
    "                                      make='cadillac', axis=1)\n",
    "\n",
    "test['model'] = test.progress_apply(replace_duplicates_model_for_make, dct={'escalade hybrid': 'escalade',\n",
    "                                                                             'escalade ext': 'escalade',\n",
    "                                                                             'cts-v coupe': 'cts-v',\n",
    "                                                                             'cts-v wagon': 'cts-v',\n",
    "                                                                             'cts wagon': 'cts',\n",
    "                                                                             'cts coupe':'cts',\n",
    "                                                                             'fleetwood': 'ats'},\n",
    "                                      make='cadillac', axis=1)"
   ]
  },
  {
   "cell_type": "markdown",
   "id": "b91d1147",
   "metadata": {},
   "source": [
    "#### CHEVROLET"
   ]
  },
  {
   "cell_type": "code",
   "execution_count": 47,
   "id": "87385b9e",
   "metadata": {},
   "outputs": [
    {
     "name": "stdout",
     "output_type": "stream",
     "text": [
      "1500, 2500, 3500, astro, astro cargo, avalanche, aveo, black diamond avalanche, blazer, c/k 1500 series, c/k 2500 series, c/k 3500 series, camaro, caprice, capt, captiva sport, cavalier, classic, cobalt, colorado, comm, corsica, corvette, corvette stingray, cruze, equinox, express, express cargo, g1500, g2500, g3500, hhr, impala, impala limited, lumina, malibu, malibu classic, malibu hybrid, malibu maxx, monte carlo, nan, optra, prizm, s-10, s-10 blazer, s10, silverado 1500, silverado 1500 classic, silverado 1500 hybrid, silverado 1500hd, silverado 2500, silverado 2500hd, silverado 2500hd classic, silverado 3500, silverado 3500 classic, silverado 3500hd, sonic, spark, spark ev, ss, ssr, suburban, tahoe, tahoe hybrid, tahoe limited/z71, tracker, trailblazer, trailblazer ext, traverse, uplander, uplandr, venture, volt\n"
     ]
    }
   ],
   "source": [
    "show_lst_in_str(train[train['make'] == 'chevrolet'], 'model')"
   ]
  },
  {
   "cell_type": "code",
   "execution_count": 48,
   "id": "a2dd4892",
   "metadata": {},
   "outputs": [
    {
     "data": {
      "application/vnd.jupyter.widget-view+json": {
       "model_id": "c8e8e0d8405e44d390fee18b61c381d2",
       "version_major": 2,
       "version_minor": 0
      },
      "text/plain": [
       "  0%|          | 0/440235 [00:00<?, ?it/s]"
      ]
     },
     "metadata": {},
     "output_type": "display_data"
    },
    {
     "data": {
      "application/vnd.jupyter.widget-view+json": {
       "model_id": "9857def4a6ce4c4987025204e9df7660",
       "version_major": 2,
       "version_minor": 0
      },
      "text/plain": [
       "  0%|          | 0/110058 [00:00<?, ?it/s]"
      ]
     },
     "metadata": {},
     "output_type": "display_data"
    }
   ],
   "source": [
    "train['model'] = train.progress_apply(replace_duplicates_model_for_make, dct={'silverado 2500hd classic': 'silverado 2500hd',\n",
    "                                                                              'silverado 3500 classic': 'silverado 3500',\n",
    "                                                                              'silverado 1500 classic': 'silverado 1500',\n",
    "                                                                              '1500':'silverado 1500',\n",
    "                                                                              '2500':'silverado 2500',\n",
    "                                                                              '3500':'silverado 3500',\n",
    "                                                                              'g3500':'express',\n",
    "                                                                              'g1500':'express',\n",
    "                                                                              'silverado 1500 hybrid':'silverado 1500',\n",
    "                                                                              'g2500':'express',\n",
    "                                                                              'capt':'captiva sport',\n",
    "                                                                              'uplandr':'uplander',\n",
    "                                                                              'spark ev':'spark',\n",
    "                                                                              's10':'s-10',\n",
    "                                                                              's-10 blazer':'s-10',\n",
    "                                                                              'classic':'caprice',\n",
    "                                                                              'tahoe limited/z71': 'tahoe',\n",
    "                                                                              'tahoe hybrid': 'tahoe',\n",
    "                                                                              'trailblazer ext': 'trailblazer',\n",
    "                                                                              'astro cargo':'astro',\n",
    "                                                                              'malibu hybrid':'malibu',\n",
    "                                                                              'malibu classic':'malibu',\n",
    "                                                                              'malibu maxx': 'malibu',\n",
    "                                                                              'express cargo':'express',\n",
    "                                                                              'corvette stingray':'corvette',\n",
    "                                                                              'silverado 1500hd':'silverado 1500',\n",
    "                                                                              'silverado 2500hd':'silverado 2500',\n",
    "                                                                              'silverado 3500hd':'silverado 3500'},\n",
    "                                      make='chevrolet', axis=1)\n",
    "\n",
    "test['model'] = test.progress_apply(replace_duplicates_model_for_make, dct={'silverado 2500hd classic': 'silverado 2500hd',\n",
    "                                                                            'silverado 3500 classic': 'silverado 3500',\n",
    "                                                                            'silverado 1500 classic': 'silverado 1500',\n",
    "                                                                            '1500':'silverado 1500',\n",
    "                                                                            '2500':'silverado 2500',\n",
    "                                                                            '3500':'silverado 3500',\n",
    "                                                                            'g3500':'express',\n",
    "                                                                            'g1500':'express',\n",
    "                                                                            'silverado 1500 hybrid':'silverado 1500',\n",
    "                                                                            'g2500':'express',\n",
    "                                                                            'capt':'captiva sport',\n",
    "                                                                            'uplandr':'uplander',\n",
    "                                                                            'spark ev':'spark',\n",
    "                                                                            's10':'s-10',\n",
    "                                                                            's-10 blazer':'s-10',\n",
    "                                                                            'classic':'caprice',\n",
    "                                                                            'tahoe limited/z71': 'tahoe',\n",
    "                                                                            'tahoe hybrid': 'tahoe',\n",
    "                                                                            'trailblazer ext': 'trailblazer',\n",
    "                                                                            'astro cargo':'astro',\n",
    "                                                                            'malibu hybrid':'malibu',\n",
    "                                                                            'malibu classic':'malibu',\n",
    "                                                                            'malibu maxx': 'malibu',\n",
    "                                                                            'express cargo':'express',\n",
    "                                                                            'corvette stingray':'corvette',\n",
    "                                                                            'silverado 1500hd':'silverado 1500',\n",
    "                                                                            'silverado 2500hd':'silverado 2500',\n",
    "                                                                            'silverado 3500hd':'silverado 3500'},\n",
    "                                      make='chevrolet', axis=1)"
   ]
  },
  {
   "cell_type": "code",
   "execution_count": 49,
   "id": "eb4f1f75",
   "metadata": {},
   "outputs": [],
   "source": [
    "train = train[train['model'] != 'comm']"
   ]
  },
  {
   "cell_type": "markdown",
   "id": "53820d46",
   "metadata": {},
   "source": [
    "#### CHRYSLER"
   ]
  },
  {
   "cell_type": "code",
   "execution_count": 50,
   "id": "f3e990f8",
   "metadata": {},
   "outputs": [
    {
     "name": "stdout",
     "output_type": "stream",
     "text": [
      "200, 300, 300m, aspen, cirrus, concorde, crossfire, grand, le baron, lhs, nan, pacifica, prowler, pt, pt cruiser, sebring, town, town and country, twn&country, twn/cntry, voyager\n"
     ]
    }
   ],
   "source": [
    "show_lst_in_str(train[train['make'] == 'chrysler'],'model')"
   ]
  },
  {
   "cell_type": "code",
   "execution_count": 51,
   "id": "481a52f2",
   "metadata": {},
   "outputs": [
    {
     "data": {
      "application/vnd.jupyter.widget-view+json": {
       "model_id": "257b152a39564038a22640b4346cfd89",
       "version_major": 2,
       "version_minor": 0
      },
      "text/plain": [
       "  0%|          | 0/440234 [00:00<?, ?it/s]"
      ]
     },
     "metadata": {},
     "output_type": "display_data"
    },
    {
     "data": {
      "application/vnd.jupyter.widget-view+json": {
       "model_id": "8f225e2976e9434a9bd662a8d7120a27",
       "version_major": 2,
       "version_minor": 0
      },
      "text/plain": [
       "  0%|          | 0/110058 [00:00<?, ?it/s]"
      ]
     },
     "metadata": {},
     "output_type": "display_data"
    }
   ],
   "source": [
    "train['model'] = train.progress_apply(replace_duplicates_model_for_make, dct={'300m':'300',\n",
    "                                                                              'twn&country':'town and country',\n",
    "                                                                              'town':'town and country',\n",
    "                                                                              'twn/cntry':'town and country',\n",
    "                                                                              'pt':'pt cruiser',\n",
    "                                                                              'le baron':'lebaron'},\n",
    "                                      make='chrysler', axis=1)\n",
    "\n",
    "test['model'] = test.progress_apply(replace_duplicates_model_for_make, dct={'300m':'300',\n",
    "                                                                             'twn&country':'town and country',\n",
    "                                                                             'town':'town and country',\n",
    "                                                                             'twn/cntry':'town and country',\n",
    "                                                                             'pt':'pt cruiser',\n",
    "                                                                             'le baron':'lebaron'},\n",
    "                                      make='chrysler', axis=1)"
   ]
  },
  {
   "cell_type": "markdown",
   "id": "b926a11c",
   "metadata": {},
   "source": [
    "#### DODGE"
   ]
  },
  {
   "cell_type": "code",
   "execution_count": 52,
   "id": "9c950bf4",
   "metadata": {},
   "outputs": [
    {
     "name": "stdout",
     "output_type": "stream",
     "text": [
      "avenger, b1500, caliber, caravan, challenger, charger, dakota, dart, durango, gr, grand, grand caravan, intrepid, journey, magnum, nan, neon, nitro, ram, ram cargo, ram pickup 1500, ram pickup 2500, ram pickup 3500, ram van, ram3500, spirit, sprinter, sprinter cargo, stratus, viper\n"
     ]
    }
   ],
   "source": [
    "show_lst_in_str(train[train['make'] == 'dodge'],'model')"
   ]
  },
  {
   "cell_type": "code",
   "execution_count": 53,
   "id": "9fa1b51e",
   "metadata": {},
   "outputs": [
    {
     "data": {
      "application/vnd.jupyter.widget-view+json": {
       "model_id": "570cbd80d29145f4a670fc3c340439a1",
       "version_major": 2,
       "version_minor": 0
      },
      "text/plain": [
       "  0%|          | 0/440234 [00:00<?, ?it/s]"
      ]
     },
     "metadata": {},
     "output_type": "display_data"
    },
    {
     "data": {
      "application/vnd.jupyter.widget-view+json": {
       "model_id": "9d9d52867c8d4842876069585f59d9b5",
       "version_major": 2,
       "version_minor": 0
      },
      "text/plain": [
       "  0%|          | 0/110058 [00:00<?, ?it/s]"
      ]
     },
     "metadata": {},
     "output_type": "display_data"
    }
   ],
   "source": [
    "train['model'] = train.progress_apply(replace_duplicates_model_for_make, dct={'gr':'grand caravan',\n",
    "                                                                              'grand':'grand caravan',\n",
    "                                                                              'sprinter cargo':'sprinter',\n",
    "                                                                              'ram cargo':'ram van',\n",
    "                                                                              'b1500':'ram van',\n",
    "                                                                              'ram3500':'ram pickup 3500'},\n",
    "                                      make='dodge', axis=1)\n",
    "\n",
    "test['model'] = test.progress_apply(replace_duplicates_model_for_make, dct={'gr':'grand caravan',\n",
    "                                                                            'grand':'grand caravan',\n",
    "                                                                            'sprinter cargo':'sprinter',\n",
    "                                                                            'ram cargo':'ram van',\n",
    "                                                                            'b1500':'ram van',\n",
    "                                                                            'ram3500':'ram pickup 3500'},\n",
    "                                     make='dodge', axis=1)"
   ]
  },
  {
   "cell_type": "markdown",
   "id": "a18e55d8",
   "metadata": {},
   "source": [
    "#### FORD"
   ]
  },
  {
   "cell_type": "code",
   "execution_count": 54,
   "id": "891e0d96",
   "metadata": {
    "scrolled": true
   },
   "outputs": [
    {
     "name": "stdout",
     "output_type": "stream",
     "text": [
      "aspire, c-max energi, c-max hybrid, contour, crown, crown victoria, e, e-150, e-250, e-350, e-series van, e-series wagon, e150, e250, e350, econoline cargo, econoline wagon, edge, escape, escape hybrid, escort, excurs, excursion, expedit, expedition, expedition el, expeditn, explorer, explorer sport, explorer sport trac, f-150, f-150 heritage, f-150 svt lightning, f-250, f-250 super duty, f-350 super duty, f-450 super duty, f150, f250, f350, fiesta, five hundred, flex, focus, focus st, freestar, freestyle, fusion, fusion energi, fusion hybrid, mustang, mustang svt cobra, nan, police, ranger, shelby gt500, taurus, taurus x, tempo, thunderbird, transit connect, transit van, transit wagon, windstar, windstar cargo\n"
     ]
    }
   ],
   "source": [
    "show_lst_in_str(train[train['make'] == 'ford'],'model')"
   ]
  },
  {
   "cell_type": "code",
   "execution_count": null,
   "id": "6112f5ae",
   "metadata": {
    "scrolled": true
   },
   "outputs": [
    {
     "data": {
      "application/vnd.jupyter.widget-view+json": {
       "model_id": "5fd5e9757e77411fa1e2b1a7a1a5b0de",
       "version_major": 2,
       "version_minor": 0
      },
      "text/plain": [
       "  0%|          | 0/440234 [00:00<?, ?it/s]"
      ]
     },
     "metadata": {},
     "output_type": "display_data"
    }
   ],
   "source": [
    "train['model'] = train.progress_apply(replace_duplicates_model_for_make, dct={'c-max energi':'c-max',\n",
    "                                                                              'c-max hybrid':'c-max',\n",
    "                                                                              'e-series van':'e-250',\n",
    "                                                                              'e-series wagon':'e-350',\n",
    "                                                                              'explorer sport':'explorer',\n",
    "                                                                              'fusion energi':'fusion',\n",
    "                                                                              'fusion hybrid':'fusion',\n",
    "                                                                              'police':'crown victoria',\n",
    "                                                                              'fusion hybrid':'fusion',\n",
    "                                                                              'explorer sport trac':'explorer sport',\n",
    "                                                                              'f150':'f-150',\n",
    "                                                                              'expedition el':'expedition',\n",
    "                                                                              'expeditn':'expedition',\n",
    "                                                                              'escape hybrid':'escape',\n",
    "                                                                              'focus st':'focus',\n",
    "                                                                              'excurs':'excursion',\n",
    "                                                                              'windstar cargo':'windstar',\n",
    "                                                                              'f-150 heritage':'f-150',\n",
    "                                                                              'f-150 svt lightning':'f-150',\n",
    "                                                                              'f-250':'f-250 super duty',\n",
    "                                                                              'f-350':'f-350 super duty',\n",
    "                                                                              'f250':'f-250 super duty',\n",
    "                                                                              'f350':'f-350 super duty',\n",
    "                                                                              'expedit':'expedition',\n",
    "                                                                              'crown':'crown victoria',\n",
    "                                                                              'taurus x': 'taurus',\n",
    "                                                                              'e150':'e-150', 'e250':'e-250', 'e350':'e-350',\n",
    "                                                                              'econoline cargo':'e-250',\n",
    "                                                                              'econoline wagon':'e-350',\n",
    "                                                                              'e':'e-350'},\n",
    "                                      make='ford', axis=1)\n",
    "\n",
    "test['model'] = test.progress_apply(replace_duplicates_model_for_make, dct={'c-max energi':'c-max',\n",
    "                                                                            'c-max hybrid':'c-max',\n",
    "                                                                            'e-series van':'e-250',\n",
    "                                                                            'e-series wagon':'e-350',\n",
    "                                                                            'explorer sport':'explorer',\n",
    "                                                                            'fusion energi':'fusion',\n",
    "                                                                            'fusion hybrid':'fusion',\n",
    "                                                                            'police':'crown victoria',\n",
    "                                                                            'fusion hybrid':'fusion',\n",
    "                                                                            'explorer sport trac':'explorer sport',\n",
    "                                                                            'f150':'f-150',\n",
    "                                                                            'expedition el':'expedition',\n",
    "                                                                            'expeditn':'expedition',\n",
    "                                                                            'escape hybrid':'escape',\n",
    "                                                                            'focus st':'focus',\n",
    "                                                                            'excurs':'excursion',\n",
    "                                                                            'windstar cargo':'windstar',\n",
    "                                                                            'f-150 heritage':'f-150',\n",
    "                                                                            'f-150 svt lightning':'f-150',\n",
    "                                                                            'f-250':'f-250 super duty',\n",
    "                                                                            'f-350':'f-350 super duty',\n",
    "                                                                            'f250':'f-250 super duty',\n",
    "                                                                            'f350':'f-350 super duty',\n",
    "                                                                            'expedit':'expedition',\n",
    "                                                                            'crown':'crown victoria',\n",
    "                                                                            'taurus x': 'taurus',\n",
    "                                                                            'e150':'e-150', 'e250':'e-250', 'e350':'e-350',\n",
    "                                                                            'econoline cargo':'e-250',\n",
    "                                                                            'econoline wagon':'e-350',\n",
    "                                                                            'e':'e-350'},\n",
    "                                      make='ford', axis=1)"
   ]
  },
  {
   "cell_type": "markdown",
   "id": "ca8d67b2",
   "metadata": {},
   "source": [
    "#### GMC"
   ]
  },
  {
   "cell_type": "code",
   "execution_count": null,
   "id": "bb4f9ce3",
   "metadata": {
    "scrolled": true
   },
   "outputs": [],
   "source": [
    "show_lst_in_str(train[train['make'] == 'gmc'], 'model')"
   ]
  },
  {
   "cell_type": "code",
   "execution_count": null,
   "id": "7fe0da7a",
   "metadata": {},
   "outputs": [],
   "source": [
    "train['model'] = train.progress_apply(replace_duplicates_model_for_make, dct={\"1500\":\"sierra 1500\",\n",
    "                                                                              \"2500\":\"sierra 2500\",\n",
    "                                                                              \"envoy xuv\":\"envoy\",\n",
    "                                                                              \"envoy xl\":\"envoy\",\n",
    "                                                                              \"safari cargo\": \"safari\",\n",
    "                                                                              \"savana cargo\":\"savana\",\n",
    "                                                                              \"sierra 1500 classic\": \"sierra 1500\",\n",
    "                                                                              \"sierra 1500 hybrid\": \"sierra 1500\",\n",
    "                                                                              \"sierra 1500hd\": \"sierra 1500\",\n",
    "                                                                              \"sierra 2500hd\": \"sierra 2500\",\n",
    "                                                                              \"sierra 2500hd classic\":\"sierra 2500\",\n",
    "                                                                              \"sierra 3500hd\":\"sierra 3500\",\n",
    "                                                                              \"subrbn\":\"suburban\",\n",
    "                                                                              \"yukon hybrid\":\"yukon\",\n",
    "                                                                              \"yukon xl\":\"yukon\",\n",
    "                                                                              \"yukon denali\": \"yukon\"},\n",
    "                                      make='gmc', axis=1)\n",
    "\n",
    "\n",
    "test['model'] = test.progress_apply(replace_duplicates_model_for_make, dct={\"1500\":\"sierra 1500\",\n",
    "                                                                            \"2500\":\"sierra 2500\",\n",
    "                                                                            \"envoy xuv\":\"envoy\",\n",
    "                                                                            \"envoy xl\":\"envoy\",\n",
    "                                                                            \"safari cargo\": \"safari\",\n",
    "                                                                            \"savana cargo\":\"savana\",\n",
    "                                                                            \"sierra 1500 classic\": \"sierra 1500\",\n",
    "                                                                            \"sierra 1500 hybrid\": \"sierra 1500\",\n",
    "                                                                            \"sierra 1500hd\": \"sierra 1500\",\n",
    "                                                                            \"sierra 2500hd\": \"sierra 2500\",\n",
    "                                                                            \"sierra 2500hd classic\":\"sierra 2500\",\n",
    "                                                                            \"sierra 3500hd\":\"sierra 3500\",\n",
    "                                                                            \"subrbn\":\"suburban\",\n",
    "                                                                            \"yukon hybrid\":\"yukon\",\n",
    "                                                                            \"yukon xl\":\"yukon\",\n",
    "                                                                            \"yukon denali\": \"yukon\"},\n",
    "                                      make='gmc', axis=1)"
   ]
  },
  {
   "cell_type": "code",
   "execution_count": null,
   "id": "c5ea0f7f",
   "metadata": {},
   "outputs": [],
   "source": [
    "train = train[train['model'] != 'siera']"
   ]
  },
  {
   "cell_type": "markdown",
   "id": "5ff0d8d3",
   "metadata": {},
   "source": [
    "#### HONDA"
   ]
  },
  {
   "cell_type": "code",
   "execution_count": null,
   "id": "e45c0282",
   "metadata": {},
   "outputs": [],
   "source": [
    "show_lst_in_str(train[train['make'] == 'honda'], 'model')"
   ]
  },
  {
   "cell_type": "code",
   "execution_count": null,
   "id": "365263da",
   "metadata": {},
   "outputs": [],
   "source": [
    "train['model'] = train.progress_apply(replace_duplicates_model_for_make, dct={\"crosstour\":\"accord crosstour\",\n",
    "                                                                              \"accord hybrid\":\"accord\",\n",
    "                                                                              \"civic del sol\":\"civic\",\n",
    "                                                                              \"ridgelin\":\"ridgeline\"},\n",
    "                                      make='honda', axis=1)\n",
    "\n",
    "test['model'] = test.progress_apply(replace_duplicates_model_for_make, dct={\"crosstour\":\"accord crosstour\",\n",
    "                                                                            \"accord hybrid\":\"accord\",\n",
    "                                                                            \"civic del sol\":\"civic\",\n",
    "                                                                            \"ridgelin\":\"ridgeline\"},\n",
    "                                      make='honda', axis=1)"
   ]
  },
  {
   "cell_type": "markdown",
   "id": "f2c9b033",
   "metadata": {},
   "source": [
    "#### HYUNDAI"
   ]
  },
  {
   "cell_type": "code",
   "execution_count": null,
   "id": "56b9f35f",
   "metadata": {},
   "outputs": [],
   "source": [
    "show_lst_in_str(train[train['make'] == 'hyundai'], 'model')"
   ]
  },
  {
   "cell_type": "code",
   "execution_count": null,
   "id": "f4319855",
   "metadata": {},
   "outputs": [],
   "source": [
    "train['model'] = train.progress_apply(replace_duplicates_model_for_make, dct={\"santa fe sport\":\"santa fe\",\n",
    "                                                                              \"santa\":\"santa fe\",\n",
    "                                                                              \"genesis coupe\":\"genesis\",\n",
    "                                                                              \"sonata hybrid\":\"sonata\",\n",
    "                                                                              \"elantra coupe\":\"elantra\",\n",
    "                                                                              \"elantra gt\": \"elantra\",\n",
    "                                                                              \"elantra touring\":'elantra'},\n",
    "                                      make='hyundai', axis=1)\n",
    "\n",
    "test['model'] = test.progress_apply(replace_duplicates_model_for_make, dct={\"santa fe sport\":\"santa fe\",\n",
    "                                                                            \"santa\":\"santa fe\",\n",
    "                                                                            \"genesis coupe\":\"genesis\",\n",
    "                                                                            \"sonata hybrid\":\"sonata\",\n",
    "                                                                            \"elantra coupe\":\"elantra\",\n",
    "                                                                            \"elantra gt\": \"elantra\",\n",
    "                                                                            \"elantra touring\":'elantra'},\n",
    "                                      make='hyundai', axis=1)"
   ]
  },
  {
   "cell_type": "markdown",
   "id": "4db18d2d",
   "metadata": {},
   "source": [
    "#### JEEP"
   ]
  },
  {
   "cell_type": "code",
   "execution_count": null,
   "id": "e42c86b8",
   "metadata": {},
   "outputs": [],
   "source": [
    "show_lst_in_str(train[train['make'] == 'jeep'], 'model')"
   ]
  },
  {
   "cell_type": "code",
   "execution_count": null,
   "id": "4cb4d3ee",
   "metadata": {},
   "outputs": [],
   "source": [
    "train['model'] = train.progress_apply(replace_duplicates_model_for_make, dct={\"grand\":\"grand cherokee\",\n",
    "                                                                              \"gr\":\"grand cherokee\",\n",
    "                                                                              \"cherokee\":\"grand cherokee\"},\n",
    "                                      make='jeep', axis=1)\n",
    "\n",
    "test['model'] = test.progress_apply(replace_duplicates_model_for_make, dct={\"grand\":\"grand cherokee\",\n",
    "                                                                            \"gr\":\"grand cherokee\",\n",
    "                                                                            \"cherokee\":\"grand cherokee\"},\n",
    "                                      make='jeep', axis=1)"
   ]
  },
  {
   "cell_type": "markdown",
   "id": "e6e48d95",
   "metadata": {},
   "source": [
    "#### LAND ROVER"
   ]
  },
  {
   "cell_type": "code",
   "execution_count": null,
   "id": "4618266f",
   "metadata": {},
   "outputs": [],
   "source": [
    "show_lst_in_str(train[train['make'] == 'land rover'],'model')"
   ]
  },
  {
   "cell_type": "code",
   "execution_count": null,
   "id": "7bdc1bc3",
   "metadata": {},
   "outputs": [],
   "source": [
    "train['model'] = train.progress_apply(replace_duplicates_model_for_make, dct={\"rr\":\"range rover\",\n",
    "                                                                              \"rrs\":\"range rover sport\",\n",
    "                                                                              \"range\":\"range rover\",\n",
    "                                                                              \"rangerover\": \"range rover\",\n",
    "                                                                              \"discovery series ii\":\"discovery\"},\n",
    "                                      make='land rover', axis=1)\n",
    "\n",
    "test['model'] = test.progress_apply(replace_duplicates_model_for_make, dct={\"rr\":\"range rover\",\n",
    "                                                                            \"rrs\":\"range rover sport\",\n",
    "                                                                            \"range\":\"range rover\",\n",
    "                                                                            \"rangerover\": \"range rover\",\n",
    "                                                                            \"discovery series ii\":\"discovery\"},\n",
    "                                      make='land rover', axis=1)"
   ]
  },
  {
   "cell_type": "markdown",
   "id": "b7c45782",
   "metadata": {},
   "source": [
    "#### LINCOLN"
   ]
  },
  {
   "cell_type": "code",
   "execution_count": null,
   "id": "17bcefb7",
   "metadata": {},
   "outputs": [],
   "source": [
    "show_lst_in_str(train[train['make'] == 'lincoln'],'model')"
   ]
  },
  {
   "cell_type": "code",
   "execution_count": null,
   "id": "fae1fbb0",
   "metadata": {},
   "outputs": [],
   "source": [
    "train['model'] = train.progress_apply(replace_duplicates_model_for_make, dct={\"navigator l\":\"navigator\",\n",
    "                                                                              \"town\":\"town car\",\n",
    "                                                                              \"mkz hybrid\":\"mkz\"},\n",
    "                                      make='lincoln', axis=1)\n",
    "\n",
    "test['model'] = test.progress_apply(replace_duplicates_model_for_make, dct={\"navigator l\":\"navigator\",\n",
    "                                                                             \"town\":\"town car\",\n",
    "                                                                             \"mkz hybrid\":\"mkz\"},\n",
    "                                      make='lincoln', axis=1)"
   ]
  },
  {
   "cell_type": "markdown",
   "id": "ee85bd9c",
   "metadata": {},
   "source": [
    "#### MAZDA"
   ]
  },
  {
   "cell_type": "code",
   "execution_count": null,
   "id": "b171398e",
   "metadata": {},
   "outputs": [],
   "source": [
    "show_lst_in_str(train[train['make'] == 'mazda'],'model')"
   ]
  },
  {
   "cell_type": "code",
   "execution_count": null,
   "id": "829a25e5",
   "metadata": {},
   "outputs": [],
   "source": [
    "def get_model_for_mazda_from_trim(row):\n",
    "    val = None\n",
    "    if (row['make'] == 'mazda') & (row['model'] in ['b-series', 'b-series truck', 'b-series pickup']):\n",
    "        val = row['trim'][0:6]\n",
    "    else:\n",
    "        val = row['model']\n",
    "    return val"
   ]
  },
  {
   "cell_type": "code",
   "execution_count": null,
   "id": "3858a035",
   "metadata": {},
   "outputs": [],
   "source": [
    "train['model'] = train.progress_apply(get_model_for_mazda_from_trim, axis=1)\n",
    "test['model'] = test.progress_apply(get_model_for_mazda_from_trim, axis=1)"
   ]
  },
  {
   "cell_type": "code",
   "execution_count": null,
   "id": "1989a960",
   "metadata": {},
   "outputs": [],
   "source": [
    "train['model'] = train.progress_apply(replace_duplicates_model_for_make, dct={\"mazdaspeed mx-5 miata\":\"mx-5 miata\",\n",
    "                                                                              \"3\":\"mazda3\", \"6\":\"mazda3\", \"rx8\":\"rx-8\",\n",
    "                                                                              'mazdaspeed 3':'mazda3',\n",
    "                                                                              'mazdaspeed mazda3':'mazda3',\n",
    "                                                                              'tribute hybrid':'tribute',\n",
    "                                                                              'mazdaspeed mazda6':'mazda6',\n",
    "                                                                              'mazdaspeed protege':'protege'},\n",
    "                                      make='mazda', axis=1)\n",
    "\n",
    "test['model'] = test.progress_apply(replace_duplicates_model_for_make, dct={\"mazdaspeed mx-5 miata\":\"mx-5 miata\",\n",
    "                                                                            \"3\":\"mazda3\", \"6\":\"mazda3\", \"rx8\":\"rx-8\",\n",
    "                                                                            'mazdaspeed 3':'mazda3',\n",
    "                                                                            'mazdaspeed mazda3':'mazda3',\n",
    "                                                                            'tribute hybrid':'tribute',\n",
    "                                                                            'mazdaspeed mazda6':'mazda6',\n",
    "                                                                            'mazdaspeed protege':'protege'},\n",
    "                                      make='mazda', axis=1)"
   ]
  },
  {
   "cell_type": "code",
   "execution_count": null,
   "id": "ef3a3269",
   "metadata": {},
   "outputs": [],
   "source": [
    "del get_model_for_mazda_from_trim"
   ]
  },
  {
   "cell_type": "markdown",
   "id": "7eb43cd5",
   "metadata": {},
   "source": [
    "#### MERCEDES-BENZ"
   ]
  },
  {
   "cell_type": "code",
   "execution_count": null,
   "id": "7813e771",
   "metadata": {},
   "outputs": [],
   "source": [
    "show_lst_in_str(train[train['make'] == 'mercedes-benz'],'model')"
   ]
  },
  {
   "cell_type": "code",
   "execution_count": null,
   "id": "2ff4c840",
   "metadata": {},
   "outputs": [],
   "source": [
    "def get_model_for_mercedes_from_trim(row):\n",
    "    val = None\n",
    "    if (row['make'] == 'mercedes-benz') & (row['model'] in ['gl-class', 'e-class', 'sl-class', 'r-class', 'm-class',\n",
    "                                                            'c-class', 'slk-class', 'cls-class', 's-class',\n",
    "                                                            'glk-class', 'clk-class', 'g-class', 'cl-class',\n",
    "                                                            'cla-class', '500-class', 'gla-class', '300-class',\n",
    "                                                            '420-class', 'b-class electric drive',\n",
    "                                                            '400-class', '190-class']):\n",
    "        val = (str(row['trim']).split())[0]\n",
    "    else:\n",
    "        val = row['model']\n",
    "    return val"
   ]
  },
  {
   "cell_type": "code",
   "execution_count": null,
   "id": "e6f52e58",
   "metadata": {},
   "outputs": [],
   "source": [
    "train['model'] = train.progress_apply(get_model_for_mercedes_from_trim, axis=1)\n",
    "test['model'] = test.progress_apply(get_model_for_mercedes_from_trim, axis=1)"
   ]
  },
  {
   "cell_type": "code",
   "execution_count": null,
   "id": "2551de36",
   "metadata": {},
   "outputs": [],
   "source": [
    "train['model'] = train.progress_apply(replace_duplicates_model_for_make, dct={\"c230wz\":\"c230\",\n",
    "                                                                              \"c240w\":\"c240\",\n",
    "                                                                              'c240s':'c240',\n",
    "                                                                              'c400':'s400'},\n",
    "                                      make='mercedes-benz', axis=1)\n",
    "\n",
    "test['model'] = test.progress_apply(replace_duplicates_model_for_make, dct={\"c230wz\":\"c230\",\n",
    "                                                                            \"c240w\":\"c240\",\n",
    "                                                                            'c240s':'c240',\n",
    "                                                                            'c400':'s400'},\n",
    "                                    make='mercedes-benz', axis=1)"
   ]
  },
  {
   "cell_type": "code",
   "execution_count": null,
   "id": "37c0f16f",
   "metadata": {},
   "outputs": [],
   "source": [
    "del get_model_for_mercedes_from_trim"
   ]
  },
  {
   "cell_type": "markdown",
   "id": "c09b32c8",
   "metadata": {},
   "source": [
    "#### MERCURY"
   ]
  },
  {
   "cell_type": "code",
   "execution_count": null,
   "id": "6faa2988",
   "metadata": {},
   "outputs": [],
   "source": [
    "show_lst_in_str(train[train['make'] == 'mercury'],'model')"
   ]
  },
  {
   "cell_type": "code",
   "execution_count": null,
   "id": "bba389f5",
   "metadata": {},
   "outputs": [],
   "source": [
    "train['model'] = train.progress_apply(replace_duplicates_model_for_make, dct={\"mountnr\":\"mountaineer\",\n",
    "                                                                              \"grand\":\"grand marquis\",\n",
    "                                                                              'mariner hybrid':'mariner',\n",
    "                                                                              'milan hybrid':'milan',\n",
    "                                                                              'mountnr':'mountaineer'},\n",
    "                                      make='mercury', axis=1)\n",
    "\n",
    "test['model'] = test.progress_apply(replace_duplicates_model_for_make, dct={\"mountnr\":\"mountaineer\",\n",
    "                                                                            \"grand\":\"grand marquis\",\n",
    "                                                                            'mariner hybrid':'mariner',\n",
    "                                                                            'milan hybrid':'milan',\n",
    "                                                                            'mountnr':'mountaineer'},\n",
    "                                    make='mercury', axis=1)"
   ]
  },
  {
   "cell_type": "markdown",
   "id": "fe9e9fdd",
   "metadata": {},
   "source": [
    "#### LEXUS"
   ]
  },
  {
   "cell_type": "code",
   "execution_count": null,
   "id": "dac53d0a",
   "metadata": {},
   "outputs": [],
   "source": [
    "show_lst_in_str(train[train['make'] == 'lexus'],'model')"
   ]
  },
  {
   "cell_type": "code",
   "execution_count": null,
   "id": "79210797",
   "metadata": {},
   "outputs": [],
   "source": [
    "train['model'] = train.progress_apply(replace_duplicates_model_for_make, dct={\"gx\":\"gx 470\",\n",
    "                                                                              \"lx\":\"lx 470\"},\n",
    "                                      make='lexus', axis=1)\n",
    "\n",
    "test['model'] = test.progress_apply(replace_duplicates_model_for_make, dct={\"gx\":\"gx 470\",\n",
    "                                                                              \"lx\":\"lx 470\"},\n",
    "                                    make='lexus', axis=1)"
   ]
  },
  {
   "cell_type": "markdown",
   "id": "fbfa79b8",
   "metadata": {},
   "source": [
    "#### BENTLEY"
   ]
  },
  {
   "cell_type": "code",
   "execution_count": null,
   "id": "131a77db",
   "metadata": {},
   "outputs": [],
   "source": [
    "show_lst_in_str(train[train['make'] == 'bentley'], 'model')"
   ]
  },
  {
   "cell_type": "code",
   "execution_count": null,
   "id": "b5e867db",
   "metadata": {},
   "outputs": [],
   "source": [
    "train['model'] = train.progress_apply(replace_duplicates_model_for_make, dct={\"continental gtc speed\":\"continental gtc\",\n",
    "                                                                              \"continental gt speed\":\"continental gt\",\n",
    "                                                                              'flying spur':'continental flying spur',\n",
    "                                                                              'continental flying spur speed':'continental flying spur'},\n",
    "                                      make='bentley', axis=1)\n",
    "\n",
    "test['model'] = test.progress_apply(replace_duplicates_model_for_make, dct={\"continental gtc speed\":\"continental gtc\",\n",
    "                                                                              \"continental gt speed\":\"continental gt\",\n",
    "                                                                              'flying spur':'continental flying spur',\n",
    "                                                                              'continental flying spur speed':'continental flying spur'},\n",
    "                                    make='bentley', axis=1)"
   ]
  },
  {
   "cell_type": "markdown",
   "id": "aacaae63",
   "metadata": {},
   "source": [
    "#### DAEWOO"
   ]
  },
  {
   "cell_type": "code",
   "execution_count": null,
   "id": "244530a2",
   "metadata": {},
   "outputs": [],
   "source": [
    "show_lst_in_str(train[train['make'] == 'daewoo'], 'model')"
   ]
  },
  {
   "cell_type": "markdown",
   "id": "f3102beb",
   "metadata": {},
   "source": [
    "#### PONTIAC"
   ]
  },
  {
   "cell_type": "code",
   "execution_count": null,
   "id": "a9cd9ebe",
   "metadata": {},
   "outputs": [],
   "source": [
    "show_lst_in_str(train[train['make'] == 'pontiac'], 'model')"
   ]
  },
  {
   "cell_type": "code",
   "execution_count": null,
   "id": "cde8ddcb",
   "metadata": {},
   "outputs": [],
   "source": [
    "train['model'] = train.progress_apply(replace_duplicates_model_for_make, dct={\"grand am\":\"grand\",\n",
    "                                                                              \"grand prix\": \"grand\",\n",
    "                                                                              \"montana sv6\":\"montana\",\n",
    "                                                                              'flying spur':'continental flying spur',\n",
    "                                                                              'continental flying spur speed':'continental flying spur',\n",
    "                                                                              'pursuit':'g5'},\n",
    "                                      make='pontiac', axis=1)\n",
    "\n",
    "test['model'] = test.progress_apply(replace_duplicates_model_for_make, dct={\"grand am\":\"grand\",\n",
    "                                                                            \"grand prix\": \"grand\",\n",
    "                                                                            \"montana sv6\":\"montana\",\n",
    "                                                                            'flying spur':'continental flying spur',\n",
    "                                                                            'continental flying spur speed':'continental flying spur',\n",
    "                                                                            'pursuit':'g5'},\n",
    "                                    make='pontiac', axis=1)"
   ]
  },
  {
   "cell_type": "markdown",
   "id": "4863fd60",
   "metadata": {},
   "source": [
    "#### GENESIS"
   ]
  },
  {
   "cell_type": "markdown",
   "id": "f326f409",
   "metadata": {},
   "source": [
    "Наблюдение по марке Genesis.\n",
    "\n",
    "Первоначально Genesis выпускался под маркой Hyundai. Бренд Genesis был официально объявлен независимой маркой 4 ноября 2015 года, выпустив свою первую автономную модель Genesis, Genesis G90, в 2017 году. А значит до 2014 года был не Genesis, а Hyundai Genesis."
   ]
  },
  {
   "cell_type": "code",
   "execution_count": null,
   "id": "4a6c5198",
   "metadata": {},
   "outputs": [],
   "source": [
    "train.loc[(train['year'] <= 2014) & (train['make'] == 'genesis'), 'model'] = 'genesis'\n",
    "train.loc[(train['year'] <= 2014) & (train['model'] == 'genesis'), 'make'] = 'hyundai'\n",
    "\n",
    "test.loc[(test['year'] <= 2014) & (test['make'] == 'genesis'), 'model'] = 'genesis'\n",
    "test.loc[(test['year'] <= 2014) & (test['model'] == 'genesis'), 'make'] = 'hyundai'"
   ]
  },
  {
   "cell_type": "markdown",
   "id": "0ae5ae0c",
   "metadata": {},
   "source": [
    "### Заполнение пропусков"
   ]
  },
  {
   "cell_type": "markdown",
   "id": "f59fd276",
   "metadata": {},
   "source": [
    "Для каждой модели авто в каждой стране могло выпускаться несколько модификаций. \n",
    "Так , например Subaru выпустила специализированный автомобиль для Национального лыжного патруля на базе 2.5XT turbo. Во много тип модификации зависил от рынка потребителей в каждой стране.\n",
    "\n",
    "Для заполнение пропусков тестовой выборке введу дополнительный признак \"страна производства\". Страна производитель зашифрована в номере vin, для извлечения воспользуюсь библиотекой vininfo.\n",
    "Заполнять буду модой по групперовке страна, марка."
   ]
  },
  {
   "cell_type": "code",
   "execution_count": null,
   "id": "2b2d1ce8",
   "metadata": {},
   "outputs": [],
   "source": [
    "get_percent_rat(train, 'train', 'model')"
   ]
  },
  {
   "cell_type": "code",
   "execution_count": null,
   "id": "715cc87e",
   "metadata": {},
   "outputs": [],
   "source": [
    "train.dropna(subset=['model'], inplace=True)\n",
    "train['country'] = train['vin'].progress_apply(lambda x: Vin(x).country)\n",
    "test['country'] = test['vin'].progress_apply(lambda x: Vin(x).country)"
   ]
  },
  {
   "cell_type": "code",
   "execution_count": null,
   "id": "af28c74d",
   "metadata": {},
   "outputs": [],
   "source": [
    "dct_mode_model = get_dict_wth_mode_for_features(['country', 'make'], 'model')\n",
    "test['model'] = test.progress_apply(get_val_from_dct, dct=dct_mode_model,\n",
    "                                    feature_first='country', feature_second='make',\n",
    "                                    feature_target='model', axis=1)"
   ]
  },
  {
   "cell_type": "code",
   "execution_count": null,
   "id": "4ee68d2c",
   "metadata": {
    "scrolled": true
   },
   "outputs": [],
   "source": [
    "show_lst_in_str(test, 'model')"
   ]
  },
  {
   "cell_type": "markdown",
   "id": "5a541b1e",
   "metadata": {},
   "source": [
    "## Уровни отделки салона автомобиля (trim)"
   ]
  },
  {
   "cell_type": "code",
   "execution_count": null,
   "id": "5d5e3a09",
   "metadata": {},
   "outputs": [],
   "source": [
    "get_na_for_feature('trim')"
   ]
  },
  {
   "cell_type": "markdown",
   "id": "1f70c9ba",
   "metadata": {},
   "source": [
    "VIN-код используется для идентификации автомобиля и его характеристик, но не содержит информации о его отделке.\n",
    "\n",
    "Уровень отделки салона автомобиля зависит от многих факторов, таких как марка и модель автомобиля, комплектация и бюджет владельца.\n",
    "\n",
    "Некоторые из факторов, которые могут повлиять на уровень отделки салона, включают в себя материалы отделки, качество сборки, наличие дополнительных функций, таких как подогрев сидений, кондиционер, аудиосистема и т.д., а также стоимость автомобиля.\n",
    "\n",
    "Например, автомобили высокого класса могут иметь более дорогие материалы отделки, такие как натуральная кожа или алькантара, а также более сложные системы безопасности и комфорта. Автомобили среднего класса могут иметь менее дорогие материалы отделки и более простые функции."
   ]
  },
  {
   "cell_type": "code",
   "execution_count": null,
   "id": "ee67b23c",
   "metadata": {},
   "outputs": [],
   "source": [
    "get_percent_rat(train, 'train', 'trim')"
   ]
  },
  {
   "cell_type": "code",
   "execution_count": null,
   "id": "3cde8a59",
   "metadata": {},
   "outputs": [],
   "source": [
    "train.dropna(subset=['trim'], inplace=True)\n",
    "dct_mode_trim = get_dict_wth_mode_for_features(['make', 'model'], 'trim')"
   ]
  },
  {
   "cell_type": "code",
   "execution_count": null,
   "id": "2dcf66a3",
   "metadata": {},
   "outputs": [],
   "source": [
    "test['trim'] = test.progress_apply(get_val_from_dct, dct=dct_mode_trim,\n",
    "                                   feature_first='make', feature_second='model',\n",
    "                                   feature_target='trim', axis=1)"
   ]
  },
  {
   "cell_type": "code",
   "execution_count": null,
   "id": "ea6fcabd",
   "metadata": {},
   "outputs": [],
   "source": [
    "show_lst_in_str(test, 'trim')"
   ]
  },
  {
   "cell_type": "code",
   "execution_count": null,
   "id": "0baee925",
   "metadata": {},
   "outputs": [],
   "source": [
    "del dct_mode_trim"
   ]
  },
  {
   "cell_type": "markdown",
   "id": "50d5c414",
   "metadata": {},
   "source": [
    "## Тип кузова (body)"
   ]
  },
  {
   "cell_type": "code",
   "execution_count": null,
   "id": "e4ac0cd4",
   "metadata": {},
   "outputs": [],
   "source": [
    "get_na_for_feature('body')"
   ]
  },
  {
   "cell_type": "code",
   "execution_count": null,
   "id": "e0e2a743",
   "metadata": {},
   "outputs": [],
   "source": [
    "get_percent_rat(train, 'train', 'body')"
   ]
  },
  {
   "cell_type": "code",
   "execution_count": null,
   "id": "dff8f7fa",
   "metadata": {},
   "outputs": [],
   "source": [
    "train.dropna(subset=['body'], inplace=True)"
   ]
  },
  {
   "cell_type": "markdown",
   "id": "ff3fd7f7",
   "metadata": {},
   "source": [
    "Тип кузова зависит от производителя и модели автомобиля. Заполню пропуски в тестовом датасете на основе группировки по марке и модели."
   ]
  },
  {
   "cell_type": "code",
   "execution_count": null,
   "id": "811d69b5",
   "metadata": {},
   "outputs": [],
   "source": [
    "dct_mode_body = get_dict_wth_mode_for_features(['make','model'], 'body')\n",
    "test['body'] = test.progress_apply(get_val_from_dct, dct=dct_mode_body,\n",
    "                                   feature_first='make', feature_second='model',\n",
    "                                   feature_target='body', axis=1)"
   ]
  },
  {
   "cell_type": "code",
   "execution_count": null,
   "id": "681acfbc",
   "metadata": {
    "scrolled": false
   },
   "outputs": [],
   "source": [
    "get_na_for_feature('body')"
   ]
  },
  {
   "cell_type": "code",
   "execution_count": null,
   "id": "b3651aa3",
   "metadata": {},
   "outputs": [],
   "source": [
    "show_lst_in_str(train, 'body')"
   ]
  },
  {
   "cell_type": "code",
   "execution_count": null,
   "id": "c21a82d0",
   "metadata": {},
   "outputs": [],
   "source": [
    "show_lst_in_str(test, 'body')"
   ]
  },
  {
   "cell_type": "markdown",
   "id": "542fbadb",
   "metadata": {},
   "source": [
    "В значениях есть дубликаты, исправлю."
   ]
  },
  {
   "cell_type": "code",
   "execution_count": null,
   "id": "e42f93ad",
   "metadata": {},
   "outputs": [],
   "source": [
    "dct_body = {'regular cab': 'regular-cab', 'cab plus 4': 'cab plus', 'cts coupe': 'coupe',\n",
    "            'cts wagon': 'wagon', 'cts-v coupe': 'coupe', 'cts-v wagon': 'wagon', 'e-series van': 'van',\n",
    "            'g convertible': 'convertible', 'g coupe': 'coupe', 'g sedan': 'sedan',\n",
    "            'g37 convertible': 'convertible', 'g37 coupe': 'coupe', 'genesis coupe': 'coupe',\n",
    "            'granturismo convertible': 'convertible', 'promaster cargo van': 'van', 'q60 convertible': 'convertible',\n",
    "            'q60 coupe': 'coupe', 'transit van': 'van', 'tsx sport wagon': 'wagon',\n",
    "            'ram van': 'van', 'beetle convertible': 'convertible', 'koup':'coupe'}\n",
    "train['body'] = train['body'].progress_apply(lambda x: dct_body[x] if x in dct_body else x)\n",
    "test['body'] = test['body'].progress_apply(lambda x: dct_body[x] if x in dct_body else x)"
   ]
  },
  {
   "cell_type": "code",
   "execution_count": null,
   "id": "8a78638c",
   "metadata": {},
   "outputs": [],
   "source": [
    "del dct_mode_body, dct_body"
   ]
  },
  {
   "cell_type": "markdown",
   "id": "8d209014",
   "metadata": {},
   "source": [
    "## Коробка передач (transmission)"
   ]
  },
  {
   "cell_type": "code",
   "execution_count": null,
   "id": "5dd3e0f6",
   "metadata": {},
   "outputs": [],
   "source": [
    "get_na_for_feature('transmission')"
   ]
  },
  {
   "cell_type": "code",
   "execution_count": null,
   "id": "a3db6456",
   "metadata": {},
   "outputs": [],
   "source": [
    "get_percent_rat(train, 'train', 'transmission')"
   ]
  },
  {
   "cell_type": "markdown",
   "id": "a7c6dee5",
   "metadata": {},
   "source": [
    "В знаке VIN автомобиля, который обозначает трансмиссию, нет конкретного знака или символа. \n",
    "Тип трансмиссии зависит от многих факторов, включая модель и год выпуска автомобиля, его назначение.\n",
    "\n",
    "Заполню пропуски в тесте на основе греппировки по марке и модели."
   ]
  },
  {
   "cell_type": "code",
   "execution_count": null,
   "id": "3f98f5c3",
   "metadata": {},
   "outputs": [],
   "source": [
    "dct_mode_tr = get_dict_wth_mode_for_features(['make','model'], 'transmission')\n",
    "train['transmission'] = train.progress_apply(get_val_from_dct, dct=dct_mode_tr,\n",
    "                                             feature_first='make', feature_second='model',\n",
    "                                             feature_target='transmission', axis=1)\n",
    "\n",
    "test['transmission'] = test.progress_apply(get_val_from_dct, dct=dct_mode_tr,\n",
    "                                          feature_first='make', feature_second='model',\n",
    "                                          feature_target='transmission', axis=1)"
   ]
  },
  {
   "cell_type": "code",
   "execution_count": null,
   "id": "c951af25",
   "metadata": {
    "scrolled": true
   },
   "outputs": [],
   "source": [
    "show_lst_in_str(train, 'transmission')"
   ]
  },
  {
   "cell_type": "code",
   "execution_count": null,
   "id": "2ea3036d",
   "metadata": {},
   "outputs": [],
   "source": [
    "show_lst_in_str(test, 'transmission')"
   ]
  },
  {
   "cell_type": "code",
   "execution_count": null,
   "id": "74db1c5a",
   "metadata": {},
   "outputs": [],
   "source": [
    "del dct_mode_tr"
   ]
  },
  {
   "cell_type": "markdown",
   "id": "52e7ef68",
   "metadata": {},
   "source": [
    "## Состояние автомобиля (condition)"
   ]
  },
  {
   "cell_type": "markdown",
   "id": "019332cc",
   "metadata": {},
   "source": [
    "Оценка автомобиля салоном зависит от многих факторов, включая состояние автомобиля, его комплектацию, пробег, историю обслуживания и ремонта, а также репутацию марки и модели. "
   ]
  },
  {
   "cell_type": "code",
   "execution_count": null,
   "id": "504eb96a",
   "metadata": {},
   "outputs": [],
   "source": [
    "get_na_for_feature('condition')"
   ]
  },
  {
   "cell_type": "code",
   "execution_count": null,
   "id": "f8a17d23",
   "metadata": {},
   "outputs": [],
   "source": [
    "get_percent_rat(train, 'train', 'condition')"
   ]
  },
  {
   "cell_type": "code",
   "execution_count": null,
   "id": "38490cfa",
   "metadata": {},
   "outputs": [],
   "source": [
    "train.dropna(subset=['condition'], inplace=True)\n",
    "dct_median_cn = get_dict_wth_median_for_features(['year','model'], 'condition')"
   ]
  },
  {
   "cell_type": "code",
   "execution_count": null,
   "id": "04dd2a8c",
   "metadata": {},
   "outputs": [],
   "source": [
    "test['condition'] = test.progress_apply(get_val_from_dct, dct=dct_median_cn,\n",
    "                                        feature_first='year', feature_second='model',\n",
    "                                        feature_target='condition', axis=1)"
   ]
  },
  {
   "cell_type": "markdown",
   "id": "7f3990a8",
   "metadata": {},
   "source": [
    "Рассмотрим значения признаков"
   ]
  },
  {
   "cell_type": "code",
   "execution_count": null,
   "id": "7d8e27f3",
   "metadata": {},
   "outputs": [],
   "source": [
    "show_lst_in_str(train, 'condition')"
   ]
  },
  {
   "cell_type": "code",
   "execution_count": null,
   "id": "2406b17a",
   "metadata": {},
   "outputs": [],
   "source": [
    "show_lst_in_str(test, 'condition')"
   ]
  },
  {
   "cell_type": "markdown",
   "id": "26e48ff7",
   "metadata": {},
   "source": [
    "В наборе есть значения c большим количетсвом знаков после запятой, например : 2.0999999999999996 и 2.1. Считаю целесобразными округлить все оценки до целого числа."
   ]
  },
  {
   "cell_type": "code",
   "execution_count": null,
   "id": "9b7b294f",
   "metadata": {},
   "outputs": [],
   "source": [
    "train['condition'] = train['condition'].progress_apply(lambda x: round(x) if type(x)!=str else x)\n",
    "test['condition'] = test['condition'].progress_apply(lambda x: round(x) if type(x)!=str else x)"
   ]
  },
  {
   "cell_type": "code",
   "execution_count": null,
   "id": "0ae5c990",
   "metadata": {},
   "outputs": [],
   "source": [
    "del dct_median_cn"
   ]
  },
  {
   "cell_type": "markdown",
   "id": "1b08294c",
   "metadata": {},
   "source": [
    "## Пройденное расстояние (odometer)"
   ]
  },
  {
   "cell_type": "code",
   "execution_count": null,
   "id": "85f0ba42",
   "metadata": {},
   "outputs": [],
   "source": [
    "get_na_for_feature('odometer')"
   ]
  },
  {
   "cell_type": "code",
   "execution_count": null,
   "id": "dd329f95",
   "metadata": {},
   "outputs": [],
   "source": [
    "get_percent_rat(train, 'train', 'odometer')"
   ]
  },
  {
   "cell_type": "code",
   "execution_count": null,
   "id": "2b062b93",
   "metadata": {},
   "outputs": [],
   "source": [
    "train.dropna(subset=['odometer'], inplace=True)\n",
    "dct_median_od = get_dict_wth_median_for_features(['condition', 'model'], 'odometer')"
   ]
  },
  {
   "cell_type": "code",
   "execution_count": null,
   "id": "efa211c1",
   "metadata": {},
   "outputs": [],
   "source": [
    "test['odometer'] = test.progress_apply(get_val_from_dct, dct=dct_median_od,\n",
    "                                       feature_first='condition', feature_second='model',\n",
    "                                       feature_target='odometer', axis=1)"
   ]
  },
  {
   "cell_type": "code",
   "execution_count": null,
   "id": "f810bc64",
   "metadata": {},
   "outputs": [],
   "source": [
    "show_lst_in_str(test, 'odometer')"
   ]
  },
  {
   "cell_type": "markdown",
   "id": "ede16016",
   "metadata": {},
   "source": [
    "В значения присутствуют странные значения для пройденного расстояния. Например: 1.0. Учту и рассмотрю этот факт в исследовательском анализе."
   ]
  },
  {
   "cell_type": "code",
   "execution_count": null,
   "id": "27f929ca",
   "metadata": {},
   "outputs": [],
   "source": [
    "del dct_median_od"
   ]
  },
  {
   "cell_type": "markdown",
   "id": "efeb4bcd",
   "metadata": {},
   "source": [
    "## Цвет кузова (color) и  цвет салона (interior)"
   ]
  },
  {
   "cell_type": "code",
   "execution_count": null,
   "id": "8454fe0c",
   "metadata": {},
   "outputs": [],
   "source": [
    "get_na_for_feature('color')"
   ]
  },
  {
   "cell_type": "code",
   "execution_count": null,
   "id": "d5e779e7",
   "metadata": {},
   "outputs": [],
   "source": [
    "get_na_for_feature('interior')"
   ]
  },
  {
   "cell_type": "code",
   "execution_count": null,
   "id": "2d50c58d",
   "metadata": {},
   "outputs": [],
   "source": [
    "train.dropna(subset=['color', 'interior'], inplace=True)"
   ]
  },
  {
   "cell_type": "markdown",
   "id": "99a04172",
   "metadata": {},
   "source": [
    "Оба признака имеют одинаковое количество пропусков. \n",
    "Для одной марки и модели в одно и тоже время могли выпускаться машины с разным цветом кузова и комплектации.\n",
    "Скорее всего цвет салона может входить в комплектацию модели. "
   ]
  },
  {
   "cell_type": "code",
   "execution_count": null,
   "id": "aa61ef73",
   "metadata": {},
   "outputs": [],
   "source": [
    "dct_mode_color = get_dict_wth_mode_for_features(['model', 'body'], 'color')\n",
    "dct_mode_intr = get_dict_wth_mode_for_features(['model', 'trim'], 'interior')"
   ]
  },
  {
   "cell_type": "code",
   "execution_count": null,
   "id": "851028ad",
   "metadata": {},
   "outputs": [],
   "source": [
    "test['color'] = test.progress_apply(get_val_from_dct, dct=dct_mode_color,\n",
    "                                       feature_first='model', feature_second='body',\n",
    "                                       feature_target='color', axis=1)\n",
    "\n",
    "test['interior'] = test.progress_apply(get_val_from_dct, dct=dct_mode_intr,\n",
    "                                       feature_first='model', feature_second='trim',\n",
    "                                       feature_target='interior', axis=1)"
   ]
  },
  {
   "cell_type": "code",
   "execution_count": null,
   "id": "fc6c6fe1",
   "metadata": {},
   "outputs": [],
   "source": [
    "get_na_for_feature('color')"
   ]
  },
  {
   "cell_type": "code",
   "execution_count": null,
   "id": "99bc897b",
   "metadata": {},
   "outputs": [],
   "source": [
    "get_na_for_feature('interior')"
   ]
  },
  {
   "cell_type": "markdown",
   "id": "decf1160",
   "metadata": {},
   "source": [
    "Теперь посмотрим на значения признаков."
   ]
  },
  {
   "cell_type": "code",
   "execution_count": null,
   "id": "8eaded4a",
   "metadata": {},
   "outputs": [],
   "source": [
    "show_lst_in_str(train, 'color')"
   ]
  },
  {
   "cell_type": "code",
   "execution_count": null,
   "id": "b25f89d5",
   "metadata": {},
   "outputs": [],
   "source": [
    "show_lst_in_str(test, 'color')"
   ]
  },
  {
   "cell_type": "code",
   "execution_count": null,
   "id": "25323481",
   "metadata": {},
   "outputs": [],
   "source": [
    "show_lst_in_str(train, 'interior')"
   ]
  },
  {
   "cell_type": "code",
   "execution_count": null,
   "id": "edd3d201",
   "metadata": {},
   "outputs": [],
   "source": [
    "show_lst_in_str(test, 'interior')"
   ]
  },
  {
   "cell_type": "markdown",
   "id": "7d0d7595",
   "metadata": {},
   "source": [
    "В значениях для этих признаков присутствует прочерк.\n",
    "\n",
    "В случае для цвета кузова это означает, что цвет кузова может быть любым. Но принимая во внимае, что у нас вторичный рынок автомобилей, то обычно салоны подержанных автомобилей предлагают автомобили только в одном цвете.\n",
    "\n",
    "Прочерк в графе \"Цвет салона\" может означать, что салон автомобиля может быть выполнен в различных цветах или что цвет салона не указан.\n",
    "\n",
    "Заменю прочерк на значение unknow."
   ]
  },
  {
   "cell_type": "code",
   "execution_count": null,
   "id": "89caaa72",
   "metadata": {},
   "outputs": [],
   "source": [
    "train.loc[train['color'] == '—', 'color'] = 'unknow'\n",
    "train.loc[train['interior'] == '—', 'interior'] = 'unknow'\n",
    "\n",
    "test.loc[test['color'] == '—', 'color'] = 'unknow'\n",
    "test.loc[test['interior'] == '—', 'interior'] = 'unknow'"
   ]
  },
  {
   "cell_type": "code",
   "execution_count": null,
   "id": "c10fadd7",
   "metadata": {},
   "outputs": [],
   "source": [
    "del dct_mode_color, dct_mode_intr"
   ]
  },
  {
   "cell_type": "markdown",
   "id": "6c3b6be9",
   "metadata": {},
   "source": [
    "## Продавец (seller)"
   ]
  },
  {
   "cell_type": "code",
   "execution_count": null,
   "id": "b3811b42",
   "metadata": {},
   "outputs": [],
   "source": [
    "show_lst_in_str(train, 'seller')"
   ]
  },
  {
   "cell_type": "markdown",
   "id": "d95d8374",
   "metadata": {},
   "source": [
    "Пропуски отсутстсвуют, но колонка содержит большое количество значений."
   ]
  },
  {
   "cell_type": "code",
   "execution_count": null,
   "id": "975614e1",
   "metadata": {},
   "outputs": [],
   "source": [
    "train['seller'].value_counts().to_frame().reset_index().rename(columns={'seller':'counts', 'index':'seller'})"
   ]
  },
  {
   "cell_type": "markdown",
   "id": "91a09b12",
   "metadata": {},
   "source": [
    "Возможно, тут могут присутствовать неяные дубликаты, но из за специфичных названий при корректировке велика вероятность удалить или исказить данные. На данном этапе оставлю данные для признака в исходном виде."
   ]
  },
  {
   "cell_type": "markdown",
   "id": "0b1b3c53",
   "metadata": {},
   "source": [
    "## Вывод"
   ]
  },
  {
   "cell_type": "markdown",
   "id": "0bfd4102",
   "metadata": {},
   "source": [
    "Проведена предварительная обработка данных, входе которой были удалены  неявные дубликаты, заполнены пропуски и скорректированы значения. В дополнение в значениях некоторых признаков были обнаружены аномалии. В дальнейшем исследую этот факт."
   ]
  },
  {
   "cell_type": "markdown",
   "id": "724f7109",
   "metadata": {},
   "source": [
    "# Исследовательский анализ данных"
   ]
  },
  {
   "cell_type": "markdown",
   "id": "ebf2be1d",
   "metadata": {},
   "source": [
    "Посмотрим на распределение значений и их особенности."
   ]
  },
  {
   "cell_type": "markdown",
   "id": "529d4e1e",
   "metadata": {},
   "source": [
    "## Функции для анализа"
   ]
  },
  {
   "cell_type": "markdown",
   "id": "3273b85a",
   "metadata": {},
   "source": [
    "Ниже я написал функции для удобства анализа и наглядного графического отображения."
   ]
  },
  {
   "cell_type": "code",
   "execution_count": null,
   "id": "599a5c6b",
   "metadata": {},
   "outputs": [],
   "source": [
    "def get_outliers(df, column):\n",
    "    '''Функция считает для указанного столбца переданного датасета общее количество выбросов\n",
    "       и координаты нижней и верхней границы диаграммы размаха.'''\n",
    "    q_one = df[column].quantile(q=.25)\n",
    "    q_three  = df[column].quantile(q=.75)\n",
    "    iqr = q_three - q_one\n",
    "    left_border = q_one-(1.5*iqr)\n",
    "    right_border = q_three+(1.5*iqr)\n",
    "    outliers_left = df[df[column] < left_border]\n",
    "    outliers_right = df[df[column] > right_border]\n",
    "    full_outliers = len(outliers_left) + len(outliers_right)\n",
    "    return(full_outliers, left_border, right_border)"
   ]
  },
  {
   "cell_type": "code",
   "execution_count": null,
   "id": "b49a662f",
   "metadata": {},
   "outputs": [],
   "source": [
    "def plot_charts(df, df_columns):\n",
    "    '''Функция рисует гистограмму и ящик с усами на одном полотне на переданного датасета,  цифрового признака тренировочного набора. \n",
    "       Легенда отображает значение основных показателей: стандартное отклонение (STD), \n",
    "       среднее значение (MEAN), медианное значение (MEDIAN), \n",
    "       основные показатели так же отображаются на графике.\n",
    "       На вход может подаваться один или список признаков'''\n",
    "    num_chrt = len(df_columns)\n",
    "    for column in df_columns:\n",
    "        outliers, left_border, right_border = get_outliers(df, column)\n",
    "        fig = plt.figure(figsize=[15, 8])\n",
    "        grd = plt.GridSpec(ncols=1,nrows=2, top=0.92, wspace=0.15, hspace=0)\n",
    "        plt.suptitle(f'Диаграмма размаха и Гистограмма для колонки \"{column.upper()}\"', fontsize=17)\n",
    "        fig_ax_1 = fig.add_subplot(grd[1,0])\n",
    "        plt.grid(True)\n",
    "        sns.set_style('darkgrid')\n",
    "        sns.histplot(data=df, x=column, color='green', legend=False)\n",
    "        mean_line_h = plt.axvline(np.mean(df[column]), \n",
    "                                          color='r', \n",
    "                                          linestyle='--',\n",
    "                                          label=f'Среднее значение для признака \"{column.upper()}\"')\n",
    "        left_border_line_h = plt.axvline(left_border, \n",
    "                                         color='m', \n",
    "                                         linestyle=':',\n",
    "                                         label=f'Нижняя граница размаха для признака \"{column.upper()}\"')\n",
    "        right_border_line_h = plt.axvline(right_border, \n",
    "                                          color='m', \n",
    "                                          linestyle='-.',\n",
    "                                          label=f'Верхняя граница для признака \"{column.upper()}\"') \n",
    "        median_line_h = plt.axvline(np.median(df[column]), \n",
    "                                    color='blue', \n",
    "                                    linestyle='-',\n",
    "                                    label=f'Медианное значение для признака \"{column.upper()}\"')\n",
    "        plt.xlabel('Значения признака', fontsize=15)\n",
    "        plt.ylabel('Количество', fontsize=15)\n",
    "        fig_ax_2 = fig.add_subplot(grd[0,0])\n",
    "        sns.set_style('darkgrid')\n",
    "        plt.grid(True)\n",
    "        ax = sns.boxplot(x=column, data=df, palette=['green'],\n",
    "                         orient=\"h\", showcaps=False, notch=True, medianprops={\"color\": \"blue\"}, boxprops=dict(alpha=.5))\n",
    "        mean_line_b = plt.axvline(np.mean(df[column]), \n",
    "                                  color='r', \n",
    "                                  linestyle='--',\n",
    "                                  label=f'Среднее значение для признака \"{column.upper()}\"')\n",
    "        median_line_b = plt.axvline(np.median(df[column]), \n",
    "                                    color='b', \n",
    "                                    linestyle='-',\n",
    "                                    label=f'Медианное значение для признака \"{column.upper()}\"')\n",
    "        left_border_line_b = plt.axvline(left_border, \n",
    "                                         color='m', \n",
    "                                         linestyle=':',\n",
    "                                         label=f'Нижняя граница размаха для признака \"{column.upper()}\"')\n",
    "        right_border_line_b = plt.axvline(right_border, \n",
    "                                          color='m', \n",
    "                                          linestyle='-.',\n",
    "                                          label=f'Верхняя граница для признака \"{column.upper()}\"')\n",
    "        plt.ylabel(f'\"{column.upper()}\"', fontsize=15)\n",
    "        plt.gca().axes.get_xaxis().set_visible(False)       \n",
    "        plt.legend(title=f'Легенда для признака \"{column.upper()}\"',\n",
    "                   handles=[Patch(color='green', alpha=.5, label=f'Признак \"{column.upper()}\"'),\n",
    "                            mean_line_h,\n",
    "                            median_line_h,\n",
    "                            left_border_line_h,\n",
    "                            right_border_line_h,\n",
    "                            Patch(color='none', label=f'Всего выбросов - {outliers:.2f}'),\n",
    "                            Patch(color='none', label=f'Стандартное отклонение (STD) - {df[column].std():.2f}'),\n",
    "                            Patch(color='none', label=f'Среднее значение (MEAN) - {np.mean(df[column]):.2f}'),\n",
    "                            Patch(color='none', label=f'Медианное значение (MEDIAN) - {np.median(df[column]):.2f}'),\n",
    "                            Patch(color='none', label=f'Нижняя граница размаха для признака \"{column.upper()}\" - \"{left_border:.0f}\"'),\n",
    "                            Patch(color='none', label=f'Верхняя граница для признака \"{column.upper()}\" - \"{right_border:.0f}\"'),],\n",
    "                   edgecolor = 'r',\n",
    "                   facecolor = 'oldlace',\n",
    "                   ncol=2,\n",
    "                   title_fontsize=17,\n",
    "                   fontsize=15,\n",
    "                   loc='center',\n",
    "                   bbox_to_anchor=(0.5, -1.5));"
   ]
  },
  {
   "cell_type": "code",
   "execution_count": null,
   "id": "180e83cf",
   "metadata": {},
   "outputs": [],
   "source": [
    "def plot_bar(df, column_first, column_second, param_for_xtics_rotation='horizontal'):\n",
    "    \"\"\"Функция принмает на вход датасет, признаки и рисуеет для них столбчатую диаграмму.\"\"\"\n",
    "    plt.figure(figsize=[10, 7])\n",
    "    plt.title(f'Столбчатая диаграмма для колонки \"{column_first.upper()}\"', fontsize=17)\n",
    "    plt.grid(True)\n",
    "    sns.set_style('darkgrid')\n",
    "    df = df.sort_values(by=[column_second], ascending=False)\n",
    "    sns.barplot(data=df, x=column_first, y=column_second)\n",
    "    plt.xlabel('Значения признака', fontsize=15)\n",
    "    plt.xticks(rotation=param_for_xtics_rotation)\n",
    "    plt.ylabel('Количество', fontsize=15)"
   ]
  },
  {
   "cell_type": "code",
   "execution_count": null,
   "id": "b2b809e2",
   "metadata": {},
   "outputs": [],
   "source": [
    "def plot_hist(df, column, param_for_xtics_rotation='horizontal'):\n",
    "    \"\"\"Функция принмает на вход датасет, текстовый признак и рисуеет для него гистограмму.\"\"\"\n",
    "    plt.figure(figsize=[10, 7])\n",
    "    plt.title(f'Гистограмма для колонки \"{column.upper()}\"', fontsize=17)\n",
    "    plt.grid(True)\n",
    "    sns.set_style('darkgrid')\n",
    "    sns.histplot(data=df, x=column, color='green', legend=False)\n",
    "    plt.xlabel('Значения признака', fontsize=15)\n",
    "    plt.xticks(rotation=param_for_xtics_rotation)\n",
    "    plt.ylabel('Количество', fontsize=15)"
   ]
  },
  {
   "cell_type": "code",
   "execution_count": null,
   "id": "84bc6d7f",
   "metadata": {},
   "outputs": [],
   "source": [
    "def plot_line(df, column_first, column_second, param_for_xtics_rotation='horizontal'):\n",
    "    \"\"\"Функция принмает на вход датасет, признаки и рисуеет для них диаграмму рассеяния.\"\"\"\n",
    "    plt.figure(figsize=[8, 5])\n",
    "    plt.title(f'Линейная зависимость для колонок \"{column_first.upper()} и {column_second.upper()}\"', fontsize=17)\n",
    "    plt.grid(True)\n",
    "    sns.set_style('darkgrid')\n",
    "    sns.lineplot(data=df, x=column_first, y=column_second, legend=False)\n",
    "    plt.xlabel(f'{column_first.upper()}', fontsize=15)\n",
    "    plt.xticks(rotation=param_for_xtics_rotation)\n",
    "    plt.ylabel(f'{column_second.upper()}', fontsize=15)    "
   ]
  },
  {
   "cell_type": "code",
   "execution_count": null,
   "id": "142939fb",
   "metadata": {},
   "outputs": [],
   "source": [
    "def plot_scatter(df, column_first, column_second, for_hue_and_size):\n",
    "    \"\"\"Функция принмает на вход датасет, признаки и рисуеет для них график линейной зависимости\"\"\"\n",
    "    plt.figure(figsize=[13, 7])\n",
    "    plt.title(f'Диаграмма рассения для колонок \"{column_first.upper()} и {column_second.upper()}\"', fontsize=17)\n",
    "    plt.grid(True)\n",
    "    sns.set_style('darkgrid')\n",
    "    sns.scatterplot(data=df, x=column_first, y=column_second,\n",
    "                    hue=for_hue_and_size, size=for_hue_and_size,\n",
    "                    sizes=(20, 200), palette=plt.get_cmap('tab10_r').reversed())\n",
    "    plt.xlabel(f'{column_first.upper()}', fontsize=15)\n",
    "    plt.xticks(rotation='vertical')\n",
    "    plt.ylabel(f'{column_second.upper()}', fontsize=15)  \n",
    "    plt.legend(title=f'Количественная информация для признака \"{for_hue_and_size.upper()}\"',\n",
    "               edgecolor = 'r',\n",
    "               facecolor = 'oldlace',\n",
    "               ncol=2,\n",
    "               title_fontsize=17,\n",
    "               fontsize=15,\n",
    "               loc='center',\n",
    "               bbox_to_anchor=(0.5, -0.38));"
   ]
  },
  {
   "cell_type": "markdown",
   "id": "218f492a",
   "metadata": {},
   "source": [
    "Написанная ниже функция повзоляет приблизительно увидеть влияние переданного в нее признака на цену. \n",
    "Поэтому сделана попытка создать однородную среду на основе одной самой распростанненой модели машины\n",
    "с одинаковыми параметрами для наилучшего отображения влияния. \n",
    "       \n",
    "Такой метод не является 100% показателем влияния, так как могут быть другие внешние факторы!\n",
    "В дополнее к ней в последующих разделах будет сделана проверка корреляции."
   ]
  },
  {
   "cell_type": "code",
   "execution_count": null,
   "id": "07f4a08b",
   "metadata": {},
   "outputs": [],
   "source": [
    "def get_price_dffrnc_by_one_mdl_bsd_on_sl_ftr(selected_feature):\n",
    "    \"\"\"\n",
    "       Функция принимает на вход название признака, как строку.\n",
    "       На выходе будет датасет, отфильтрованный по переданному признаку и\n",
    "       содержащий данные для одной наиболее модели распространенной\n",
    "       с максимально возможными одинаковыми параметрами.\n",
    "       \n",
    "       В наборе будет колонка для указанного признака (признак использовался для группировки),\n",
    "       цена за общее кол-во проданных машин, цена за одну, количетсво проданных машин.\n",
    "    \"\"\"\n",
    "    clmns = ['model', 'age_of_the_car', 'condition', 'transmission', 'body', 'odometer_categories', 'country', 'color']\n",
    "    if selected_feature in clmns:\n",
    "        clmns.remove(selected_feature)\n",
    "    group_by_duplicated_string = train.groupby(clmns, as_index=False).size().sort_values(by='size', ascending=False)\n",
    "    max_count = group_by_duplicated_string.index[0]\n",
    "    popul_df_row = group_by_duplicated_string.loc[[max_count]]\n",
    "    list_with_part_for_query_string = []\n",
    "    for i in range(len(popul_df_row.columns)-1):\n",
    "        name_column = popul_df_row.columns.tolist()[i]\n",
    "        value_for_column = popul_df_row[name_column].values[0]\n",
    "        if type(value_for_column)==str:\n",
    "            value_for_column = f\"'{value_for_column}'\"\n",
    "        part_query_string = f'({name_column}=={value_for_column})'\n",
    "        list_with_part_for_query_string.append(part_query_string)\n",
    "    query_string = '&'.join(p for p in list_with_part_for_query_string)\n",
    "    clmns.extend([selected_feature, 'selling_price'])\n",
    "    df_filterd_by_param = train.query(query_string)[clmns]\n",
    "    group_by_chosen_feature = df_filterd_by_param.groupby(selected_feature)['selling_price'].agg(['sum', 'count']).reset_index().rename(columns={'sum':'sum_price'})\n",
    "    group_by_chosen_feature['price_for_one'] = group_by_chosen_feature['sum_price'] / group_by_chosen_feature['count']\n",
    "    return group_by_chosen_feature"
   ]
  },
  {
   "cell_type": "markdown",
   "id": "ffc72524",
   "metadata": {},
   "source": [
    "## Дата продажи"
   ]
  },
  {
   "cell_type": "code",
   "execution_count": null,
   "id": "2a0680e3",
   "metadata": {},
   "outputs": [],
   "source": [
    "train['sale_date'].unique()"
   ]
  },
  {
   "cell_type": "markdown",
   "id": "839151d1",
   "metadata": {},
   "source": [
    "В значениях даты продажи присутствуют pdt(gmt-0700) и pst(gmt-0800). PDT(gmt-0700) и PST(gmt-0800) - это названия двух часовых поясов в США. PDT (Pacific Daylight Time) - это часовой пояс, который используется в западной части страны, а PST (Pacific Standard Time) - в восточной части страны. Оба часовых пояса находятся на западном побережье США и используют летнее время. Разница между PDT и PST составляет один час.\n",
    "\n",
    "Считаю, что от этой части в значения даты продажи можно избавится, ценной информации она не несет.\n",
    "\n",
    "В дополнение, по выше перечисленным часовым поясам могу сделать вывод, что предоставлены данные по вторичному рынку автомобилей в США."
   ]
  },
  {
   "cell_type": "markdown",
   "id": "2fa29bcc",
   "metadata": {},
   "source": [
    "Выведу в отдельные колонки год, месяц, день и день недели."
   ]
  },
  {
   "cell_type": "code",
   "execution_count": null,
   "id": "ca8ff5d1",
   "metadata": {},
   "outputs": [],
   "source": [
    "train['sale_date'] = train['sale_date'].apply(lambda x: x[4:24])\n",
    "train['sale_date'] = pd.to_datetime(train['sale_date'])\n",
    "train['sale_date'] = train['sale_date'].dt.strftime('%d-%m-%Y %H:%M:%S')\n",
    "train['sale_date'] = pd.to_datetime(train['sale_date'])\n",
    "train['year_sale'] = train['sale_date'].dt.year\n",
    "train['month_sale'] = train['sale_date'].dt.month\n",
    "train['day_sale'] = train['sale_date'].dt.day\n",
    "train['dayofweek_sale'] = train['sale_date'].dt.dayofweek\n",
    "\n",
    "test['sale_date'] =  test['sale_date'].apply(lambda x: x[4:24])\n",
    "test['sale_date'] = pd.to_datetime(test['sale_date'])\n",
    "test['sale_date'] = test['sale_date'].dt.strftime('%d-%m-%Y %H:%M:%S')\n",
    "test['sale_date'] = pd.to_datetime(test['sale_date'])\n",
    "test['year_sale'] = test['sale_date'].dt.year\n",
    "test['month_sale'] = test['sale_date'].dt.month\n",
    "test['day_sale'] = test['sale_date'].dt.day\n",
    "test['dayofweek_sale'] = test['sale_date'].dt.dayofweek"
   ]
  },
  {
   "cell_type": "markdown",
   "id": "1972a75e",
   "metadata": {},
   "source": [
    "### Год продажи (year_sale)"
   ]
  },
  {
   "cell_type": "code",
   "execution_count": null,
   "id": "96ab7e4c",
   "metadata": {
    "scrolled": false
   },
   "outputs": [],
   "source": [
    "year_sale_and_number_of_sale = train.groupby('year_sale')['make'].agg('count').reset_index().rename(columns={'make': 'number_of_sale'})\n",
    "plot_bar(year_sale_and_number_of_sale, 'year_sale', 'number_of_sale')                                                                             "
   ]
  },
  {
   "cell_type": "markdown",
   "id": "d144269a",
   "metadata": {},
   "source": [
    "Продажи были только в 2014 и 2015 году. И в 2015 году больше всего. Возможно срез данных сделан за два года. Мало вероятно, что в предыдущие года продаж совсем не было, учитывая востребованность авторынка."
   ]
  },
  {
   "cell_type": "markdown",
   "id": "117991bd",
   "metadata": {},
   "source": [
    "### Месяц продажи(month_sale)"
   ]
  },
  {
   "cell_type": "code",
   "execution_count": null,
   "id": "27cc7f31",
   "metadata": {
    "scrolled": false
   },
   "outputs": [],
   "source": [
    "months_sale_and_number_of_sale = train.groupby('month_sale')['make'].agg('count').reset_index().rename(columns={'make':'number_of_sale'})\n",
    "plot_bar(months_sale_and_number_of_sale, 'month_sale', 'number_of_sale')"
   ]
  },
  {
   "cell_type": "markdown",
   "id": "160b95bf",
   "metadata": {},
   "source": [
    "Лучшие продажи были в январе-феврале, мае-июне, декабре. Но это данные за два года в совокупности. Посмотрим по каждому году."
   ]
  },
  {
   "cell_type": "markdown",
   "id": "a7f90909",
   "metadata": {},
   "source": [
    "Для 2014 года:"
   ]
  },
  {
   "cell_type": "code",
   "execution_count": null,
   "id": "b864226f",
   "metadata": {
    "scrolled": false
   },
   "outputs": [],
   "source": [
    "month_sale_and_number_of_sale = train[train['year_sale'] == 2014].groupby('month_sale')['make'].agg('count').reset_index().rename(columns={'make':'number_of_sale'})\n",
    "plot_bar(month_sale_and_number_of_sale, 'month_sale', 'number_of_sale')"
   ]
  },
  {
   "cell_type": "markdown",
   "id": "29b99fc8",
   "metadata": {},
   "source": [
    "Большие продажи были только в декабре."
   ]
  },
  {
   "cell_type": "markdown",
   "id": "758d5fd3",
   "metadata": {},
   "source": [
    "Для 2015:"
   ]
  },
  {
   "cell_type": "code",
   "execution_count": null,
   "id": "a07fa217",
   "metadata": {},
   "outputs": [],
   "source": [
    "month_sale_and_number_of_sale = train[train['year_sale'] == 2015].groupby('month_sale')['make'].agg('count').reset_index().rename(columns={'make':'number_of_sale'})\n",
    "plot_bar(month_sale_and_number_of_sale, 'month_sale', 'number_of_sale')"
   ]
  },
  {
   "cell_type": "markdown",
   "id": "a8fa1373",
   "metadata": {},
   "source": [
    "Крупные продажи были с января по июнь, потом значения идут на спад.\n",
    "\n",
    "Это может быть связано с тем, что в летние месяцы люди чаще путешествуют на автомобилях и покупают новые автомобили для своих семей. Также возможно, что это связано с сезонными факторами, такими как погода и доступность топлива."
   ]
  },
  {
   "cell_type": "markdown",
   "id": "082fc02a",
   "metadata": {},
   "source": [
    "### Число/день продажи (day_sale)"
   ]
  },
  {
   "cell_type": "code",
   "execution_count": null,
   "id": "3e29bc20",
   "metadata": {},
   "outputs": [],
   "source": [
    "day_sale_and_number_of_sale = train.groupby('day_sale')['make'].agg('count').reset_index().rename(columns={'make': 'number_of_sale'})\n",
    "plot_bar(day_sale_and_number_of_sale, 'day_sale', 'number_of_sale')  "
   ]
  },
  {
   "cell_type": "markdown",
   "id": "97ffe4f3",
   "metadata": {},
   "source": [
    "Пики покупок приходятся на начало месяца: 1,2,3,6.\n",
    "\n",
    "Люди могут покупать машины в начале месяца, чтобы избежать высоких цен в конце месяца из-за повышенного спроса.\n",
    "\n",
    "Повышенный спрос может быть связан с тем, что многие откладывают покупку автомобиля до конца месяца, надеясь получить лучшую цену или специальные предложения. Или конец месяца часто связан с праздниками и выходными днями, когда люди могут больше времени проводить за рулем и использовать свои автомобили."
   ]
  },
  {
   "cell_type": "markdown",
   "id": "fd65e9fe",
   "metadata": {},
   "source": [
    "### День недели продажи (dayofweek_sale)"
   ]
  },
  {
   "cell_type": "code",
   "execution_count": null,
   "id": "3e618b98",
   "metadata": {},
   "outputs": [],
   "source": [
    "dayofweek_sale_and_number_of_sale = train.groupby('dayofweek_sale')['make'].agg('count').reset_index().rename(columns={'make': 'number_of_sale'})\n",
    "plot_bar(dayofweek_sale_and_number_of_sale, 'dayofweek_sale', 'number_of_sale')  "
   ]
  },
  {
   "cell_type": "markdown",
   "id": "4fbc62d3",
   "metadata": {},
   "source": [
    "В середине недели покупали чаще. Возможно, в эти преиоды было больше доступных автомобилей, которые можно купить, или более благоприятная погода для поездок."
   ]
  },
  {
   "cell_type": "markdown",
   "id": "9a99e5f1",
   "metadata": {},
   "source": [
    "#### Возраст машины"
   ]
  },
  {
   "cell_type": "markdown",
   "id": "d7481316",
   "metadata": {},
   "source": [
    "Введу еще один признак \"возраст машины\"."
   ]
  },
  {
   "cell_type": "code",
   "execution_count": null,
   "id": "0723fd1c",
   "metadata": {},
   "outputs": [],
   "source": [
    "train['age_of_the_car'] = train['year_sale'] - train['year']\n",
    "test['age_of_the_car'] = test['year_sale'] - test['year']"
   ]
  },
  {
   "cell_type": "code",
   "execution_count": null,
   "id": "8f5a9ac4",
   "metadata": {},
   "outputs": [],
   "source": [
    "plot_charts(train, ['age_of_the_car'])"
   ]
  },
  {
   "cell_type": "markdown",
   "id": "287d35c2",
   "metadata": {},
   "source": [
    "В значениях есть аномалии. Среднее больше медианы, есть скос в положительную сторону. То есть машины, у которых возраст больше 15 лет. Думаю, что это вполне возможно. И удалять такие строки не буду.\n",
    "Значения равные нулю означают, что была продана новая машина. Так же есть значения равные -1."
   ]
  },
  {
   "cell_type": "code",
   "execution_count": null,
   "id": "5e75e055",
   "metadata": {
    "scrolled": true
   },
   "outputs": [],
   "source": [
    "train[train['age_of_the_car'] == -1]"
   ]
  },
  {
   "cell_type": "markdown",
   "id": "2038e4f5",
   "metadata": {},
   "source": [
    "Год сборки автомобиля не может быть больше года начала продаж. Но может быть так, что дата сборки меньше даты старта продаж. Машина могла быть оплачена заранее, и покупатель ждал ее доставки, по разным причинам:\n",
    "\n",
    "    – Производство может занимать больше времени, чем ожидалось, из-за технических проблем или нехватки комплектующих.\n",
    "    – Производители могут изменять конструкцию автомобиля во время производства, что может привести к задержкам в \n",
    "    производстве.\n",
    "    – Некоторые производители могут использовать различную маркировку года выпуска для своих автомобилей, что может \n",
    "    приводить к путанице.\n",
    "    - Некоторые автомобили могут быть собраны в разных странах в разные годы, что также может привести к разнице в \n",
    "    дате выпуска и дате начала продаж.\n",
    "    \n",
    "\n",
    "\n",
    "Заменю все значения равные -1 на 0, а год продажи уменьшу на 1."
   ]
  },
  {
   "cell_type": "code",
   "execution_count": null,
   "id": "c1b98931",
   "metadata": {},
   "outputs": [],
   "source": [
    "train.loc[train['age_of_the_car'] == -1, 'year'] = 2014\n",
    "train.loc[train['age_of_the_car'] == -1, 'age_of_the_car'] = 0\n",
    "\n",
    "test.loc[test['age_of_the_car'] == -1, 'year_sale'] = 2014\n",
    "test.loc[test['age_of_the_car'] == -1, 'age_of_the_car'] = 0"
   ]
  },
  {
   "cell_type": "code",
   "execution_count": null,
   "id": "e0762dcf",
   "metadata": {},
   "outputs": [],
   "source": [
    "age_of_the_car_and_median_price = train.groupby('age_of_the_car')['selling_price'].sum().reset_index().rename(columns={'selling_price': 'sum_price'})\n",
    "plot_line(age_of_the_car_and_median_price, 'age_of_the_car', 'sum_price')"
   ]
  },
  {
   "cell_type": "markdown",
   "id": "269c1032",
   "metadata": {},
   "source": [
    "На графике прослеживается зависимость цены от возраста машины. Чем старше, тем ниже цена. Покупатели готовы платить за более свежие машины чаще, чем за старые. Пик в отметке 2 года означет, что покупатели хотят более свежую машину но не по самой высокой цене, как это может быть за новую или годовалую. Видимо, выбирают более лучший вариант по приемлемой цене."
   ]
  },
  {
   "cell_type": "markdown",
   "id": "4405190c",
   "metadata": {},
   "source": [
    "Для одной идентичной модели на графике можно увидеть некоторую зависимость цены от возраста. "
   ]
  },
  {
   "cell_type": "markdown",
   "id": "7f70bc3a",
   "metadata": {},
   "source": [
    "#### Сезонность (season)"
   ]
  },
  {
   "cell_type": "markdown",
   "id": "b6045cd6",
   "metadata": {},
   "source": [
    "Введу еще один признак - сезон."
   ]
  },
  {
   "cell_type": "code",
   "execution_count": null,
   "id": "066c2dee",
   "metadata": {},
   "outputs": [],
   "source": [
    "def get_season(val):\n",
    "    dct = {'9':'autum','10':'autum','11':'autum',\n",
    "           '12':'winter','1':'winter','2':'winter',\n",
    "           '3':'spring','4':'spring', '5':'spring',\n",
    "           '6':'summer','7':'summer','8':'summer'}\n",
    "    season = dct.get(str(val), 'unknow')\n",
    "    return season"
   ]
  },
  {
   "cell_type": "code",
   "execution_count": null,
   "id": "d2edfb1e",
   "metadata": {},
   "outputs": [],
   "source": [
    "train['season'] = train['month_sale'].progress_apply(get_season)\n",
    "test['season'] = test['month_sale'].progress_apply(get_season)"
   ]
  },
  {
   "cell_type": "code",
   "execution_count": null,
   "id": "cfa431e2",
   "metadata": {},
   "outputs": [],
   "source": [
    "plot_hist(train, 'season')"
   ]
  },
  {
   "cell_type": "markdown",
   "id": "67e675bc",
   "metadata": {},
   "source": [
    "Зимой и весной покупали чаще всего."
   ]
  },
  {
   "cell_type": "code",
   "execution_count": null,
   "id": "d915ba11",
   "metadata": {},
   "outputs": [],
   "source": [
    "del months_sale_and_number_of_sale, year_sale_and_number_of_sale, month_sale_and_number_of_sale, day_sale_and_number_of_sale, dayofweek_sale_and_number_of_sale, age_of_the_car_and_median_price, get_season"
   ]
  },
  {
   "cell_type": "markdown",
   "id": "331c7ac7",
   "metadata": {},
   "source": [
    "#### Количетво владельцев"
   ]
  },
  {
   "cell_type": "markdown",
   "id": "48cc6dd5",
   "metadata": {},
   "source": [
    "Предположим, что в среднем машину меняют раз в три года. Попробую предположить, сколько было владельцев у машины."
   ]
  },
  {
   "cell_type": "code",
   "execution_count": null,
   "id": "0578712b",
   "metadata": {},
   "outputs": [],
   "source": [
    "train['number_of_owners'] = train['age_of_the_car'].progress_apply(lambda x: x // 3 if (x>=3) else 1)\n",
    "test['number_of_owners'] = test['age_of_the_car'].progress_apply(lambda x: x // 3 if (x>=3) else 1)"
   ]
  },
  {
   "cell_type": "markdown",
   "id": "10f7c207",
   "metadata": {},
   "source": [
    "## Год выпуска автомобиля"
   ]
  },
  {
   "cell_type": "code",
   "execution_count": null,
   "id": "c8087a82",
   "metadata": {
    "scrolled": false
   },
   "outputs": [],
   "source": [
    "plot_charts(train, ['year'])"
   ]
  },
  {
   "cell_type": "markdown",
   "id": "ac15e313",
   "metadata": {},
   "source": [
    "Стандартное отклонение не велико и меньше среднего, распределение стремится к нормальному, но содержит аномалии . Некоторые значения отличаются от остальных и не соответствуют общей тенденции. \n",
    "\n",
    "Среднее меньше медианы. Значит, признак имеет отрицательную скошенность в сторону хвоста с наибольшим количество аномальных значений. Рассмотрим подробнее эти значения."
   ]
  },
  {
   "cell_type": "code",
   "execution_count": null,
   "id": "32ec1c36",
   "metadata": {},
   "outputs": [],
   "source": [
    "train[train['year'] < 1998]['year'].value_counts()"
   ]
  },
  {
   "cell_type": "markdown",
   "id": "b3ab298c",
   "metadata": {},
   "source": [
    "Аномалии отсутстсвуют, год выпуска имеет реальные значения. Многие модели разных производителей насчитывают десятилетние циклы перевыпусков. Так одна модель могла выпускаться втечение длительного времени, но разными поколениями. Считаю, что удалять такие значения не нужно."
   ]
  },
  {
   "cell_type": "code",
   "execution_count": null,
   "id": "dd6c151d",
   "metadata": {
    "scrolled": false
   },
   "outputs": [],
   "source": [
    "year_and_car = train.groupby('year')['make'].count().reset_index().rename(columns={'make':'number_of_car'})\n",
    "plot_line(year_and_car, 'year', 'number_of_car')"
   ]
  },
  {
   "cell_type": "markdown",
   "id": "7088aa5b",
   "metadata": {},
   "source": [
    "Кроме того можно заметить, что чем свежее год выпуска, тем больше таких машин выставляют на продажу. Так в период  выпуска автомобилей с 1995 по 2014, количество машин в продаже растет. Основной пик пришелся на 2012 год. Машины выпуска 2012,2013,2014 преобладают в количестве над остальными."
   ]
  },
  {
   "cell_type": "code",
   "execution_count": null,
   "id": "72127f07",
   "metadata": {},
   "outputs": [],
   "source": [
    "year_and_sale = train.groupby('year')['sale_date'].agg('count').reset_index().rename(columns={'sale_date': 'number_of_sale'})\n",
    "plot_line(year_and_sale, 'year', 'number_of_sale')"
   ]
  },
  {
   "cell_type": "markdown",
   "id": "a8be0765",
   "metadata": {},
   "source": [
    "График линейной зависимости сделанный по годам выпуска авто с подсчетом количества дат продаж также иллюстрирует, что более свежие машины лучше продаются. Так же будет симетричен вывод по общей выручке за машины конкретного года. Чем больше машин продано определенного года выпуска, тем больше выручка для этого года выпуска авто."
   ]
  },
  {
   "cell_type": "code",
   "execution_count": null,
   "id": "8773cb10",
   "metadata": {},
   "outputs": [],
   "source": [
    "del year_and_car, year_and_sale"
   ]
  },
  {
   "cell_type": "markdown",
   "id": "5c9b3b44",
   "metadata": {},
   "source": [
    "## Марка автомобиля (make)"
   ]
  },
  {
   "cell_type": "code",
   "execution_count": null,
   "id": "b99fc363",
   "metadata": {
    "scrolled": false
   },
   "outputs": [],
   "source": [
    "plot_hist(train, 'make', 'vertical')"
   ]
  },
  {
   "cell_type": "markdown",
   "id": "a094ceae",
   "metadata": {},
   "source": [
    "Больше всего выставлено на продажу машин марки ford, nissan,chevrolet и toyota. На графике отчетливо видны их пиковые значения.\n",
    "В меньшенстве в основном люксовые автомобили (ferrari, bentley..).\n",
    "\n",
    "Посмотрю, какие марки продавались лучше всего."
   ]
  },
  {
   "cell_type": "code",
   "execution_count": null,
   "id": "9d850ecd",
   "metadata": {
    "scrolled": false
   },
   "outputs": [],
   "source": [
    "make_and_sale = train.groupby('make')['sale_date'].count().reset_index().rename(columns={'sale_date': 'number_of_sale'})\n",
    "plot_bar(make_and_sale, 'make', 'number_of_sale', 'vertical')"
   ]
  },
  {
   "cell_type": "markdown",
   "id": "8b20800e",
   "metadata": {},
   "source": [
    "Лидируют ford, nissan, chevrolet, toyota.\n",
    "\n",
    "Оценим в какого года выпуска марки продавались лучше всего."
   ]
  },
  {
   "cell_type": "code",
   "execution_count": null,
   "id": "462ad30f",
   "metadata": {
    "scrolled": false
   },
   "outputs": [],
   "source": [
    "make_by_year_and_sale = train.groupby(['make', 'year'])['sale_date'].count().reset_index().rename(columns={'sale_date': 'number_of_sale'})\n",
    "plot_scatter(make_by_year_and_sale, 'make', 'year', 'number_of_sale')"
   ]
  },
  {
   "cell_type": "markdown",
   "id": "7cb7652e",
   "metadata": {},
   "source": [
    "ford, nissan, chevrolet, toyota с 2011-2014 года выпуска были наиболее востребованы, их продано больше всего."
   ]
  },
  {
   "cell_type": "code",
   "execution_count": null,
   "id": "be60f523",
   "metadata": {},
   "outputs": [],
   "source": [
    "del make_by_year_and_sale, make_and_sale"
   ]
  },
  {
   "cell_type": "markdown",
   "id": "8c7cf7b8",
   "metadata": {},
   "source": [
    "## Издание автомобиля (model)"
   ]
  },
  {
   "cell_type": "markdown",
   "id": "ec3ce0be",
   "metadata": {},
   "source": [
    "Моделей очень много, и все не помещаются на графике. Сделаю группировку по марке и модели, и посчитаю для них количество продаж. Я уже знаю лидирующие марки, поэтому попробую посмотреть какие буду значения по продажам и отсечь наиболее худшие."
   ]
  },
  {
   "cell_type": "code",
   "execution_count": null,
   "id": "8b483007",
   "metadata": {},
   "outputs": [],
   "source": [
    "make_model_number_of_sale = train.groupby(['make', 'model'])['sale_date'].count().reset_index().rename(columns={'sale_date': 'number_of_sale'})\n",
    "plot_charts(make_model_number_of_sale,['number_of_sale'])"
   ]
  },
  {
   "cell_type": "markdown",
   "id": "7946bae0",
   "metadata": {},
   "source": [
    "Среднее значение количества продаж для модели - 500. Рассмотрю подробнее модели с наибольшим показателем."
   ]
  },
  {
   "cell_type": "code",
   "execution_count": null,
   "id": "a0b28869",
   "metadata": {},
   "outputs": [],
   "source": [
    "plot_scatter(make_model_number_of_sale.query('(number_of_sale >= 1000)'), 'model', 'make', 'number_of_sale')"
   ]
  },
  {
   "cell_type": "markdown",
   "id": "4c5e6689",
   "metadata": {},
   "source": [
    "На графике видны модели с наибольшим количеством продаж: toyota corolla, ford fushion, ford escape, nissan altima, toyota camri"
   ]
  },
  {
   "cell_type": "markdown",
   "id": "ba6a2f95",
   "metadata": {},
   "source": [
    "## Коробка передач (transmission)"
   ]
  },
  {
   "cell_type": "code",
   "execution_count": null,
   "id": "f9465ade",
   "metadata": {},
   "outputs": [],
   "source": [
    "plot_hist(train, 'transmission')"
   ]
  },
  {
   "cell_type": "markdown",
   "id": "f06b4fa0",
   "metadata": {},
   "source": [
    "Машин с автоматической системой переключения передач выставлено больше."
   ]
  },
  {
   "cell_type": "code",
   "execution_count": null,
   "id": "e272acb9",
   "metadata": {},
   "outputs": [],
   "source": [
    "train.groupby('transmission')['sale_date'].count().reset_index().rename(columns={'sale_date': 'number_of_sale'})"
   ]
  },
  {
   "cell_type": "markdown",
   "id": "4b61b9d5",
   "metadata": {},
   "source": [
    "Закономерно, что и продавалось таких машин больше."
   ]
  },
  {
   "cell_type": "code",
   "execution_count": null,
   "id": "3bcfbc16",
   "metadata": {},
   "outputs": [],
   "source": [
    "train.groupby('transmission')['selling_price'].median().reset_index().rename(columns={'selling_price': 'median_price'})"
   ]
  },
  {
   "cell_type": "markdown",
   "id": "ef842cfc",
   "metadata": {},
   "source": [
    "По общей картине можно сделать вывод: машины с ручной коробкой передач стоили дешевле."
   ]
  },
  {
   "cell_type": "markdown",
   "id": "162a1b87",
   "metadata": {},
   "source": [
    "## Тип кузова (body)"
   ]
  },
  {
   "cell_type": "code",
   "execution_count": null,
   "id": "661b726d",
   "metadata": {},
   "outputs": [],
   "source": [
    "plot_hist(train, 'body', param_for_xtics_rotation='vertical')"
   ]
  },
  {
   "cell_type": "markdown",
   "id": "3d6a1e53",
   "metadata": {},
   "source": [
    "Популярные типы кузовоов:\n",
    "\n",
    "1. Suv - тип кузова, который сочетает в себе характеристики внедорожника и универсала. Он имеет высокую проходимость и может перевозить большое количество груза.\n",
    "\n",
    "2. Sedan - это один из типов кузова автомобиля. Он отличается от других типов кузовов тем, что имеет 2 или 4 двери, большой багажник и высокий потолок.\n",
    "\n",
    "3. Hatchback - отличается от седана тем, что у него есть задняя дверь, которая может открываться вверх или назад, как у багажника. Хэтчбеки обычно имеют более компактный размер, чем седаны, и часто используются для перевозки пассажиров и грузов.\n",
    "\n",
    "4. Minivan - это еще одна разновидность кузова автомобиля, которая отличается от седанов и хэтчбеков тем, что она имеет больше места для пассажиров и багажа. Минивэны обычно имеют 4 или 5 дверей и могут вместить до 8-9 человек"
   ]
  },
  {
   "cell_type": "code",
   "execution_count": null,
   "id": "9c66cd02",
   "metadata": {
    "scrolled": false
   },
   "outputs": [],
   "source": [
    "plot_bar(train.groupby('body')['sale_date'].count().reset_index().rename(columns={'sale_date': 'number_of_sale'}),\n",
    "         'body', 'number_of_sale', 'vertical')"
   ]
  },
  {
   "cell_type": "markdown",
   "id": "dc84a74b",
   "metadata": {},
   "source": [
    "Машины с этим типом кузовов продавались чаще."
   ]
  },
  {
   "cell_type": "markdown",
   "id": "4709ef23",
   "metadata": {},
   "source": [
    "## Состояние автомобилей на момент аукциона. (condition)"
   ]
  },
  {
   "cell_type": "code",
   "execution_count": null,
   "id": "c988b0ce",
   "metadata": {},
   "outputs": [],
   "source": [
    "plot_hist(train, 'condition')"
   ]
  },
  {
   "cell_type": "markdown",
   "id": "6d70ee3d",
   "metadata": {},
   "source": [
    "Аномалий нет. Машин с оценкой 4 больше."
   ]
  },
  {
   "cell_type": "code",
   "execution_count": null,
   "id": "b6b2319b",
   "metadata": {},
   "outputs": [],
   "source": [
    "plot_line(train.groupby('condition')['selling_price'].sum().reset_index().rename(columns={'selling_price': 'sum_price'}),\n",
    "          'condition', 'sum_price')"
   ]
  },
  {
   "cell_type": "markdown",
   "id": "ca084914",
   "metadata": {},
   "source": [
    "На графике показана зависимость цены от состояния машины. Чем выше оценка, тем выше цена. Спад цены в отметке 5 может быть обусловлен малыи количетсвом данных, или машин в очень хорошем состояние. Так же возможно, что машины с идеальными состоянием в цене значительно дороже, чем машина с состоянием \"на хорошо\". Покупатели могут выбирать золотую середину."
   ]
  },
  {
   "cell_type": "markdown",
   "id": "3340ade0",
   "metadata": {},
   "source": [
    "Введу признак отношение возраста к состоянию машины."
   ]
  },
  {
   "cell_type": "code",
   "execution_count": null,
   "id": "a4dcd3e9",
   "metadata": {},
   "outputs": [],
   "source": [
    "train['age_and_condition'] = train.progress_apply(lambda x: x['age_of_the_car'] / x['condition'], axis=1)\n",
    "test['age_and_condition'] = test.progress_apply(lambda x: x['age_of_the_car'] / x['condition'], axis=1)"
   ]
  },
  {
   "cell_type": "markdown",
   "id": "14521436",
   "metadata": {},
   "source": [
    "## Цвет кузова (color)"
   ]
  },
  {
   "cell_type": "code",
   "execution_count": null,
   "id": "805e5059",
   "metadata": {},
   "outputs": [],
   "source": [
    "plot_hist(train, 'color', 'vertical')"
   ]
  },
  {
   "cell_type": "markdown",
   "id": "5678c666",
   "metadata": {},
   "source": [
    "Основные цвета black, white, gray, silver"
   ]
  },
  {
   "cell_type": "code",
   "execution_count": null,
   "id": "fd002c97",
   "metadata": {
    "scrolled": false
   },
   "outputs": [],
   "source": [
    "plot_bar(train.groupby('color')['sale_date'].count().reset_index().rename(columns={'sale_date': 'number_of_sale'}),\n",
    "         'color', 'number_of_sale', 'vertical')"
   ]
  },
  {
   "cell_type": "markdown",
   "id": "35c59279",
   "metadata": {},
   "source": [
    "Машины с цветом кузова: black, white, gray, silver лидируют в продажах. Это могут быть стандартные цвета. А более специфичный цвет, может быть дороже, например, для премиум марок.\n",
    "\n",
    "Возможно на выбор цвета может влиять климатический пояс штата, для которого берут машину. \n",
    "\n",
    "Например, для солнечных регионов могут брать более светлые тона, что бы машина меньше нагревалась.\n",
    "\n",
    "Либо влияние на цену оказывает технологический фактор самой краски, например, она может обладать дополнительными опциями и быть сложнее в производстве.\n",
    "\n",
    "В данных присутствует значительная доля машин цвет кузова для которых восстановить корректно нельзя."
   ]
  },
  {
   "cell_type": "markdown",
   "id": "01b85610",
   "metadata": {},
   "source": [
    "## Расстояние, пройденное автомобилем с момента выпуска(odometer)"
   ]
  },
  {
   "cell_type": "code",
   "execution_count": null,
   "id": "4745aee6",
   "metadata": {
    "scrolled": false
   },
   "outputs": [],
   "source": [
    "plot_charts(train, ['odometer'])"
   ]
  },
  {
   "cell_type": "markdown",
   "id": "e5176228",
   "metadata": {},
   "source": [
    "1. Я знаю, что изучаю вторичный рынок США, а значит скорее всего расстояние измеряется в милях.\n",
    "2. Стандартное отклонение показывает большой разброс данных:\n",
    "\n",
    "   2.1 Есть значения с маленьким показатем( 1 миля и до 10 миль). "
   ]
  },
  {
   "cell_type": "code",
   "execution_count": null,
   "id": "f45a334b",
   "metadata": {
    "scrolled": false
   },
   "outputs": [],
   "source": [
    "plot_hist(train[train['odometer'] < 50], 'odometer')"
   ]
  },
  {
   "cell_type": "code",
   "execution_count": null,
   "id": "da4b034e",
   "metadata": {
    "scrolled": true
   },
   "outputs": [],
   "source": [
    "train[train['odometer'] < 50]"
   ]
  },
  {
   "cell_type": "markdown",
   "id": "eba712d0",
   "metadata": {},
   "source": [
    "Это могут быть новые машины, или машины со скрученным пробегом, или долго находящиеся в гараже, или это ошибка при выгрузке. Маленький пробег в совокупности с  еденичной оценкой автосалона, небольшим возрастом и низкой ценой так же могут означать, что мащина побывала в дтп, и выставлена на продажу после."
   ]
  },
  {
   "cell_type": "markdown",
   "id": "4e4f0dff",
   "metadata": {},
   "source": [
    "    2.2 Есть машины с высокими показателями( >200 тысяч миль)."
   ]
  },
  {
   "cell_type": "code",
   "execution_count": null,
   "id": "a4b4fc07",
   "metadata": {
    "scrolled": false
   },
   "outputs": [],
   "source": [
    "plot_hist(train[train['odometer'] > 200000], 'odometer')"
   ]
  },
  {
   "cell_type": "markdown",
   "id": "a309ebf3",
   "metadata": {},
   "source": [
    "Для некоторых машин значения близкие к 1 млн"
   ]
  },
  {
   "cell_type": "code",
   "execution_count": null,
   "id": "adebc57e",
   "metadata": {
    "scrolled": true
   },
   "outputs": [],
   "source": [
    "train[train['odometer']>400000]"
   ]
  },
  {
   "cell_type": "markdown",
   "id": "3862f7a2",
   "metadata": {},
   "source": [
    "Возможно, машину часто использовали. Но если возраст небольшой, а показатели пробега близки к млн, возникают сомнения в корректности заполнения данных или же это может быть техническая неисправность одометра."
   ]
  },
  {
   "cell_type": "markdown",
   "id": "b4531272",
   "metadata": {},
   "source": [
    "Заполнять аномалии медианным значением по группировке марка-модель, год-модель и т.п. считаю некорректным, так как это может вызвать искажение данных.\n",
    "\n",
    "Принимая во внимания все наблюдения, я решил добавить признак \"категориии пробега\". Так я избавлюсь от выбросов и большого количества значений.\n",
    "\n",
    "Так же добавлю дополнительные признак для аномально низкого пробега и аномально высокого пробега."
   ]
  },
  {
   "cell_type": "code",
   "execution_count": null,
   "id": "e69da0c2",
   "metadata": {},
   "outputs": [],
   "source": [
    "list_with_bins_for_odometer_intervals = [0,100,1000,30000,50000,100000,200000,400000,np.inf]\n",
    "\n",
    "train['odometer_categories'] = pd.cut(train['odometer'], list_with_bins_for_odometer_intervals, \n",
    "                                  labels=[1,2,3,4,5,6,7,8], include_lowest=True, right=False).astype(int)\n",
    "\n",
    "test['odometer_categories'] = pd.cut(test['odometer'], list_with_bins_for_odometer_intervals, \n",
    "                                  labels=[1,2,3,4,5,6,7,8], include_lowest=True, right=False).astype(int)"
   ]
  },
  {
   "cell_type": "code",
   "execution_count": null,
   "id": "121643ff",
   "metadata": {},
   "outputs": [],
   "source": [
    "train['is_strange_odometer'] = train['odometer'].progress_apply(lambda x:1 if ((x <= 10)|(x>700000)) else 0)\n",
    "test['is_strange_odometer'] = test['odometer'].progress_apply(lambda x:1 if ((x <= 10)|(x>700000)) else 0)"
   ]
  },
  {
   "cell_type": "code",
   "execution_count": null,
   "id": "70d198e8",
   "metadata": {
    "scrolled": false
   },
   "outputs": [],
   "source": [
    "plot_scatter(get_price_dffrnc_by_one_mdl_bsd_on_sl_ftr('odometer_categories'), 'price_for_one', 'odometer_categories', 'count')"
   ]
  },
  {
   "cell_type": "markdown",
   "id": "8f2a9eda",
   "metadata": {},
   "source": [
    "Машины с небольшим пробегом имеют более высокие оценки от автосалона и более высокую цену.\n",
    "\n",
    "Машины с большим пробегом имеют больше низких оценок и меньшую стоимость.\n",
    "\n",
    "Чем больше пробег, тем ниже цена."
   ]
  },
  {
   "cell_type": "markdown",
   "id": "eba48c25",
   "metadata": {},
   "source": [
    "Введу дополнительный признак отношение значения одометра к значниению состояния машины, и отношение значение одометра к возрасту машины."
   ]
  },
  {
   "cell_type": "code",
   "execution_count": null,
   "id": "6b5b9c87",
   "metadata": {},
   "outputs": [],
   "source": [
    "train['odometer_and_condition'] = train.progress_apply(lambda x: x['condition'] / x['odometer'], axis=1)\n",
    "train['odometer_and_age'] = train.progress_apply(lambda x: x['age_of_the_car'] / x['odometer'], axis=1)\n",
    "\n",
    "test['odometer_and_condition'] = test.progress_apply(lambda x: x['condition'] / x['odometer'], axis=1)\n",
    "test['odometer_and_age'] = test.progress_apply(lambda x: x['age_of_the_car'] / x['odometer'], axis=1)"
   ]
  },
  {
   "cell_type": "code",
   "execution_count": null,
   "id": "7ab2cf75",
   "metadata": {},
   "outputs": [],
   "source": [
    "del list_with_bins_for_odometer_intervals"
   ]
  },
  {
   "cell_type": "markdown",
   "id": "4cf8f4be",
   "metadata": {},
   "source": [
    "## Цена(price)"
   ]
  },
  {
   "cell_type": "code",
   "execution_count": null,
   "id": "55f7f33c",
   "metadata": {
    "scrolled": false
   },
   "outputs": [],
   "source": [
    "plot_charts(train, ['selling_price'])"
   ]
  },
  {
   "cell_type": "markdown",
   "id": "108041b0",
   "metadata": {},
   "source": [
    "Высокое значение стандартного отклонения означает, что в данных есть разброс. Среднее стремится в сторону выбросов.\n",
    "\n",
    "Рассмотрю значение подробнее:"
   ]
  },
  {
   "cell_type": "code",
   "execution_count": null,
   "id": "b8bfa378",
   "metadata": {
    "scrolled": false
   },
   "outputs": [],
   "source": [
    "plot_charts(train[train['selling_price'] < train['selling_price'].quantile(q=.25)], ['selling_price'])"
   ]
  },
  {
   "cell_type": "code",
   "execution_count": null,
   "id": "078d51b1",
   "metadata": {},
   "outputs": [],
   "source": [
    "train[train['selling_price']<2000]['selling_price'].sort_values(ascending=True)"
   ]
  },
  {
   "cell_type": "markdown",
   "id": "7062d2b2",
   "metadata": {},
   "source": [
    "    1. Значение равное 1 похоже на аномалию, удалю его."
   ]
  },
  {
   "cell_type": "code",
   "execution_count": null,
   "id": "f37416f0",
   "metadata": {},
   "outputs": [],
   "source": [
    "train = train[train['selling_price'] != 1]"
   ]
  },
  {
   "cell_type": "markdown",
   "id": "ee3a096a",
   "metadata": {},
   "source": [
    "    2. Значения больше 35000.\n",
    "    "
   ]
  },
  {
   "cell_type": "code",
   "execution_count": null,
   "id": "3a2f26fb",
   "metadata": {
    "scrolled": false
   },
   "outputs": [],
   "source": [
    "plot_charts(train[train['selling_price'] > train['selling_price'].quantile(q=.75)], ['selling_price'])"
   ]
  },
  {
   "cell_type": "markdown",
   "id": "30bf83ff",
   "metadata": {},
   "source": [
    "На графике видны аномалии. Рассмотрю подробнее."
   ]
  },
  {
   "cell_type": "code",
   "execution_count": null,
   "id": "010266aa",
   "metadata": {},
   "outputs": [],
   "source": [
    "train[train['selling_price']>180000]"
   ]
  },
  {
   "cell_type": "markdown",
   "id": "08260b09",
   "metadata": {},
   "source": [
    "Автомобилии люксовых брендов по помему мнению могу иметь высокую цену, цена для ford escape скорее всего аномалия. Возможно была допущена ошибка при заполнении.\n",
    "\n",
    "Сделаю группировку по маркам для медианной цены по ним, что бы увидеть общую картину."
   ]
  },
  {
   "cell_type": "code",
   "execution_count": null,
   "id": "c3069666",
   "metadata": {
    "scrolled": false
   },
   "outputs": [],
   "source": [
    "plot_hist(train[train['selling_price'] > 50000].groupby(['make','model'])['selling_price'].agg('median').reset_index(),\n",
    "          'make', 'vertical')"
   ]
  },
  {
   "cell_type": "markdown",
   "id": "9d39156b",
   "metadata": {},
   "source": [
    "Много марок авто бизнес-класса, люксовых, спортивных и внедорожников (повышенной мощности).\n",
    "\n",
    "Теперь рассмотрю модели."
   ]
  },
  {
   "cell_type": "code",
   "execution_count": null,
   "id": "2e9f3361",
   "metadata": {
    "scrolled": false
   },
   "outputs": [],
   "source": [
    "plot_scatter(train[train['selling_price'] > 50000], 'model','make', 'selling_price')"
   ]
  },
  {
   "cell_type": "markdown",
   "id": "4431a2a1",
   "metadata": {},
   "source": [
    "Цена для ford escape является неестественно завышенной. Удалю ее."
   ]
  },
  {
   "cell_type": "code",
   "execution_count": null,
   "id": "4a412bf3",
   "metadata": {},
   "outputs": [],
   "source": [
    "train.drop(train[(train['model'] == 'escape')&(train['selling_price'] > 185000)].index, inplace=True)"
   ]
  },
  {
   "cell_type": "markdown",
   "id": "c191c0a3",
   "metadata": {},
   "source": [
    "## Страна сборки (country)"
   ]
  },
  {
   "cell_type": "code",
   "execution_count": null,
   "id": "990afc31",
   "metadata": {
    "scrolled": false
   },
   "outputs": [],
   "source": [
    "plot_hist(train, 'country', 'vertical')"
   ]
  },
  {
   "cell_type": "markdown",
   "id": "b2f89970",
   "metadata": {},
   "source": [
    "На рынке лидируют в количестве машины со сборкой USA, Canada, Japan."
   ]
  },
  {
   "cell_type": "code",
   "execution_count": null,
   "id": "5cbd3637",
   "metadata": {
    "scrolled": false
   },
   "outputs": [],
   "source": [
    "plot_bar(train.groupby('country')['selling_price'].agg('sum').reset_index(), 'country', 'selling_price', 'vertical')"
   ]
  },
  {
   "cell_type": "markdown",
   "id": "4adf4c72",
   "metadata": {},
   "source": [
    "Покупатели предпочитают сборки USA, Canada, Japan, Germany6 Mexico."
   ]
  },
  {
   "cell_type": "markdown",
   "id": "f40b0200",
   "metadata": {},
   "source": [
    "## Продавец (seller)"
   ]
  },
  {
   "cell_type": "code",
   "execution_count": null,
   "id": "2e6cc55f",
   "metadata": {},
   "outputs": [],
   "source": [
    "seller_price_and_count = train.groupby('seller')['selling_price'].agg(['sum', 'count']).reset_index().rename(columns={'sum': 'sum_price'})"
   ]
  },
  {
   "cell_type": "markdown",
   "id": "55e66c3e",
   "metadata": {},
   "source": [
    "Из за большого количества наименования салонов, они не помещаются на оси, буду использовать выше написанную функцию \"get_price_dffrnc_by_one_mdl_bsd_on_sl_ftr\" для оценки влияния по выборке."
   ]
  },
  {
   "cell_type": "code",
   "execution_count": null,
   "id": "f9c5bc57",
   "metadata": {
    "scrolled": false
   },
   "outputs": [],
   "source": [
    "plot_scatter(get_price_dffrnc_by_one_mdl_bsd_on_sl_ftr('seller'), 'price_for_one', 'seller', 'count')"
   ]
  },
  {
   "cell_type": "markdown",
   "id": "44b4112b",
   "metadata": {},
   "source": [
    "Цена для одной модели с одинаковыми параметрами различается для разных салонов."
   ]
  },
  {
   "cell_type": "markdown",
   "id": "a318981e",
   "metadata": {},
   "source": [
    "## Штат, в котором сдали машину (state)"
   ]
  },
  {
   "cell_type": "code",
   "execution_count": null,
   "id": "eccfdaa2",
   "metadata": {
    "scrolled": false
   },
   "outputs": [],
   "source": [
    "plot_hist(train, 'state', 'vertical')"
   ]
  },
  {
   "cell_type": "markdown",
   "id": "cdaecc78",
   "metadata": {},
   "source": [
    "Филадельфия, Калифорния, Пенсильвания - лидеры по количеству выставленных на продажу машин."
   ]
  },
  {
   "cell_type": "markdown",
   "id": "5cf20164",
   "metadata": {},
   "source": [
    "## Уровень отделки салона(trim)"
   ]
  },
  {
   "cell_type": "code",
   "execution_count": null,
   "id": "52ca3829",
   "metadata": {
    "scrolled": false
   },
   "outputs": [],
   "source": [
    "plot_scatter(get_price_dffrnc_by_one_mdl_bsd_on_sl_ftr('trim'), 'price_for_one', 'trim', 'count')"
   ]
  },
  {
   "cell_type": "markdown",
   "id": "7e56c6a9",
   "metadata": {},
   "source": [
    "Для одной конкретной модели с одинаковыми параметрами цена в зависимости от уровня отделки салона различается. Но это не является показателем, учитывая большое количество других факторов."
   ]
  },
  {
   "cell_type": "markdown",
   "id": "bf47cc2b",
   "metadata": {},
   "source": [
    "## Цвет салона(interior) "
   ]
  },
  {
   "cell_type": "code",
   "execution_count": null,
   "id": "3e3072cf",
   "metadata": {
    "scrolled": false
   },
   "outputs": [],
   "source": [
    "plot_hist(train, 'interior', 'vertical')"
   ]
  },
  {
   "cell_type": "markdown",
   "id": "8b3a1d54",
   "metadata": {},
   "source": [
    "Цвета black и gray для салона выше по количеству на рынке."
   ]
  },
  {
   "cell_type": "code",
   "execution_count": null,
   "id": "e0585cdd",
   "metadata": {
    "scrolled": false
   },
   "outputs": [],
   "source": [
    "plot_scatter(get_price_dffrnc_by_one_mdl_bsd_on_sl_ftr('interior'), 'price_for_one', 'interior', 'count')"
   ]
  },
  {
   "cell_type": "markdown",
   "id": "d0afb497",
   "metadata": {},
   "source": [
    "По графику нельзя сделать вывод о влияние цвета на цену, но возможно есть влияние на спрос. Покупатели предпочитают более практичные цвета."
   ]
  },
  {
   "cell_type": "markdown",
   "id": "d290a12b",
   "metadata": {},
   "source": [
    "## Влияние признаков на стоимость автомобиля"
   ]
  },
  {
   "cell_type": "code",
   "execution_count": null,
   "id": "100a89db",
   "metadata": {
    "scrolled": false
   },
   "outputs": [],
   "source": [
    "plot_scatter(get_price_dffrnc_by_one_mdl_bsd_on_sl_ftr('odometer_categories'), 'price_for_one', 'odometer_categories', 'count')"
   ]
  },
  {
   "cell_type": "markdown",
   "id": "7a50cccb",
   "metadata": {},
   "source": [
    "Чем больше пробег, тем ниже цена. Покупатели предпочитают машины с низким пробегом."
   ]
  },
  {
   "cell_type": "code",
   "execution_count": null,
   "id": "1d977d34",
   "metadata": {
    "scrolled": false
   },
   "outputs": [],
   "source": [
    "plot_scatter(get_price_dffrnc_by_one_mdl_bsd_on_sl_ftr('age_of_the_car'), 'price_for_one', 'age_of_the_car', 'count')"
   ]
  },
  {
   "cell_type": "markdown",
   "id": "ceca32ac",
   "metadata": {},
   "source": [
    "Чем моложе авто, тем выше цена. Большая часть покупатели делают выбор в пользу более свежих машин, от трех до двух лет."
   ]
  },
  {
   "cell_type": "code",
   "execution_count": null,
   "id": "37a50280",
   "metadata": {
    "scrolled": false
   },
   "outputs": [],
   "source": [
    "plot_scatter(get_price_dffrnc_by_one_mdl_bsd_on_sl_ftr('color'), 'price_for_one', 'color', 'count')"
   ]
  },
  {
   "cell_type": "markdown",
   "id": "55629762",
   "metadata": {},
   "source": [
    "Нельяза сделать однозначный выбор влияние цвета кузова на цену. Но заметна тенденция к более темным тонами."
   ]
  },
  {
   "cell_type": "markdown",
   "id": "80409bbf",
   "metadata": {},
   "source": [
    "## Отчет"
   ]
  },
  {
   "cell_type": "markdown",
   "id": "29db6244",
   "metadata": {},
   "source": [
    "    1. Предоставлен вторичный рынок автомобилей США\n",
    "    2. Срез данных предоставлен за 2 года\n",
    "    3. Больше всего продаж было в 2015 году\n",
    "    4. Покупают в основм более свежие модели, выпуск с 2012-2015 год.\n",
    "    5. Основная часть покупок была в первой половине года. Покупатели предпочитали начало месяца и середину недели.\n",
    "    6. Выбирали больше машин марки ford, nissan, chevrolet, toyota. Модели с повышенной вестимостью для пассажиров и багажа, с автоматической коробкой. Цвет предпочитали темный или ближе к нему.\n",
    "    7. На цену влияет оценка автосалоном состояния машины, а так же пройденное расстояние, марка и модель, возраст авто.\n",
    "    8. Прорведенная корректировка данных, удалены аномалии.\n",
    "    9. Для некоторых признаков необходимо сделать дополнительные исследования влияния на целевой признак.\n",
    "    10. Сгенерированы новые признаки."
   ]
  },
  {
   "cell_type": "markdown",
   "id": "3a693e5f",
   "metadata": {},
   "source": [
    "# Удаление не информативных и вредных признаков."
   ]
  },
  {
   "cell_type": "code",
   "execution_count": null,
   "id": "8b20f8b7",
   "metadata": {},
   "outputs": [],
   "source": [
    "def plot_point_biserial():\n",
    "    \"\"\"Функция рисует точечно-бисериальную корреляцию\"\"\"\n",
    "    correlations_point_biserial = [] \n",
    "    train_num = train.select_dtypes(include=['int16', 'int32', 'int64', 'float16', 'float32', 'float64'])\n",
    "    for column in train_num.drop('selling_price', axis=1).columns:\n",
    "        correlations_point_biserial.append(stats.pointbiserialr(train_num[column], train_num['selling_price'])[0])\n",
    "    df_with_point_biserial_corr = pd.DataFrame({'column': train_num.drop('selling_price', axis=1).columns.tolist(),\n",
    "                                                'correlation point biserial': correlations_point_biserial}) \\\n",
    "                                                .set_index('column')\n",
    "\n",
    "    fig, ax = plt.subplots(figsize=(30,17))\n",
    "    plt.title('Точечно-бисериальная корреляция.', fontsize=20)\n",
    "    sns.heatmap(df_with_point_biserial_corr,\n",
    "                annot=True,\n",
    "                cmap=\"coolwarm\",\n",
    "                fmt='.2g',\n",
    "                linewidth=4)\n",
    "    plt.ylabel('Признаки')\n",
    "    plt.xlabel('Значения')\n",
    "    plt.grid(True)"
   ]
  },
  {
   "cell_type": "code",
   "execution_count": null,
   "id": "682bc82b",
   "metadata": {},
   "outputs": [],
   "source": [
    "def plot_pirson_map():\n",
    "    \"\"\"Функция рисует тепловую карту для корреляции Пирсона\"\"\"\n",
    "    fig, ax = plt.subplots(figsize=(20,12))\n",
    "    plt.title('Корреляция Пирсона.', fontsize=20)\n",
    "    sns.heatmap(train.corr(), annot=True, cmap=\"coolwarm\",  fmt='.2g', linewidth=4)\n",
    "    plt.grid(True);"
   ]
  },
  {
   "cell_type": "markdown",
   "id": "28afe84f",
   "metadata": {},
   "source": [
    "    В первую очередь будут удалены признаки:\n",
    "        - sale_date: основная информация из этой колонки уже извлечена\n",
    "        - vin: не информативен для будущей модели\n",
    "        - seller: слишком много значений, в том числе уникальных и не пересикающихся для каждого набора. \n",
    "        Кодирование такого количества не только замедлит работу модели, но и создаст шум, который может превести к \n",
    "        недообучению. Возможно стоит использовать другой метод извлечения информации из признака.\n",
    "        - state: Считаю признак не информативным."
   ]
  },
  {
   "cell_type": "code",
   "execution_count": null,
   "id": "4ff85685",
   "metadata": {},
   "outputs": [],
   "source": [
    "columns_to_drop = ['sale_date', 'vin', 'seller', 'state']\n",
    "train.drop(columns_to_drop, axis=1, inplace=True)\n",
    "test.drop(columns_to_drop, axis=1, inplace=True)"
   ]
  },
  {
   "cell_type": "markdown",
   "id": "2b25c433",
   "metadata": {},
   "source": [
    "Я принял решение, попробовать несколько моделей. Заранее сделаю копию для более сложной модели."
   ]
  },
  {
   "cell_type": "code",
   "execution_count": null,
   "id": "901c920a",
   "metadata": {},
   "outputs": [],
   "source": [
    "train_for_cat = train.copy(deep=True)\n",
    "test_for_cat = test.copy(deep=True)"
   ]
  },
  {
   "cell_type": "markdown",
   "id": "c803cda4",
   "metadata": {},
   "source": [
    "Посмотрим на корреляцию"
   ]
  },
  {
   "cell_type": "code",
   "execution_count": null,
   "id": "f1f1e020",
   "metadata": {},
   "outputs": [],
   "source": [
    "plot_pirson_map()"
   ]
  },
  {
   "cell_type": "code",
   "execution_count": null,
   "id": "05f7a851",
   "metadata": {},
   "outputs": [],
   "source": [
    "plot_point_biserial()"
   ]
  },
  {
   "cell_type": "markdown",
   "id": "2cefd173",
   "metadata": {},
   "source": [
    "    Удалю:\n",
    "    - year: из за мультиколлинеарности\n",
    "    - month_sale: как слабый признак\n",
    "    - odometer_and_age и number_of_owners: из за мультиколлинеарности "
   ]
  },
  {
   "cell_type": "code",
   "execution_count": null,
   "id": "bba09a83",
   "metadata": {},
   "outputs": [],
   "source": [
    "columns_to_drop = ['year', 'month_sale', 'odometer_and_age', 'number_of_owners']\n",
    "train.drop(columns_to_drop, axis=1, inplace=True)\n",
    "test.drop(columns_to_drop, axis=1, inplace=True)"
   ]
  },
  {
   "cell_type": "code",
   "execution_count": null,
   "id": "ab7f398e",
   "metadata": {},
   "outputs": [],
   "source": [
    "del columns_to_drop"
   ]
  },
  {
   "cell_type": "markdown",
   "id": "15cf3413",
   "metadata": {},
   "source": [
    "# Кодирование признаков"
   ]
  },
  {
   "cell_type": "markdown",
   "id": "f088b2cf",
   "metadata": {},
   "source": [
    "В наборе присутствуют признаки разных типов. Данные буду кодировать с помощью прямого  и OrdinalEncoder."
   ]
  },
  {
   "cell_type": "code",
   "execution_count": null,
   "id": "b01be26b",
   "metadata": {},
   "outputs": [],
   "source": [
    "for column in ['country', 'color', 'body', 'make', 'model', 'transmission', 'season', 'interior', 'trim']:    \n",
    "    encoder = OrdinalEncoder(handle_unknown='use_encoded_value', unknown_value=-1)\n",
    "    encoder.fit(train[column].values.reshape(-1,1))\n",
    "    train[column] = encoder.transform(train[column].values.reshape(-1,1))\n",
    "    test[column] = encoder.transform(test[column].values.reshape(-1,1))"
   ]
  },
  {
   "cell_type": "code",
   "execution_count": null,
   "id": "a2255635",
   "metadata": {},
   "outputs": [],
   "source": [
    "del encoder, column"
   ]
  },
  {
   "cell_type": "markdown",
   "id": "ea388319",
   "metadata": {},
   "source": [
    "# Масштабизация"
   ]
  },
  {
   "cell_type": "code",
   "execution_count": null,
   "id": "51e7fa2f",
   "metadata": {},
   "outputs": [],
   "source": [
    "scaler = RobustScaler()\n",
    "for column in train.drop('selling_price', axis=1).columns.tolist():\n",
    "    train[column] = scaler.fit_transform(train[column].values.reshape(-1, 1))\n",
    "    test[column] = scaler.transform(test[column].values.reshape(-1, 1))"
   ]
  },
  {
   "cell_type": "code",
   "execution_count": null,
   "id": "10299291",
   "metadata": {},
   "outputs": [],
   "source": [
    "del scaler"
   ]
  },
  {
   "cell_type": "markdown",
   "id": "ab918c31",
   "metadata": {},
   "source": [
    "# Подготовка целевого признака"
   ]
  },
  {
   "cell_type": "code",
   "execution_count": null,
   "id": "9b19d032",
   "metadata": {},
   "outputs": [],
   "source": [
    "target_train = train['selling_price']\n",
    "train.drop('selling_price', axis=1, inplace=True)"
   ]
  },
  {
   "cell_type": "markdown",
   "id": "e14c331f",
   "metadata": {},
   "source": [
    "# LinearRegression"
   ]
  },
  {
   "cell_type": "markdown",
   "id": "57cd71a6",
   "metadata": {},
   "source": [
    "Начну с LinearRegression, посмотрим метрику на всех признаках."
   ]
  },
  {
   "cell_type": "code",
   "execution_count": null,
   "id": "5aea3425",
   "metadata": {},
   "outputs": [],
   "source": [
    "updated_train = csr_matrix(train.values)\n",
    "\n",
    "x_train, x_test, y_train, y_test = train_test_split(updated_train, target_train, \n",
    "                                                    test_size=0.3, \n",
    "                                                    random_state=42)"
   ]
  },
  {
   "cell_type": "code",
   "execution_count": null,
   "id": "c02fc043",
   "metadata": {},
   "outputs": [],
   "source": [
    "model = LinearRegression()\n",
    "model.fit(x_train, y_train)\n",
    "results = {'Модель' : 'LR',\n",
    "           'Значение MAPE на всех признаках' : pd.Series(mean_absolute_percentage_error(y_test, model.predict(x_test)))}\n",
    "\n",
    "display(pd.DataFrame(results).style.highlight_min(color='red',axis=0).highlight_max(color='lightblue',axis=0))"
   ]
  },
  {
   "cell_type": "markdown",
   "id": "90ab642f",
   "metadata": {},
   "source": [
    "Посмотрим на значение признаков для модели"
   ]
  },
  {
   "cell_type": "code",
   "execution_count": null,
   "id": "ef9ea94a",
   "metadata": {},
   "outputs": [],
   "source": [
    "pd.DataFrame(data={'Признака': train.columns,\n",
    "                   'Коэффицент': model.coef_.flatten()})"
   ]
  },
  {
   "cell_type": "markdown",
   "id": "12e84a98",
   "metadata": {},
   "source": [
    "Высокие значения могут говорить о том, что модель переобучается, а слишком маленькие (0,02 и т.п.), что для модели они не важны."
   ]
  },
  {
   "cell_type": "markdown",
   "id": "56754062",
   "metadata": {},
   "source": [
    "Удалю некоторые признаки и посмотрю, как это повлияло на метрику."
   ]
  },
  {
   "cell_type": "code",
   "execution_count": null,
   "id": "e16d9e88",
   "metadata": {},
   "outputs": [],
   "source": [
    "train.drop(['interior', 'make', 'body', 'model', 'trim', 'is_strange_odometer', 'season', 'transmission', 'color'],axis=1, inplace=True)\n",
    "updated_train = csr_matrix(train.values)\n",
    "x_train, x_test, y_train, y_test = train_test_split(updated_train, target_train, \n",
    "                                                    test_size=0.3, \n",
    "                                                    random_state=42)"
   ]
  },
  {
   "cell_type": "code",
   "execution_count": null,
   "id": "4e1e2bbd",
   "metadata": {},
   "outputs": [],
   "source": [
    "model = LinearRegression()\n",
    "model.fit(x_train, y_train)\n",
    "results['Значение MAPE после удаления части признаков']= pd.Series(mean_absolute_percentage_error(y_test, model.predict(x_test)))\n",
    "display(pd.DataFrame(results).style.highlight_min(color='red',axis=0).highlight_max(color='lightblue',axis=0))"
   ]
  },
  {
   "cell_type": "markdown",
   "id": "89a42a8e",
   "metadata": {},
   "source": [
    "Метрика ухудшилась, результат слабый. Возможно OrdinalEncoder создал избыточную взаимосвязь.\n",
    "\n",
    "Теперь попробую более сложную модель, CatBoostRegressor."
   ]
  },
  {
   "cell_type": "code",
   "execution_count": null,
   "id": "ae3a6d80",
   "metadata": {},
   "outputs": [],
   "source": [
    "del model, results, train, test"
   ]
  },
  {
   "cell_type": "markdown",
   "id": "1b06fc71",
   "metadata": {},
   "source": [
    "# CatBoostRegressor"
   ]
  },
  {
   "cell_type": "code",
   "execution_count": null,
   "id": "b06ded41",
   "metadata": {},
   "outputs": [],
   "source": [
    "train_for_cat.drop(['country', 'selling_price'], axis=1, inplace=True)\n",
    "test_for_cat.drop(['country'], axis=1, inplace=True)\n",
    "cat = ['make','model', 'trim', 'body', 'color', 'interior', 'season', 'is_strange_odometer', 'transmission']"
   ]
  },
  {
   "cell_type": "code",
   "execution_count": null,
   "id": "386714fb",
   "metadata": {},
   "outputs": [],
   "source": [
    "cat_for_search = CatBoostRegressor(loss_function='RMSE',\n",
    "                                    eval_metric='MAPE',\n",
    "                                    verbose=False,\n",
    "                                    early_stopping_rounds=300,\n",
    "                                    iterations=5000,\n",
    "                                    learning_rate=0.05,\n",
    "                                    random_state=42)\n",
    "\n",
    "params = {'depth': [5,10], 'l2_leaf_reg': [6,9]}\n",
    "grid = cat_for_search.grid_search(params, Pool(train_for_cat, target_train, cat_features=cat),\n",
    "                                  shuffle=True, cv=3, verbose=False,  plot=False)"
   ]
  },
  {
   "cell_type": "code",
   "execution_count": null,
   "id": "63e700ba",
   "metadata": {},
   "outputs": [],
   "source": [
    "best_model = CatBoostRegressor(depth=10,\n",
    "                               l2_leaf_reg=10,\n",
    "                               loss_function='RMSE',\n",
    "                               eval_metric='MAPE',\n",
    "                               early_stopping_rounds=300,\n",
    "                               learning_rate=0.05,\n",
    "                               random_seed=42,\n",
    "                               verbose=False)\n",
    "\n",
    "best_model.fit(Pool(train_for_cat, target_train, cat_features=cat))"
   ]
  },
  {
   "cell_type": "code",
   "execution_count": null,
   "id": "4952a5bf",
   "metadata": {},
   "outputs": [],
   "source": [
    "best_model.best_score_"
   ]
  },
  {
   "cell_type": "markdown",
   "id": "0dda88a5",
   "metadata": {},
   "source": [
    "Результат заметно улудшился."
   ]
  },
  {
   "cell_type": "markdown",
   "id": "2bdc074f",
   "metadata": {},
   "source": [
    "# Анализ признаков"
   ]
  },
  {
   "cell_type": "code",
   "execution_count": null,
   "id": "df08c8bf",
   "metadata": {},
   "outputs": [],
   "source": [
    "features_for_cat = best_model.get_feature_importance(prettified = True)"
   ]
  },
  {
   "cell_type": "code",
   "execution_count": null,
   "id": "e3a37cc9",
   "metadata": {},
   "outputs": [],
   "source": [
    "plt.figure(figsize=[15, 7])\n",
    "sns.set_style('darkgrid')\n",
    "plt.title('ЗНАЧИМОСТЬ ПРИЗНАКОВ.', fontsize=15)\n",
    "splot = sns.barplot(x='Feature Id', y='Importances', data=features_for_cat.reset_index())\n",
    "for p in splot.patches:\n",
    "    splot.annotate(format(p.get_height(), '.2f'), \n",
    "                   (p.get_x() + p.get_width() / 2., p.get_height()), \n",
    "                   ha = 'center', va = 'center', \n",
    "                   xytext = (0, 9), \n",
    "                   textcoords = 'offset points')\n",
    "plt.tick_params(axis='both', which='major', labelsize=10)\n",
    "plt.ylabel('Показатель', fontsize=13)\n",
    "plt.xlabel('Признаки', fontsize=13)\n",
    "plt.xticks(rotation=90);"
   ]
  },
  {
   "cell_type": "markdown",
   "id": "20eb117c",
   "metadata": {},
   "source": [
    "Значимую роль играет марка, модель, состояние машины и пробег."
   ]
  },
  {
   "cell_type": "markdown",
   "id": "5242cf4e",
   "metadata": {},
   "source": [
    "# Итоговая модель"
   ]
  },
  {
   "cell_type": "markdown",
   "id": "ed04de87",
   "metadata": {},
   "source": [
    "Признаки с коэффицентом ниже 3.6 слабозначимы для модели. Удалим их и посмотрим на качество"
   ]
  },
  {
   "cell_type": "code",
   "execution_count": null,
   "id": "278c43ee",
   "metadata": {},
   "outputs": [],
   "source": [
    "importances_features = features_for_cat.set_index('Feature Id').query('Importances > 3.6')"
   ]
  },
  {
   "cell_type": "code",
   "execution_count": null,
   "id": "90b1c091",
   "metadata": {},
   "outputs": [],
   "source": [
    "best_model = CatBoostRegressor(depth=10,\n",
    "                               l2_leaf_reg=10,\n",
    "                               loss_function='RMSE',\n",
    "                               eval_metric='MAPE',\n",
    "                               early_stopping_rounds=300,\n",
    "                               learning_rate=0.05,\n",
    "                               random_seed=42,\n",
    "                               verbose=False)\n",
    "\n",
    "best_model.fit(Pool(train_for_cat[importances_features.index], target_train, cat_features=['make', 'body', 'model', 'trim']))"
   ]
  },
  {
   "cell_type": "code",
   "execution_count": null,
   "id": "c49c6367",
   "metadata": {},
   "outputs": [],
   "source": [
    "best_model.best_score_"
   ]
  },
  {
   "cell_type": "markdown",
   "id": "37b918d2",
   "metadata": {},
   "source": [
    "Метрика незначительно улучшилась."
   ]
  },
  {
   "cell_type": "code",
   "execution_count": null,
   "id": "3e5a1ed8",
   "metadata": {},
   "outputs": [],
   "source": [
    "predictions = best_model.predict(test_for_cat[importances_features.index])"
   ]
  },
  {
   "cell_type": "code",
   "execution_count": null,
   "id": "498bac21",
   "metadata": {},
   "outputs": [],
   "source": [
    "submission = pd.read_csv(\"/Users/greygreywolf/Downloads/used-cars-price-prediction-22ds/sample_submission.csv\")\n",
    "submission['sellingprice'] = predictions\n",
    "filename = '/Users/greygreywolf/Downloads/car_price_predict.csv'\n",
    "submission.to_csv(filename, index=False)"
   ]
  },
  {
   "cell_type": "markdown",
   "id": "50cdd425",
   "metadata": {},
   "source": [
    "# Итоговый отчет"
   ]
  },
  {
   "cell_type": "markdown",
   "id": "fff20075",
   "metadata": {},
   "source": [
    "    - Проведена предобработка данных: заполнены пропуски, удалены дубликаты, скорректирован формат данных.\n",
    "    - Проведен исследовательский анализ: данные исследованы, выявлены закономерности, удалены аномалии,\n",
    "    сгенерированы новые признаки.\n",
    "    - Проведен анализ признаков на мультиколлинеарность\n",
    "    - Выбрана модель\n",
    "    - Проведен анализ значимости признаков для модели"
   ]
  },
  {
   "cell_type": "markdown",
   "id": "f4dc5b67",
   "metadata": {},
   "source": [
    "# Итоговый вывод"
   ]
  },
  {
   "cell_type": "markdown",
   "id": "34c9777b",
   "metadata": {},
   "source": [
    "    Покупатели отдают предпочтение:\n",
    "    - большим машина с хорошей вместимостью\n",
    "    - в хорошем состоянии, но не отличном\n",
    "    - с небольшим пробегом\n",
    "    - не моложе года, что бы не переплачивать, но и не слишком старые"
   ]
  },
  {
   "cell_type": "markdown",
   "id": "6567cc74",
   "metadata": {},
   "source": [
    "Цена на машину зависит не только от бренда и модели, но и от состояния, возраста и пробега. \n",
    "Любое увеличение одно из параметров в \"лучшую сторону\" сопряжено с ростом цены, тогда снижение показывает обратную тенденцию.\n",
    "Покупатели стараются найти золотую середину. Возможно поэтому им так важно техническое состояние машины, пусть не идеальное, но в тоже время есть возможность выиграть в цене."
   ]
  }
 ],
 "metadata": {
  "kernelspec": {
   "display_name": "Python 3 (ipykernel)",
   "language": "python",
   "name": "python3"
  },
  "language_info": {
   "codemirror_mode": {
    "name": "ipython",
    "version": 3
   },
   "file_extension": ".py",
   "mimetype": "text/x-python",
   "name": "python",
   "nbconvert_exporter": "python",
   "pygments_lexer": "ipython3",
   "version": "3.9.16"
  }
 },
 "nbformat": 4,
 "nbformat_minor": 5
}
